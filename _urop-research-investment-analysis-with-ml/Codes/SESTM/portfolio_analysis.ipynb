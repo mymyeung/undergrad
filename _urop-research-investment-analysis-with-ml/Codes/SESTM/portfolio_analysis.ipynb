{
 "cells": [
  {
   "cell_type": "markdown",
   "metadata": {},
   "source": [
    "# Portfolio Analysis\n",
    "Investment Analysis with Machine Learning\\\n",
    "UROP 1100E (Man Yin Michael YEUNG, 2021 Fall)"
   ]
  },
  {
   "cell_type": "markdown",
   "metadata": {},
   "source": [
    "## Monthly and 5d Return Preprocessing"
   ]
  },
  {
   "cell_type": "code",
   "execution_count": 1,
   "metadata": {},
   "outputs": [],
   "source": [
    "import pandas as pd; import numpy as np\n",
    "from IPython.display import clear_output"
   ]
  },
  {
   "cell_type": "code",
   "execution_count": 2,
   "metadata": {},
   "outputs": [],
   "source": [
    "msf = pd.read_csv('C:/UROP/full_version_data/msf.csv') # MSF data provided"
   ]
  },
  {
   "cell_type": "code",
   "execution_count": 5,
   "metadata": {},
   "outputs": [],
   "source": [
    "dsf = pd.read_parquet('C:/Users/YMYM/Desktop/UROP1100/codes/dsf.parquet.gzip') # DSF data provided"
   ]
  },
  {
   "cell_type": "code",
   "execution_count": 3,
   "metadata": {},
   "outputs": [
    {
     "data": {
      "text/html": [
       "<div>\n",
       "<style scoped>\n",
       "    .dataframe tbody tr th:only-of-type {\n",
       "        vertical-align: middle;\n",
       "    }\n",
       "\n",
       "    .dataframe tbody tr th {\n",
       "        vertical-align: top;\n",
       "    }\n",
       "\n",
       "    .dataframe thead th {\n",
       "        text-align: right;\n",
       "    }\n",
       "</style>\n",
       "<table border=\"1\" class=\"dataframe\">\n",
       "  <thead>\n",
       "    <tr style=\"text-align: right;\">\n",
       "      <th></th>\n",
       "      <th>SecuCode</th>\n",
       "      <th>SecuAbbr</th>\n",
       "      <th>date</th>\n",
       "      <th>prc</th>\n",
       "      <th>dvol</th>\n",
       "      <th>Adjfac</th>\n",
       "      <th>ret</th>\n",
       "      <th>AFloats</th>\n",
       "      <th>TotalShares</th>\n",
       "      <th>rvol20d</th>\n",
       "      <th>...</th>\n",
       "      <th>pret20d</th>\n",
       "      <th>pret60d</th>\n",
       "      <th>pret125d</th>\n",
       "      <th>pret250d</th>\n",
       "      <th>float</th>\n",
       "      <th>totcap</th>\n",
       "      <th>indcode</th>\n",
       "      <th>indname</th>\n",
       "      <th>specret</th>\n",
       "      <th>sturn</th>\n",
       "    </tr>\n",
       "  </thead>\n",
       "  <tbody>\n",
       "    <tr>\n",
       "      <th>0</th>\n",
       "      <td>1</td>\n",
       "      <td>平安银行</td>\n",
       "      <td>2000-03-31</td>\n",
       "      <td>18.37</td>\n",
       "      <td>1.319892e+08</td>\n",
       "      <td>20.4319</td>\n",
       "      <td>NaN</td>\n",
       "      <td>1.071634e+09</td>\n",
       "      <td>1.551847e+09</td>\n",
       "      <td>NaN</td>\n",
       "      <td>...</td>\n",
       "      <td>NaN</td>\n",
       "      <td>NaN</td>\n",
       "      <td>NaN</td>\n",
       "      <td>NaN</td>\n",
       "      <td>1.968592e+10</td>\n",
       "      <td>2.850743e+10</td>\n",
       "      <td>SW480000</td>\n",
       "      <td>Banking</td>\n",
       "      <td>NaN</td>\n",
       "      <td>0.006699</td>\n",
       "    </tr>\n",
       "    <tr>\n",
       "      <th>1</th>\n",
       "      <td>1</td>\n",
       "      <td>平安银行</td>\n",
       "      <td>2000-04-28</td>\n",
       "      <td>19.05</td>\n",
       "      <td>3.897907e+09</td>\n",
       "      <td>20.4319</td>\n",
       "      <td>0.037017</td>\n",
       "      <td>1.071634e+09</td>\n",
       "      <td>1.551847e+09</td>\n",
       "      <td>0.012733</td>\n",
       "      <td>...</td>\n",
       "      <td>0.037017</td>\n",
       "      <td>NaN</td>\n",
       "      <td>NaN</td>\n",
       "      <td>NaN</td>\n",
       "      <td>2.041464e+10</td>\n",
       "      <td>2.956269e+10</td>\n",
       "      <td>SW480000</td>\n",
       "      <td>Banking</td>\n",
       "      <td>NaN</td>\n",
       "      <td>0.190640</td>\n",
       "    </tr>\n",
       "    <tr>\n",
       "      <th>2</th>\n",
       "      <td>1</td>\n",
       "      <td>平安银行</td>\n",
       "      <td>2000-05-31</td>\n",
       "      <td>18.00</td>\n",
       "      <td>1.779608e+09</td>\n",
       "      <td>20.4319</td>\n",
       "      <td>-0.055118</td>\n",
       "      <td>1.071634e+09</td>\n",
       "      <td>1.551847e+09</td>\n",
       "      <td>0.014723</td>\n",
       "      <td>...</td>\n",
       "      <td>-0.059070</td>\n",
       "      <td>NaN</td>\n",
       "      <td>NaN</td>\n",
       "      <td>NaN</td>\n",
       "      <td>1.928942e+10</td>\n",
       "      <td>2.793325e+10</td>\n",
       "      <td>SW480000</td>\n",
       "      <td>Banking</td>\n",
       "      <td>NaN</td>\n",
       "      <td>0.091453</td>\n",
       "    </tr>\n",
       "  </tbody>\n",
       "</table>\n",
       "<p>3 rows × 26 columns</p>\n",
       "</div>"
      ],
      "text/plain": [
       "   SecuCode SecuAbbr        date    prc          dvol   Adjfac       ret  \\\n",
       "0         1     平安银行  2000-03-31  18.37  1.319892e+08  20.4319       NaN   \n",
       "1         1     平安银行  2000-04-28  19.05  3.897907e+09  20.4319  0.037017   \n",
       "2         1     平安银行  2000-05-31  18.00  1.779608e+09  20.4319 -0.055118   \n",
       "\n",
       "        AFloats   TotalShares   rvol20d  ...   pret20d  pret60d  pret125d  \\\n",
       "0  1.071634e+09  1.551847e+09       NaN  ...       NaN      NaN       NaN   \n",
       "1  1.071634e+09  1.551847e+09  0.012733  ...  0.037017      NaN       NaN   \n",
       "2  1.071634e+09  1.551847e+09  0.014723  ... -0.059070      NaN       NaN   \n",
       "\n",
       "   pret250d         float        totcap   indcode  indname  specret     sturn  \n",
       "0       NaN  1.968592e+10  2.850743e+10  SW480000  Banking      NaN  0.006699  \n",
       "1       NaN  2.041464e+10  2.956269e+10  SW480000  Banking      NaN  0.190640  \n",
       "2       NaN  1.928942e+10  2.793325e+10  SW480000  Banking      NaN  0.091453  \n",
       "\n",
       "[3 rows x 26 columns]"
      ]
     },
     "execution_count": 3,
     "metadata": {},
     "output_type": "execute_result"
    }
   ],
   "source": [
    "msf.head(3)"
   ]
  },
  {
   "cell_type": "code",
   "execution_count": 4,
   "metadata": {},
   "outputs": [],
   "source": [
    "msf['month'] = msf['date'].map(lambda x: x[:7])"
   ]
  },
  {
   "cell_type": "code",
   "execution_count": 6,
   "metadata": {},
   "outputs": [],
   "source": [
    "dsf= dsf[['SecuCode','date','specret']].dropna().reset_index().drop(columns=['index'])"
   ]
  },
  {
   "cell_type": "code",
   "execution_count": 7,
   "metadata": {},
   "outputs": [
    {
     "data": {
      "text/html": [
       "<div>\n",
       "<style scoped>\n",
       "    .dataframe tbody tr th:only-of-type {\n",
       "        vertical-align: middle;\n",
       "    }\n",
       "\n",
       "    .dataframe tbody tr th {\n",
       "        vertical-align: top;\n",
       "    }\n",
       "\n",
       "    .dataframe thead th {\n",
       "        text-align: right;\n",
       "    }\n",
       "</style>\n",
       "<table border=\"1\" class=\"dataframe\">\n",
       "  <thead>\n",
       "    <tr style=\"text-align: right;\">\n",
       "      <th></th>\n",
       "      <th>SecuCode</th>\n",
       "      <th>date</th>\n",
       "      <th>specret</th>\n",
       "      <th>specret_t+1</th>\n",
       "      <th>specret_t+2</th>\n",
       "      <th>specret_t+3</th>\n",
       "      <th>specret_t+4</th>\n",
       "      <th>specret_t+5</th>\n",
       "    </tr>\n",
       "  </thead>\n",
       "  <tbody>\n",
       "    <tr>\n",
       "      <th>0</th>\n",
       "      <td>000876</td>\n",
       "      <td>2001-04-16</td>\n",
       "      <td>-0.015848</td>\n",
       "      <td>0.026132</td>\n",
       "      <td>-0.015259</td>\n",
       "      <td>0.004399</td>\n",
       "      <td>-0.025726</td>\n",
       "      <td>-0.012984</td>\n",
       "    </tr>\n",
       "    <tr>\n",
       "      <th>1</th>\n",
       "      <td>000425</td>\n",
       "      <td>2001-04-16</td>\n",
       "      <td>-0.001941</td>\n",
       "      <td>0.036524</td>\n",
       "      <td>0.013614</td>\n",
       "      <td>0.009816</td>\n",
       "      <td>0.029656</td>\n",
       "      <td>0.005790</td>\n",
       "    </tr>\n",
       "    <tr>\n",
       "      <th>2</th>\n",
       "      <td>600800</td>\n",
       "      <td>2001-04-16</td>\n",
       "      <td>-0.014478</td>\n",
       "      <td>-0.015178</td>\n",
       "      <td>0.003704</td>\n",
       "      <td>0.013818</td>\n",
       "      <td>0.014727</td>\n",
       "      <td>0.045301</td>\n",
       "    </tr>\n",
       "    <tr>\n",
       "      <th>3</th>\n",
       "      <td>000831</td>\n",
       "      <td>2001-04-16</td>\n",
       "      <td>-0.009161</td>\n",
       "      <td>-0.011471</td>\n",
       "      <td>0.005515</td>\n",
       "      <td>0.009337</td>\n",
       "      <td>-0.005023</td>\n",
       "      <td>0.002681</td>\n",
       "    </tr>\n",
       "    <tr>\n",
       "      <th>4</th>\n",
       "      <td>600694</td>\n",
       "      <td>2001-04-16</td>\n",
       "      <td>0.001786</td>\n",
       "      <td>-0.004309</td>\n",
       "      <td>-0.011374</td>\n",
       "      <td>-0.008585</td>\n",
       "      <td>-0.000338</td>\n",
       "      <td>-0.005862</td>\n",
       "    </tr>\n",
       "  </tbody>\n",
       "</table>\n",
       "</div>"
      ],
      "text/plain": [
       "  SecuCode        date   specret  specret_t+1  specret_t+2  specret_t+3  \\\n",
       "0   000876  2001-04-16 -0.015848     0.026132    -0.015259     0.004399   \n",
       "1   000425  2001-04-16 -0.001941     0.036524     0.013614     0.009816   \n",
       "2   600800  2001-04-16 -0.014478    -0.015178     0.003704     0.013818   \n",
       "3   000831  2001-04-16 -0.009161    -0.011471     0.005515     0.009337   \n",
       "4   600694  2001-04-16  0.001786    -0.004309    -0.011374    -0.008585   \n",
       "\n",
       "   specret_t+4  specret_t+5  \n",
       "0    -0.025726    -0.012984  \n",
       "1     0.029656     0.005790  \n",
       "2     0.014727     0.045301  \n",
       "3    -0.005023     0.002681  \n",
       "4    -0.000338    -0.005862  "
      ]
     },
     "execution_count": 7,
     "metadata": {},
     "output_type": "execute_result"
    }
   ],
   "source": [
    "dsf.date = dsf.date.map(lambda x: x.strftime('%Y-%m-%d'))\n",
    "date_list = list(dsf.date.unique())\n",
    "for dt in range(1,6):\n",
    "    prev_trade_date_dict = dict()\n",
    "    for index in range(1,len(date_list)):\n",
    "        print(dt, index); clear_output(wait=True)\n",
    "        prev_trade_date_dict[date_list[index]] = date_list[index-dt]\n",
    "    price_data_copy = dsf.copy().loc[dsf.date != date_list[0]]\n",
    "    price_data_copy.date = price_data_copy.date.map(lambda x: prev_trade_date_dict[x])\n",
    "    price_data_copy = price_data_copy.rename(columns={'specret':'specret_t+{Dt}'.format(Dt=dt)})\n",
    "    dsf = pd.merge(dsf, price_data_copy[['SecuCode','date','specret_t+{Dt}'.format(Dt=dt)]],\\\n",
    "                          how = 'inner', on = ['SecuCode','date'])\n",
    "dsf.head()"
   ]
  },
  {
   "cell_type": "code",
   "execution_count": 8,
   "metadata": {},
   "outputs": [],
   "source": [
    "dsf['specret_tp1-tp5'] = dsf['specret_t+1'] + dsf['specret_t+2'] + dsf['specret_t+3'] + dsf['specret_t+4'] + dsf['specret_t+5']"
   ]
  },
  {
   "cell_type": "code",
   "execution_count": 9,
   "metadata": {},
   "outputs": [],
   "source": [
    "dsf['SecuCode'] = dsf['SecuCode'].map(int)\n",
    "msf['SecuCode'] = msf['SecuCode'].map(int)"
   ]
  },
  {
   "cell_type": "code",
   "execution_count": 11,
   "metadata": {},
   "outputs": [],
   "source": [
    "def get_prev_month(mstr):\n",
    "    year = mstr[:4]; month = mstr[-2:]\n",
    "    if int(month) == 1: return str(int(year)-1)+'-12'\n",
    "    elif int(month) > 10: return str(year)+'-'+str(int(month)-1)\n",
    "    else: return str(year)+'-0'+str(int(month)-1)\n",
    "def get_next_month(mstr):\n",
    "    year = mstr[:4]; month = mstr[-2:]\n",
    "    if int(month) == 12: return str(int(year)+1)+'-01'\n",
    "    elif int(month) > 8: return str(year)+'-'+str(int(month)+1)\n",
    "    else: return str(year)+'-0'+str(int(month)+1)"
   ]
  },
  {
   "cell_type": "code",
   "execution_count": 12,
   "metadata": {},
   "outputs": [],
   "source": [
    "msf['month'] = msf['month'].map(get_prev_month)"
   ]
  },
  {
   "cell_type": "code",
   "execution_count": 13,
   "metadata": {},
   "outputs": [],
   "source": [
    "dsf['SecuCode'] = dsf['SecuCode'].map(int)"
   ]
  },
  {
   "cell_type": "code",
   "execution_count": 14,
   "metadata": {},
   "outputs": [],
   "source": [
    "month_end_dates = list(msf['date'])"
   ]
  },
  {
   "cell_type": "code",
   "execution_count": 15,
   "metadata": {},
   "outputs": [],
   "source": [
    "dsf = dsf[['SecuCode','date','specret_tp1-tp5']].loc[dsf['date'].isin(month_end_dates)]"
   ]
  },
  {
   "cell_type": "code",
   "execution_count": 16,
   "metadata": {},
   "outputs": [],
   "source": [
    "dsf['month'] = dsf['date'].map(lambda x: x[:7])"
   ]
  },
  {
   "cell_type": "code",
   "execution_count": 17,
   "metadata": {},
   "outputs": [],
   "source": [
    "msf = msf[['SecuCode','month','ret']].groupby(['SecuCode','month']).median().join(dsf[['SecuCode','month','specret_tp1-tp5']].groupby(['SecuCode','month']).median(),how='outer').dropna()"
   ]
  },
  {
   "cell_type": "code",
   "execution_count": 18,
   "metadata": {},
   "outputs": [],
   "source": [
    "msf = msf.reset_index()"
   ]
  },
  {
   "cell_type": "code",
   "execution_count": 19,
   "metadata": {},
   "outputs": [
    {
     "data": {
      "text/html": [
       "<div>\n",
       "<style scoped>\n",
       "    .dataframe tbody tr th:only-of-type {\n",
       "        vertical-align: middle;\n",
       "    }\n",
       "\n",
       "    .dataframe tbody tr th {\n",
       "        vertical-align: top;\n",
       "    }\n",
       "\n",
       "    .dataframe thead th {\n",
       "        text-align: right;\n",
       "    }\n",
       "</style>\n",
       "<table border=\"1\" class=\"dataframe\">\n",
       "  <thead>\n",
       "    <tr style=\"text-align: right;\">\n",
       "      <th></th>\n",
       "      <th>SecuCode</th>\n",
       "      <th>month</th>\n",
       "      <th>ret</th>\n",
       "      <th>specret_tp1-tp5</th>\n",
       "    </tr>\n",
       "  </thead>\n",
       "  <tbody>\n",
       "    <tr>\n",
       "      <th>0</th>\n",
       "      <td>1</td>\n",
       "      <td>2001-04</td>\n",
       "      <td>0.043142</td>\n",
       "      <td>0.003196</td>\n",
       "    </tr>\n",
       "    <tr>\n",
       "      <th>1</th>\n",
       "      <td>1</td>\n",
       "      <td>2001-05</td>\n",
       "      <td>-0.054938</td>\n",
       "      <td>-0.031188</td>\n",
       "    </tr>\n",
       "    <tr>\n",
       "      <th>2</th>\n",
       "      <td>1</td>\n",
       "      <td>2001-06</td>\n",
       "      <td>-0.096669</td>\n",
       "      <td>0.004967</td>\n",
       "    </tr>\n",
       "    <tr>\n",
       "      <th>3</th>\n",
       "      <td>1</td>\n",
       "      <td>2001-07</td>\n",
       "      <td>-0.080983</td>\n",
       "      <td>0.040344</td>\n",
       "    </tr>\n",
       "    <tr>\n",
       "      <th>4</th>\n",
       "      <td>1</td>\n",
       "      <td>2001-08</td>\n",
       "      <td>0.003147</td>\n",
       "      <td>0.010343</td>\n",
       "    </tr>\n",
       "  </tbody>\n",
       "</table>\n",
       "</div>"
      ],
      "text/plain": [
       "   SecuCode    month       ret  specret_tp1-tp5\n",
       "0         1  2001-04  0.043142         0.003196\n",
       "1         1  2001-05 -0.054938        -0.031188\n",
       "2         1  2001-06 -0.096669         0.004967\n",
       "3         1  2001-07 -0.080983         0.040344\n",
       "4         1  2001-08  0.003147         0.010343"
      ]
     },
     "execution_count": 19,
     "metadata": {},
     "output_type": "execute_result"
    }
   ],
   "source": [
    "msf.head()"
   ]
  },
  {
   "cell_type": "code",
   "execution_count": 20,
   "metadata": {},
   "outputs": [],
   "source": [
    "msf.to_parquet('C:/UROP/full_version_data/monthly_and_5d_ret.parquet.gzip')"
   ]
  },
  {
   "cell_type": "markdown",
   "metadata": {},
   "source": [
    "## Dictionary-based Scores"
   ]
  },
  {
   "cell_type": "code",
   "execution_count": 21,
   "metadata": {},
   "outputs": [],
   "source": [
    "dict_scores = pd.read_parquet('C:/UROP/full_version_data/data_dict_scores.parquet.gzip') # partial results"
   ]
  },
  {
   "cell_type": "code",
   "execution_count": 22,
   "metadata": {},
   "outputs": [],
   "source": [
    "dict_scores = dict_scores.drop(columns=['jieba_content','jieba_sentence'])"
   ]
  },
  {
   "cell_type": "code",
   "execution_count": 23,
   "metadata": {},
   "outputs": [
    {
     "data": {
      "text/html": [
       "<div>\n",
       "<style scoped>\n",
       "    .dataframe tbody tr th:only-of-type {\n",
       "        vertical-align: middle;\n",
       "    }\n",
       "\n",
       "    .dataframe tbody tr th {\n",
       "        vertical-align: top;\n",
       "    }\n",
       "\n",
       "    .dataframe thead th {\n",
       "        text-align: right;\n",
       "    }\n",
       "</style>\n",
       "<table border=\"1\" class=\"dataframe\">\n",
       "  <thead>\n",
       "    <tr style=\"text-align: right;\">\n",
       "      <th></th>\n",
       "      <th>ID</th>\n",
       "      <th>SecuCode</th>\n",
       "      <th>date</th>\n",
       "      <th>specret</th>\n",
       "      <th>specret_2d</th>\n",
       "      <th>specret_tp2-tp6</th>\n",
       "      <th>dict1_words</th>\n",
       "      <th>dict1_sentences</th>\n",
       "      <th>dict2_words</th>\n",
       "      <th>dict2_sentences</th>\n",
       "      <th>...</th>\n",
       "      <th>dict3_score3</th>\n",
       "      <th>dict3_score4</th>\n",
       "      <th>dict3_score5</th>\n",
       "      <th>dict3_score6</th>\n",
       "      <th>dict3_score7</th>\n",
       "      <th>dict3_score8</th>\n",
       "      <th>dict3_score9</th>\n",
       "      <th>dict3_score10</th>\n",
       "      <th>dict3_score11</th>\n",
       "      <th>dict3_score12</th>\n",
       "    </tr>\n",
       "  </thead>\n",
       "  <tbody>\n",
       "    <tr>\n",
       "      <th>0</th>\n",
       "      <td>181899</td>\n",
       "      <td>600323</td>\n",
       "      <td>2010-01-04</td>\n",
       "      <td>0.006658</td>\n",
       "      <td>-0.001522</td>\n",
       "      <td>-0.030300</td>\n",
       "      <td>[31, 5, 198]</td>\n",
       "      <td>[18, 2, 39]</td>\n",
       "      <td>[11, 4, 198]</td>\n",
       "      <td>[8, 2, 39]</td>\n",
       "      <td>...</td>\n",
       "      <td>0.020202</td>\n",
       "      <td>0.666667</td>\n",
       "      <td>-0.333333</td>\n",
       "      <td>0.333333</td>\n",
       "      <td>0.153846</td>\n",
       "      <td>-0.051282</td>\n",
       "      <td>0.102564</td>\n",
       "      <td>0.750000</td>\n",
       "      <td>-0.250000</td>\n",
       "      <td>0.500000</td>\n",
       "    </tr>\n",
       "    <tr>\n",
       "      <th>1</th>\n",
       "      <td>181900</td>\n",
       "      <td>002024</td>\n",
       "      <td>2010-01-04</td>\n",
       "      <td>-0.004292</td>\n",
       "      <td>-0.022783</td>\n",
       "      <td>-0.047744</td>\n",
       "      <td>[69, 6, 330]</td>\n",
       "      <td>[26, 2, 47]</td>\n",
       "      <td>[48, 5, 330]</td>\n",
       "      <td>[21, 3, 47]</td>\n",
       "      <td>...</td>\n",
       "      <td>0.151515</td>\n",
       "      <td>0.890625</td>\n",
       "      <td>-0.109375</td>\n",
       "      <td>0.781250</td>\n",
       "      <td>0.510638</td>\n",
       "      <td>-0.085106</td>\n",
       "      <td>0.425532</td>\n",
       "      <td>0.857143</td>\n",
       "      <td>-0.142857</td>\n",
       "      <td>0.714286</td>\n",
       "    </tr>\n",
       "    <tr>\n",
       "      <th>2</th>\n",
       "      <td>181901</td>\n",
       "      <td>002092</td>\n",
       "      <td>2010-01-04</td>\n",
       "      <td>0.030815</td>\n",
       "      <td>0.018962</td>\n",
       "      <td>0.055390</td>\n",
       "      <td>[23, 0, 185]</td>\n",
       "      <td>[16, 0, 29]</td>\n",
       "      <td>[8, 0, 185]</td>\n",
       "      <td>[7, 0, 29]</td>\n",
       "      <td>...</td>\n",
       "      <td>0.086486</td>\n",
       "      <td>1.000000</td>\n",
       "      <td>0.000000</td>\n",
       "      <td>1.000000</td>\n",
       "      <td>0.379310</td>\n",
       "      <td>0.000000</td>\n",
       "      <td>0.379310</td>\n",
       "      <td>1.000000</td>\n",
       "      <td>0.000000</td>\n",
       "      <td>1.000000</td>\n",
       "    </tr>\n",
       "  </tbody>\n",
       "</table>\n",
       "<p>3 rows × 48 columns</p>\n",
       "</div>"
      ],
      "text/plain": [
       "       ID SecuCode       date   specret  specret_2d  specret_tp2-tp6  \\\n",
       "0  181899   600323 2010-01-04  0.006658   -0.001522        -0.030300   \n",
       "1  181900   002024 2010-01-04 -0.004292   -0.022783        -0.047744   \n",
       "2  181901   002092 2010-01-04  0.030815    0.018962         0.055390   \n",
       "\n",
       "    dict1_words dict1_sentences   dict2_words dict2_sentences  ...  \\\n",
       "0  [31, 5, 198]     [18, 2, 39]  [11, 4, 198]      [8, 2, 39]  ...   \n",
       "1  [69, 6, 330]     [26, 2, 47]  [48, 5, 330]     [21, 3, 47]  ...   \n",
       "2  [23, 0, 185]     [16, 0, 29]   [8, 0, 185]      [7, 0, 29]  ...   \n",
       "\n",
       "  dict3_score3 dict3_score4  dict3_score5  dict3_score6  dict3_score7  \\\n",
       "0     0.020202     0.666667     -0.333333      0.333333      0.153846   \n",
       "1     0.151515     0.890625     -0.109375      0.781250      0.510638   \n",
       "2     0.086486     1.000000      0.000000      1.000000      0.379310   \n",
       "\n",
       "   dict3_score8  dict3_score9  dict3_score10  dict3_score11  dict3_score12  \n",
       "0     -0.051282      0.102564       0.750000      -0.250000       0.500000  \n",
       "1     -0.085106      0.425532       0.857143      -0.142857       0.714286  \n",
       "2      0.000000      0.379310       1.000000       0.000000       1.000000  \n",
       "\n",
       "[3 rows x 48 columns]"
      ]
     },
     "execution_count": 23,
     "metadata": {},
     "output_type": "execute_result"
    }
   ],
   "source": [
    "dict_scores.head(3)"
   ]
  },
  {
   "cell_type": "code",
   "execution_count": 24,
   "metadata": {},
   "outputs": [],
   "source": [
    "def normalize_col(col):\n",
    "    min_ = col.min(); max_ = col.max()\n",
    "    return col.map(lambda x: (x-min_)/(max_ - min_))"
   ]
  },
  {
   "cell_type": "code",
   "execution_count": 25,
   "metadata": {},
   "outputs": [],
   "source": [
    "normalized_cols = []"
   ]
  },
  {
   "cell_type": "code",
   "execution_count": 26,
   "metadata": {},
   "outputs": [],
   "source": [
    "for dn in [1,2,3]:\n",
    "    for sn in range(1,13):\n",
    "        dict_scores['dict{Dn}_score{Sn}_n'.format(Dn=dn,Sn=sn)] = normalize_col(dict_scores['dict{Dn}_score{Sn}'.format(Dn=dn,Sn=sn)])\n",
    "        normalized_cols.append('dict{Dn}_score{Sn}_n'.format(Dn=dn,Sn=sn))"
   ]
  },
  {
   "cell_type": "code",
   "execution_count": 27,
   "metadata": {},
   "outputs": [
    {
     "data": {
      "text/html": [
       "<div>\n",
       "<style scoped>\n",
       "    .dataframe tbody tr th:only-of-type {\n",
       "        vertical-align: middle;\n",
       "    }\n",
       "\n",
       "    .dataframe tbody tr th {\n",
       "        vertical-align: top;\n",
       "    }\n",
       "\n",
       "    .dataframe thead th {\n",
       "        text-align: right;\n",
       "    }\n",
       "</style>\n",
       "<table border=\"1\" class=\"dataframe\">\n",
       "  <thead>\n",
       "    <tr style=\"text-align: right;\">\n",
       "      <th></th>\n",
       "      <th>ID</th>\n",
       "      <th>SecuCode</th>\n",
       "      <th>date</th>\n",
       "      <th>specret</th>\n",
       "      <th>specret_2d</th>\n",
       "      <th>specret_tp2-tp6</th>\n",
       "      <th>dict1_words</th>\n",
       "      <th>dict1_sentences</th>\n",
       "      <th>dict2_words</th>\n",
       "      <th>dict2_sentences</th>\n",
       "      <th>...</th>\n",
       "      <th>dict3_score3_n</th>\n",
       "      <th>dict3_score4_n</th>\n",
       "      <th>dict3_score5_n</th>\n",
       "      <th>dict3_score6_n</th>\n",
       "      <th>dict3_score7_n</th>\n",
       "      <th>dict3_score8_n</th>\n",
       "      <th>dict3_score9_n</th>\n",
       "      <th>dict3_score10_n</th>\n",
       "      <th>dict3_score11_n</th>\n",
       "      <th>dict3_score12_n</th>\n",
       "    </tr>\n",
       "  </thead>\n",
       "  <tbody>\n",
       "    <tr>\n",
       "      <th>0</th>\n",
       "      <td>181899</td>\n",
       "      <td>600323</td>\n",
       "      <td>2010-01-04</td>\n",
       "      <td>0.006658</td>\n",
       "      <td>-0.001522</td>\n",
       "      <td>-0.030300</td>\n",
       "      <td>[31, 5, 198]</td>\n",
       "      <td>[18, 2, 39]</td>\n",
       "      <td>[11, 4, 198]</td>\n",
       "      <td>[8, 2, 39]</td>\n",
       "      <td>...</td>\n",
       "      <td>0.444203</td>\n",
       "      <td>0.666667</td>\n",
       "      <td>0.666667</td>\n",
       "      <td>0.666667</td>\n",
       "      <td>0.153846</td>\n",
       "      <td>0.948718</td>\n",
       "      <td>0.551282</td>\n",
       "      <td>0.750000</td>\n",
       "      <td>0.750000</td>\n",
       "      <td>0.750000</td>\n",
       "    </tr>\n",
       "    <tr>\n",
       "      <th>1</th>\n",
       "      <td>181900</td>\n",
       "      <td>002024</td>\n",
       "      <td>2010-01-04</td>\n",
       "      <td>-0.004292</td>\n",
       "      <td>-0.022783</td>\n",
       "      <td>-0.047744</td>\n",
       "      <td>[69, 6, 330]</td>\n",
       "      <td>[26, 2, 47]</td>\n",
       "      <td>[48, 5, 330]</td>\n",
       "      <td>[21, 3, 47]</td>\n",
       "      <td>...</td>\n",
       "      <td>0.684812</td>\n",
       "      <td>0.890625</td>\n",
       "      <td>0.890625</td>\n",
       "      <td>0.890625</td>\n",
       "      <td>0.510638</td>\n",
       "      <td>0.914894</td>\n",
       "      <td>0.712766</td>\n",
       "      <td>0.857143</td>\n",
       "      <td>0.857143</td>\n",
       "      <td>0.857143</td>\n",
       "    </tr>\n",
       "    <tr>\n",
       "      <th>2</th>\n",
       "      <td>181901</td>\n",
       "      <td>002092</td>\n",
       "      <td>2010-01-04</td>\n",
       "      <td>0.030815</td>\n",
       "      <td>0.018962</td>\n",
       "      <td>0.055390</td>\n",
       "      <td>[23, 0, 185]</td>\n",
       "      <td>[16, 0, 29]</td>\n",
       "      <td>[8, 0, 185]</td>\n",
       "      <td>[7, 0, 29]</td>\n",
       "      <td>...</td>\n",
       "      <td>0.565658</td>\n",
       "      <td>1.000000</td>\n",
       "      <td>1.000000</td>\n",
       "      <td>1.000000</td>\n",
       "      <td>0.379310</td>\n",
       "      <td>1.000000</td>\n",
       "      <td>0.689655</td>\n",
       "      <td>1.000000</td>\n",
       "      <td>1.000000</td>\n",
       "      <td>1.000000</td>\n",
       "    </tr>\n",
       "  </tbody>\n",
       "</table>\n",
       "<p>3 rows × 84 columns</p>\n",
       "</div>"
      ],
      "text/plain": [
       "       ID SecuCode       date   specret  specret_2d  specret_tp2-tp6  \\\n",
       "0  181899   600323 2010-01-04  0.006658   -0.001522        -0.030300   \n",
       "1  181900   002024 2010-01-04 -0.004292   -0.022783        -0.047744   \n",
       "2  181901   002092 2010-01-04  0.030815    0.018962         0.055390   \n",
       "\n",
       "    dict1_words dict1_sentences   dict2_words dict2_sentences  ...  \\\n",
       "0  [31, 5, 198]     [18, 2, 39]  [11, 4, 198]      [8, 2, 39]  ...   \n",
       "1  [69, 6, 330]     [26, 2, 47]  [48, 5, 330]     [21, 3, 47]  ...   \n",
       "2  [23, 0, 185]     [16, 0, 29]   [8, 0, 185]      [7, 0, 29]  ...   \n",
       "\n",
       "  dict3_score3_n dict3_score4_n  dict3_score5_n  dict3_score6_n  \\\n",
       "0       0.444203       0.666667        0.666667        0.666667   \n",
       "1       0.684812       0.890625        0.890625        0.890625   \n",
       "2       0.565658       1.000000        1.000000        1.000000   \n",
       "\n",
       "   dict3_score7_n  dict3_score8_n  dict3_score9_n  dict3_score10_n  \\\n",
       "0        0.153846        0.948718        0.551282         0.750000   \n",
       "1        0.510638        0.914894        0.712766         0.857143   \n",
       "2        0.379310        1.000000        0.689655         1.000000   \n",
       "\n",
       "   dict3_score11_n  dict3_score12_n  \n",
       "0         0.750000         0.750000  \n",
       "1         0.857143         0.857143  \n",
       "2         1.000000         1.000000  \n",
       "\n",
       "[3 rows x 84 columns]"
      ]
     },
     "execution_count": 27,
     "metadata": {},
     "output_type": "execute_result"
    }
   ],
   "source": [
    "dict_scores.head(3)"
   ]
  },
  {
   "cell_type": "code",
   "execution_count": 28,
   "metadata": {},
   "outputs": [],
   "source": [
    "dict_scores['month'] = dict_scores['date'].map(str).map(lambda x: x[:7])\n",
    "dict_scores['SecuCode'] = dict_scores['SecuCode'].map(int)"
   ]
  },
  {
   "cell_type": "code",
   "execution_count": 30,
   "metadata": {},
   "outputs": [],
   "source": [
    "dsm0 = dict_scores[['SecuCode','month',*normalized_cols]]\n",
    "dsm1 = dict_scores[['SecuCode','month',*normalized_cols]].copy()\n",
    "dsm1['month'] = dsm1['month'].map(get_next_month)\n",
    "dsm2 = dsm1.copy()\n",
    "dsm2['month'] = dsm2['month'].map(get_next_month)"
   ]
  },
  {
   "cell_type": "markdown",
   "metadata": {},
   "source": [
    "## SESTM Scores"
   ]
  },
  {
   "cell_type": "code",
   "execution_count": 33,
   "metadata": {},
   "outputs": [],
   "source": [
    "sestm_scores = pd.read_parquet('C:/UROP/full_version_data/data_sestm_scores_simple.parquet.gzip') # partial results"
   ]
  },
  {
   "cell_type": "code",
   "execution_count": 50,
   "metadata": {},
   "outputs": [],
   "source": [
    "sestm_score_cols = list(sestm_scores.columns[6:])"
   ]
  },
  {
   "cell_type": "code",
   "execution_count": 51,
   "metadata": {},
   "outputs": [],
   "source": [
    "sestm_scores['month'] = sestm_scores['date'].map(str).map(lambda x: x[:7])\n",
    "sestm_scores['SecuCode'] = sestm_scores['SecuCode'].map(int)"
   ]
  },
  {
   "cell_type": "code",
   "execution_count": 52,
   "metadata": {},
   "outputs": [],
   "source": [
    "ssm0 = sestm_scores[['SecuCode','month',*sestm_score_cols]]\n",
    "ssm1 = sestm_scores[['SecuCode','month',*sestm_score_cols]].copy()\n",
    "ssm1['month'] = ssm1['month'].map(get_next_month)\n",
    "ssm2 = ssm1.copy()\n",
    "ssm2['month'] = ssm2['month'].map(get_next_month)"
   ]
  },
  {
   "cell_type": "markdown",
   "metadata": {},
   "source": [
    "## Dictionary-based: Correlation to Next Month Return (by 30/60/90-day consensus sentiment)"
   ]
  },
  {
   "cell_type": "code",
   "execution_count": 31,
   "metadata": {},
   "outputs": [],
   "source": [
    "s30 = msf.groupby(['month','SecuCode']).median().join(dsm0.groupby(['month','SecuCode']).mean(), how='inner').dropna().reset_index()\n",
    "c30 = pd.DataFrame()\n",
    "c30['score_name'] = normalized_cols\n",
    "c30['pearson_1m_ret'] = c30['score_name'].map(lambda x: s30.groupby(['month'])[['ret',x]].corr(method='pearson').unstack().iloc[:,1].mean())\n",
    "c30['spearman_1m_ret'] = c30['score_name'].map(lambda x: s30.groupby(['month'])[['ret',x]].corr(method='spearman').unstack().iloc[:,1].mean())\n",
    "c30['pearson_5d_specret'] = c30['score_name'].map(lambda x: s30.groupby(['month'])[['specret_tp1-tp5',x]].corr(method='pearson').unstack().iloc[:,1].mean())\n",
    "c30['spearman_5d_specret'] = c30['score_name'].map(lambda x: s30.groupby(['month'])[['specret_tp1-tp5',x]].corr(method='spearman').unstack().iloc[:,1].mean())"
   ]
  },
  {
   "cell_type": "code",
   "execution_count": 118,
   "metadata": {},
   "outputs": [
    {
     "data": {
      "text/html": [
       "<div>\n",
       "<style scoped>\n",
       "    .dataframe tbody tr th:only-of-type {\n",
       "        vertical-align: middle;\n",
       "    }\n",
       "\n",
       "    .dataframe tbody tr th {\n",
       "        vertical-align: top;\n",
       "    }\n",
       "\n",
       "    .dataframe thead th {\n",
       "        text-align: right;\n",
       "    }\n",
       "</style>\n",
       "<table border=\"1\" class=\"dataframe\">\n",
       "  <thead>\n",
       "    <tr style=\"text-align: right;\">\n",
       "      <th></th>\n",
       "      <th>score_name</th>\n",
       "      <th>pearson_1m_ret</th>\n",
       "      <th>spearman_1m_ret</th>\n",
       "      <th>pearson_5d_specret</th>\n",
       "      <th>spearman_5d_specret</th>\n",
       "    </tr>\n",
       "  </thead>\n",
       "  <tbody>\n",
       "    <tr>\n",
       "      <th>14</th>\n",
       "      <td>dict2_score3_n</td>\n",
       "      <td>0.025956</td>\n",
       "      <td>0.029089</td>\n",
       "      <td>0.001267</td>\n",
       "      <td>0.002005</td>\n",
       "    </tr>\n",
       "    <tr>\n",
       "      <th>12</th>\n",
       "      <td>dict2_score1_n</td>\n",
       "      <td>0.019099</td>\n",
       "      <td>0.026349</td>\n",
       "      <td>-0.003286</td>\n",
       "      <td>0.002500</td>\n",
       "    </tr>\n",
       "    <tr>\n",
       "      <th>20</th>\n",
       "      <td>dict2_score9_n</td>\n",
       "      <td>0.025533</td>\n",
       "      <td>0.026307</td>\n",
       "      <td>0.004056</td>\n",
       "      <td>0.002667</td>\n",
       "    </tr>\n",
       "  </tbody>\n",
       "</table>\n",
       "</div>"
      ],
      "text/plain": [
       "        score_name  pearson_1m_ret  spearman_1m_ret  pearson_5d_specret  \\\n",
       "14  dict2_score3_n        0.025956         0.029089            0.001267   \n",
       "12  dict2_score1_n        0.019099         0.026349           -0.003286   \n",
       "20  dict2_score9_n        0.025533         0.026307            0.004056   \n",
       "\n",
       "    spearman_5d_specret  \n",
       "14             0.002005  \n",
       "12             0.002500  \n",
       "20             0.002667  "
      ]
     },
     "execution_count": 118,
     "metadata": {},
     "output_type": "execute_result"
    }
   ],
   "source": [
    "c30.sort_values(by='spearman_1m_ret', ascending=False).head(3)"
   ]
  },
  {
   "cell_type": "code",
   "execution_count": 119,
   "metadata": {},
   "outputs": [],
   "source": [
    "s60 = msf.groupby(['month','SecuCode']).median().join(dsm0.append(dsm1).groupby(['month','SecuCode']).mean(), how='inner').dropna().reset_index()\n",
    "c60 = pd.DataFrame()\n",
    "c60['score_name'] = normalized_cols\n",
    "c60['pearson_1m_ret'] = c60['score_name'].map(lambda x: s60.groupby(['month'])[['ret',x]].corr(method='pearson').unstack().iloc[:,1].mean())\n",
    "c60['spearman_1m_ret'] = c60['score_name'].map(lambda x: s60.groupby(['month'])[['ret',x]].corr(method='spearman').unstack().iloc[:,1].mean())\n",
    "c60['pearson_5d_specret'] = c60['score_name'].map(lambda x: s60.groupby(['month'])[['specret_tp1-tp5',x]].corr(method='pearson').unstack().iloc[:,1].mean())\n",
    "c60['spearman_5d_specret'] = c60['score_name'].map(lambda x: s60.groupby(['month'])[['specret_tp1-tp5',x]].corr(method='spearman').unstack().iloc[:,1].mean())"
   ]
  },
  {
   "cell_type": "code",
   "execution_count": 120,
   "metadata": {},
   "outputs": [
    {
     "data": {
      "text/html": [
       "<div>\n",
       "<style scoped>\n",
       "    .dataframe tbody tr th:only-of-type {\n",
       "        vertical-align: middle;\n",
       "    }\n",
       "\n",
       "    .dataframe tbody tr th {\n",
       "        vertical-align: top;\n",
       "    }\n",
       "\n",
       "    .dataframe thead th {\n",
       "        text-align: right;\n",
       "    }\n",
       "</style>\n",
       "<table border=\"1\" class=\"dataframe\">\n",
       "  <thead>\n",
       "    <tr style=\"text-align: right;\">\n",
       "      <th></th>\n",
       "      <th>score_name</th>\n",
       "      <th>pearson_1m_ret</th>\n",
       "      <th>spearman_1m_ret</th>\n",
       "      <th>pearson_5d_specret</th>\n",
       "      <th>spearman_5d_specret</th>\n",
       "    </tr>\n",
       "  </thead>\n",
       "  <tbody>\n",
       "    <tr>\n",
       "      <th>24</th>\n",
       "      <td>dict3_score1_n</td>\n",
       "      <td>0.021980</td>\n",
       "      <td>0.028007</td>\n",
       "      <td>0.000010</td>\n",
       "      <td>0.005263</td>\n",
       "    </tr>\n",
       "    <tr>\n",
       "      <th>30</th>\n",
       "      <td>dict3_score7_n</td>\n",
       "      <td>0.022495</td>\n",
       "      <td>0.026261</td>\n",
       "      <td>0.003378</td>\n",
       "      <td>0.005175</td>\n",
       "    </tr>\n",
       "    <tr>\n",
       "      <th>6</th>\n",
       "      <td>dict1_score7_n</td>\n",
       "      <td>0.024870</td>\n",
       "      <td>0.029340</td>\n",
       "      <td>0.003622</td>\n",
       "      <td>0.005166</td>\n",
       "    </tr>\n",
       "  </tbody>\n",
       "</table>\n",
       "</div>"
      ],
      "text/plain": [
       "        score_name  pearson_1m_ret  spearman_1m_ret  pearson_5d_specret  \\\n",
       "24  dict3_score1_n        0.021980         0.028007            0.000010   \n",
       "30  dict3_score7_n        0.022495         0.026261            0.003378   \n",
       "6   dict1_score7_n        0.024870         0.029340            0.003622   \n",
       "\n",
       "    spearman_5d_specret  \n",
       "24             0.005263  \n",
       "30             0.005175  \n",
       "6              0.005166  "
      ]
     },
     "execution_count": 120,
     "metadata": {},
     "output_type": "execute_result"
    }
   ],
   "source": [
    "c60.sort_values(by='spearman_5d_specret', ascending=False).head(3)"
   ]
  },
  {
   "cell_type": "code",
   "execution_count": 121,
   "metadata": {},
   "outputs": [],
   "source": [
    "s90 = msf.groupby(['month','SecuCode']).median().join(dsm0.append(dsm1).append(dsm2).groupby(['month','SecuCode']).mean(), how='inner').dropna().reset_index()\n",
    "c90 = pd.DataFrame()\n",
    "c90['score_name'] = normalized_cols\n",
    "c90['pearson_1m_ret'] = c30['score_name'].map(lambda x: s90.groupby(['month'])[['ret',x]].corr(method='pearson').unstack().iloc[:,1].mean())\n",
    "c90['spearman_1m_ret'] = c30['score_name'].map(lambda x: s90.groupby(['month'])[['ret',x]].corr(method='spearman').unstack().iloc[:,1].mean())\n",
    "c90['pearson_5d_specret'] = c90['score_name'].map(lambda x: s90.groupby(['month'])[['specret_tp1-tp5',x]].corr(method='pearson').unstack().iloc[:,1].mean())\n",
    "c90['spearman_5d_specret'] = c90['score_name'].map(lambda x: s90.groupby(['month'])[['specret_tp1-tp5',x]].corr(method='spearman').unstack().iloc[:,1].mean())"
   ]
  },
  {
   "cell_type": "code",
   "execution_count": 122,
   "metadata": {},
   "outputs": [
    {
     "data": {
      "text/html": [
       "<div>\n",
       "<style scoped>\n",
       "    .dataframe tbody tr th:only-of-type {\n",
       "        vertical-align: middle;\n",
       "    }\n",
       "\n",
       "    .dataframe tbody tr th {\n",
       "        vertical-align: top;\n",
       "    }\n",
       "\n",
       "    .dataframe thead th {\n",
       "        text-align: right;\n",
       "    }\n",
       "</style>\n",
       "<table border=\"1\" class=\"dataframe\">\n",
       "  <thead>\n",
       "    <tr style=\"text-align: right;\">\n",
       "      <th></th>\n",
       "      <th>score_name</th>\n",
       "      <th>pearson_1m_ret</th>\n",
       "      <th>spearman_1m_ret</th>\n",
       "      <th>pearson_5d_specret</th>\n",
       "      <th>spearman_5d_specret</th>\n",
       "    </tr>\n",
       "  </thead>\n",
       "  <tbody>\n",
       "    <tr>\n",
       "      <th>30</th>\n",
       "      <td>dict3_score7_n</td>\n",
       "      <td>0.021406</td>\n",
       "      <td>0.025660</td>\n",
       "      <td>0.005217</td>\n",
       "      <td>0.005711</td>\n",
       "    </tr>\n",
       "    <tr>\n",
       "      <th>6</th>\n",
       "      <td>dict1_score7_n</td>\n",
       "      <td>0.023617</td>\n",
       "      <td>0.029110</td>\n",
       "      <td>0.005012</td>\n",
       "      <td>0.005472</td>\n",
       "    </tr>\n",
       "    <tr>\n",
       "      <th>18</th>\n",
       "      <td>dict2_score7_n</td>\n",
       "      <td>0.022173</td>\n",
       "      <td>0.028967</td>\n",
       "      <td>0.002816</td>\n",
       "      <td>0.005409</td>\n",
       "    </tr>\n",
       "  </tbody>\n",
       "</table>\n",
       "</div>"
      ],
      "text/plain": [
       "        score_name  pearson_1m_ret  spearman_1m_ret  pearson_5d_specret  \\\n",
       "30  dict3_score7_n        0.021406         0.025660            0.005217   \n",
       "6   dict1_score7_n        0.023617         0.029110            0.005012   \n",
       "18  dict2_score7_n        0.022173         0.028967            0.002816   \n",
       "\n",
       "    spearman_5d_specret  \n",
       "30             0.005711  \n",
       "6              0.005472  \n",
       "18             0.005409  "
      ]
     },
     "execution_count": 122,
     "metadata": {},
     "output_type": "execute_result"
    }
   ],
   "source": [
    "c90.sort_values(by='spearman_5d_specret', ascending=False).head(3)"
   ]
  },
  {
   "cell_type": "markdown",
   "metadata": {},
   "source": [
    "## 30/60/90-day Dictionary-based Consensus Sentiment against t+1 Monthly and 5d Return"
   ]
  },
  {
   "cell_type": "code",
   "execution_count": 146,
   "metadata": {},
   "outputs": [],
   "source": [
    "import seaborn as sns; import matplotlib.pyplot as plt\n",
    "from matplotlib.ticker import MaxNLocator"
   ]
  },
  {
   "cell_type": "code",
   "execution_count": 96,
   "metadata": {},
   "outputs": [],
   "source": [
    "normalized_cols_abbr = ['d'+col[4]+'s'+col[11:13] for col in normalized_cols]"
   ]
  },
  {
   "cell_type": "code",
   "execution_count": 98,
   "metadata": {},
   "outputs": [],
   "source": [
    "sdf = s30.copy()"
   ]
  },
  {
   "cell_type": "code",
   "execution_count": 104,
   "metadata": {},
   "outputs": [],
   "source": [
    "months = list(sdf['month'].unique())"
   ]
  },
  {
   "cell_type": "code",
   "execution_count": 105,
   "metadata": {},
   "outputs": [
    {
     "name": "stdout",
     "output_type": "stream",
     "text": [
      "dict3_score12_n 10\n"
     ]
    }
   ],
   "source": [
    "rrss_mat = []\n",
    "for score_this in normalized_cols:\n",
    "    rrss = []\n",
    "    for partition_num in [-1]+(list(range(1,11))):\n",
    "        print(score_this,partition_num); clear_output(wait=True)\n",
    "        prets = []; acc_val = [1]\n",
    "        for month_this in months:    \n",
    "            sdfi = sdf.loc[sdf.month == month_this].sort_values(by=score_this,ascending=False)\n",
    "            if not len(sdfi): continue\n",
    "            if partition_num == -1:\n",
    "                prets.append(sdfi[:int(len(sdfi)/10)*partition_num]['ret'].mean()\\\n",
    "                - sdfi[int(len(sdfi)/10)*(9):]['ret'].mean())\n",
    "                acc_val.append(acc_val[-1] * (1+sdfi[:int(len(sdfi)/10)*partition_num]['ret'].mean()\\\n",
    "                - sdfi[int(len(sdfi)/10)*(9):]['ret'].mean()))\n",
    "            else:\n",
    "                prets.append(sdfi[int(len(sdfi)/10)*(partition_num-1):int(len(sdfi)/10)*partition_num]['ret'].mean())\n",
    "                acc_val.append(acc_val[-1] * (1+sdfi[int(len(sdfi)/10)*(partition_num-1):int(len(sdfi)/10)*partition_num]['ret'].mean()))\n",
    "        rrs = [round(np.array(prets).mean()*12,4), round(np.array(prets).std()*(12**0.5),4),round((np.array(prets).mean()*12)/(np.array(prets).std()*(12**0.5)),4), acc_val]\n",
    "        rrss.extend(rrs)\n",
    "    rrss_mat.append(rrss)"
   ]
  },
  {
   "cell_type": "code",
   "execution_count": 106,
   "metadata": {},
   "outputs": [
    {
     "name": "stderr",
     "output_type": "stream",
     "text": [
      "c:\\users\\ymym\\appdata\\local\\programs\\python\\python37\\lib\\site-packages\\ipykernel_launcher.py:4: VisibleDeprecationWarning: Creating an ndarray from ragged nested sequences (which is a list-or-tuple of lists-or-tuples-or ndarrays with different lengths or shapes) is deprecated. If you meant to do this, you must specify 'dtype=object' when creating the ndarray\n",
      "  after removing the cwd from sys.path.\n"
     ]
    }
   ],
   "source": [
    "ind = []\n",
    "for i in range(0,11):\n",
    "    ind += ['Annual Return '+str(i),'Annual Risk '+str(i),'Sharpe '+str(i),'Acc Val '+str(i)]\n",
    "rrssdf_30 = pd.DataFrame(np.array(rrss_mat).T,columns=normalized_cols_abbr)\n",
    "rrssdf_30['ind'] = ind; rrssdf_30.index = rrssdf_30.ind; rrssdf_30 = rrssdf_30.drop(columns=['ind'])"
   ]
  },
  {
   "cell_type": "code",
   "execution_count": 115,
   "metadata": {},
   "outputs": [],
   "source": [
    "rrssdf_30.to_csv('rrss30_df.csv')"
   ]
  },
  {
   "cell_type": "code",
   "execution_count": 123,
   "metadata": {},
   "outputs": [],
   "source": [
    "sdf = s60.copy()"
   ]
  },
  {
   "cell_type": "code",
   "execution_count": 124,
   "metadata": {},
   "outputs": [
    {
     "name": "stdout",
     "output_type": "stream",
     "text": [
      "dict3_score12_n 10\n"
     ]
    }
   ],
   "source": [
    "rrss_mat = []\n",
    "for score_this in normalized_cols:\n",
    "    rrss = []\n",
    "    for partition_num in [-1]+(list(range(1,11))):\n",
    "        print(score_this,partition_num); clear_output(wait=True)\n",
    "        prets = []; acc_val = [1]\n",
    "        for month_this in months:    \n",
    "            sdfi = sdf.loc[sdf.month == month_this].sort_values(by=score_this,ascending=False)\n",
    "            if not len(sdfi): continue\n",
    "            if partition_num == -1:\n",
    "                prets.append(sdfi[:int(len(sdfi)/10)*partition_num]['ret'].mean()\\\n",
    "                - sdfi[int(len(sdfi)/10)*(9):]['ret'].mean())\n",
    "                acc_val.append(acc_val[-1] * (1+sdfi[:int(len(sdfi)/10)*partition_num]['ret'].mean()\\\n",
    "                - sdfi[int(len(sdfi)/10)*(9):]['ret'].mean()))\n",
    "            else:\n",
    "                prets.append(sdfi[int(len(sdfi)/10)*(partition_num-1):int(len(sdfi)/10)*partition_num]['ret'].mean())\n",
    "                acc_val.append(acc_val[-1] * (1+sdfi[int(len(sdfi)/10)*(partition_num-1):int(len(sdfi)/10)*partition_num]['ret'].mean()))\n",
    "        rrs = [round(np.array(prets).mean()*12,4), round(np.array(prets).std()*(12**0.5),4),round((np.array(prets).mean()*12)/(np.array(prets).std()*(12**0.5)),4), acc_val]\n",
    "        rrss.extend(rrs)\n",
    "    rrss_mat.append(rrss)"
   ]
  },
  {
   "cell_type": "code",
   "execution_count": 125,
   "metadata": {},
   "outputs": [
    {
     "name": "stderr",
     "output_type": "stream",
     "text": [
      "c:\\users\\ymym\\appdata\\local\\programs\\python\\python37\\lib\\site-packages\\ipykernel_launcher.py:4: VisibleDeprecationWarning: Creating an ndarray from ragged nested sequences (which is a list-or-tuple of lists-or-tuples-or ndarrays with different lengths or shapes) is deprecated. If you meant to do this, you must specify 'dtype=object' when creating the ndarray\n",
      "  after removing the cwd from sys.path.\n"
     ]
    }
   ],
   "source": [
    "ind = []\n",
    "for i in range(0,11):\n",
    "    ind += ['Annual Return '+str(i),'Annual Risk '+str(i),'Sharpe '+str(i), 'Acc Val '+str(i)]\n",
    "rrssdf_60 = pd.DataFrame(np.array(rrss_mat).T,columns=normalized_cols_abbr)\n",
    "rrssdf_60['ind'] = ind; rrssdf_60.index = rrssdf_60.ind; rrssdf_60 = rrssdf_60.drop(columns=['ind'])"
   ]
  },
  {
   "cell_type": "code",
   "execution_count": 127,
   "metadata": {},
   "outputs": [],
   "source": [
    "rrssdf_60.to_csv('rrss60_df.csv')"
   ]
  },
  {
   "cell_type": "code",
   "execution_count": 128,
   "metadata": {},
   "outputs": [],
   "source": [
    "sdf = s90.copy()"
   ]
  },
  {
   "cell_type": "code",
   "execution_count": 129,
   "metadata": {},
   "outputs": [
    {
     "name": "stdout",
     "output_type": "stream",
     "text": [
      "dict3_score12_n 10\n"
     ]
    }
   ],
   "source": [
    "rrss_mat = []\n",
    "for score_this in normalized_cols:\n",
    "    rrss = []\n",
    "    for partition_num in [-1]+(list(range(1,11))):\n",
    "        print(score_this,partition_num); clear_output(wait=True)\n",
    "        prets = []; acc_val = [1]\n",
    "        for month_this in months:    \n",
    "            sdfi = sdf.loc[sdf.month == month_this].sort_values(by=score_this,ascending=False)\n",
    "            if not len(sdfi): continue\n",
    "            if partition_num == -1:\n",
    "                prets.append(sdfi[:int(len(sdfi)/10)*partition_num]['ret'].mean()\\\n",
    "                - sdfi[int(len(sdfi)/10)*(9):]['ret'].mean())\n",
    "                acc_val.append(acc_val[-1] * (1+sdfi[:int(len(sdfi)/10)*partition_num]['ret'].mean()\\\n",
    "                - sdfi[int(len(sdfi)/10)*(9):]['ret'].mean()))\n",
    "            else:\n",
    "                prets.append(sdfi[int(len(sdfi)/10)*(partition_num-1):int(len(sdfi)/10)*partition_num]['ret'].mean())\n",
    "                acc_val.append(acc_val[-1] * (1+sdfi[int(len(sdfi)/10)*(partition_num-1):int(len(sdfi)/10)*partition_num]['ret'].mean()))\n",
    "        rrs = [round(np.array(prets).mean()*12,4), round(np.array(prets).std()*(12**0.5),4),round((np.array(prets).mean()*12)/(np.array(prets).std()*(12**0.5)),4), acc_val]\n",
    "        rrss.extend(rrs)\n",
    "    rrss_mat.append(rrss)"
   ]
  },
  {
   "cell_type": "code",
   "execution_count": 130,
   "metadata": {},
   "outputs": [
    {
     "name": "stderr",
     "output_type": "stream",
     "text": [
      "c:\\users\\ymym\\appdata\\local\\programs\\python\\python37\\lib\\site-packages\\ipykernel_launcher.py:4: VisibleDeprecationWarning: Creating an ndarray from ragged nested sequences (which is a list-or-tuple of lists-or-tuples-or ndarrays with different lengths or shapes) is deprecated. If you meant to do this, you must specify 'dtype=object' when creating the ndarray\n",
      "  after removing the cwd from sys.path.\n"
     ]
    }
   ],
   "source": [
    "ind = []\n",
    "for i in range(0,11):\n",
    "    ind += ['Annual Return '+str(i),'Annual Risk '+str(i),'Sharpe '+str(i), 'Acc Val '+str(i)]\n",
    "rrssdf_90 = pd.DataFrame(np.array(rrss_mat).T,columns=normalized_cols_abbr)\n",
    "rrssdf_90['ind'] = ind; rrssdf_90.index = rrssdf_90.ind; rrssdf_90 = rrssdf_90.drop(columns=['ind'])"
   ]
  },
  {
   "cell_type": "code",
   "execution_count": 131,
   "metadata": {},
   "outputs": [],
   "source": [
    "rrssdf_90.to_csv('rrss90_df.csv')"
   ]
  },
  {
   "cell_type": "code",
   "execution_count": 441,
   "metadata": {},
   "outputs": [],
   "source": [
    "rrssdf_30 = pd.read_csv('rrss30_df.csv')\n",
    "rrssdf_60 = pd.read_csv('rrss60_df.csv')\n",
    "rrssdf_90 = pd.read_csv('rrss90_df.csv')"
   ]
  },
  {
   "cell_type": "code",
   "execution_count": 442,
   "metadata": {},
   "outputs": [],
   "source": [
    "rrssdf_30 = rrssdf_30.reset_index()\n",
    "rrssdf_30['stat'] = rrssdf_30['ind'].map(lambda x: x[:-2]).map(lambda x: x.strip())\n",
    "rrssdf_30['portfolio'] = rrssdf_30['ind'].map(lambda x: x[-2:]).map(int)\n",
    "rrssdf_30['dur'] = 30\n",
    "rrssdf_30 = rrssdf_30.drop(columns=['index'])"
   ]
  },
  {
   "cell_type": "code",
   "execution_count": 443,
   "metadata": {},
   "outputs": [],
   "source": [
    "rrssdf_60 = rrssdf_60.reset_index()\n",
    "rrssdf_60['stat'] = rrssdf_60['ind'].map(lambda x: x[:-2]).map(lambda x: x.strip())\n",
    "rrssdf_60['portfolio'] = rrssdf_60['ind'].map(lambda x: x[-2:]).map(int)\n",
    "rrssdf_60['dur'] = 60\n",
    "rrssdf_60 = rrssdf_60.drop(columns=['index'])"
   ]
  },
  {
   "cell_type": "code",
   "execution_count": 444,
   "metadata": {},
   "outputs": [],
   "source": [
    "rrssdf_90 = rrssdf_90.reset_index()\n",
    "rrssdf_90['stat'] = rrssdf_90['ind'].map(lambda x: x[:-2]).map(lambda x: x.strip())\n",
    "rrssdf_90['portfolio'] = rrssdf_90['ind'].map(lambda x: x[-2:]).map(int)\n",
    "rrssdf_90['dur'] = 90\n",
    "rrssdf_90 = rrssdf_90.drop(columns=['index'])"
   ]
  },
  {
   "cell_type": "code",
   "execution_count": 445,
   "metadata": {},
   "outputs": [],
   "source": [
    "rrssdf_all = rrssdf_30.append(rrssdf_60).append(rrssdf_90)[['dur','portfolio','stat',*normalized_cols_abbr]]"
   ]
  },
  {
   "cell_type": "code",
   "execution_count": 446,
   "metadata": {},
   "outputs": [],
   "source": [
    "rrssdf_all.to_csv('rrss-all_df.csv')"
   ]
  },
  {
   "cell_type": "code",
   "execution_count": 447,
   "metadata": {},
   "outputs": [
    {
     "data": {
      "text/html": [
       "<div>\n",
       "<style scoped>\n",
       "    .dataframe tbody tr th:only-of-type {\n",
       "        vertical-align: middle;\n",
       "    }\n",
       "\n",
       "    .dataframe tbody tr th {\n",
       "        vertical-align: top;\n",
       "    }\n",
       "\n",
       "    .dataframe thead th {\n",
       "        text-align: right;\n",
       "    }\n",
       "</style>\n",
       "<table border=\"1\" class=\"dataframe\">\n",
       "  <thead>\n",
       "    <tr style=\"text-align: right;\">\n",
       "      <th></th>\n",
       "      <th>dur</th>\n",
       "      <th>portfolio</th>\n",
       "      <th>stat</th>\n",
       "      <th>d1s1_</th>\n",
       "      <th>d1s2_</th>\n",
       "      <th>d1s3_</th>\n",
       "      <th>d1s4_</th>\n",
       "      <th>d1s5_</th>\n",
       "      <th>d1s6_</th>\n",
       "      <th>d1s7_</th>\n",
       "      <th>...</th>\n",
       "      <th>d3s3_</th>\n",
       "      <th>d3s4_</th>\n",
       "      <th>d3s5_</th>\n",
       "      <th>d3s6_</th>\n",
       "      <th>d3s7_</th>\n",
       "      <th>d3s8_</th>\n",
       "      <th>d3s9_</th>\n",
       "      <th>d3s10</th>\n",
       "      <th>d3s11</th>\n",
       "      <th>d3s12</th>\n",
       "    </tr>\n",
       "  </thead>\n",
       "  <tbody>\n",
       "    <tr>\n",
       "      <th>0</th>\n",
       "      <td>30</td>\n",
       "      <td>0</td>\n",
       "      <td>Annual Return</td>\n",
       "      <td>0.0485</td>\n",
       "      <td>0.0643</td>\n",
       "      <td>0.0765</td>\n",
       "      <td>0.0818</td>\n",
       "      <td>0.0818</td>\n",
       "      <td>0.0818</td>\n",
       "      <td>0.0637</td>\n",
       "      <td>...</td>\n",
       "      <td>0.066</td>\n",
       "      <td>0.0681</td>\n",
       "      <td>0.0681</td>\n",
       "      <td>0.0681</td>\n",
       "      <td>0.0375</td>\n",
       "      <td>0.0686</td>\n",
       "      <td>0.0671</td>\n",
       "      <td>0.072</td>\n",
       "      <td>0.0718</td>\n",
       "      <td>0.0721</td>\n",
       "    </tr>\n",
       "    <tr>\n",
       "      <th>1</th>\n",
       "      <td>30</td>\n",
       "      <td>0</td>\n",
       "      <td>Annual Risk</td>\n",
       "      <td>0.0796</td>\n",
       "      <td>0.1134</td>\n",
       "      <td>0.1065</td>\n",
       "      <td>0.1196</td>\n",
       "      <td>0.1196</td>\n",
       "      <td>0.1196</td>\n",
       "      <td>0.0943</td>\n",
       "      <td>...</td>\n",
       "      <td>0.1026</td>\n",
       "      <td>0.1105</td>\n",
       "      <td>0.1105</td>\n",
       "      <td>0.1105</td>\n",
       "      <td>0.0924</td>\n",
       "      <td>0.1036</td>\n",
       "      <td>0.1081</td>\n",
       "      <td>0.1067</td>\n",
       "      <td>0.1067</td>\n",
       "      <td>0.1068</td>\n",
       "    </tr>\n",
       "    <tr>\n",
       "      <th>2</th>\n",
       "      <td>30</td>\n",
       "      <td>0</td>\n",
       "      <td>Sharpe</td>\n",
       "      <td>0.6096</td>\n",
       "      <td>0.5674</td>\n",
       "      <td>0.7185</td>\n",
       "      <td>0.6843</td>\n",
       "      <td>0.6837</td>\n",
       "      <td>0.6837</td>\n",
       "      <td>0.6756</td>\n",
       "      <td>...</td>\n",
       "      <td>0.6435</td>\n",
       "      <td>0.6163</td>\n",
       "      <td>0.6163</td>\n",
       "      <td>0.6161</td>\n",
       "      <td>0.4061</td>\n",
       "      <td>0.6626</td>\n",
       "      <td>0.6212</td>\n",
       "      <td>0.6745</td>\n",
       "      <td>0.6731</td>\n",
       "      <td>0.6756</td>\n",
       "    </tr>\n",
       "    <tr>\n",
       "      <th>3</th>\n",
       "      <td>30</td>\n",
       "      <td>0</td>\n",
       "      <td>Acc Val</td>\n",
       "      <td>[1, 0.9895345821909484, 0.9884626326485948, 1....</td>\n",
       "      <td>[1, 1.0126598850010335, 1.0234751906418178, 1....</td>\n",
       "      <td>[1, 1.0026064331785434, 1.012484624312181, 1.0...</td>\n",
       "      <td>[1, 1.0073394739719363, 1.0145902238361164, 1....</td>\n",
       "      <td>[1, 1.0073394739719363, 1.0145902238361164, 1....</td>\n",
       "      <td>[1, 1.0073394739719363, 1.0145902238361164, 1....</td>\n",
       "      <td>[1, 0.9981132379847455, 0.9973721746322253, 1....</td>\n",
       "      <td>...</td>\n",
       "      <td>[1, 1.005580531241339, 1.0149710221745367, 1.0...</td>\n",
       "      <td>[1, 1.0021907144297397, 1.0046777665065623, 1....</td>\n",
       "      <td>[1, 1.0021907144297397, 1.0046777665065623, 1....</td>\n",
       "      <td>[1, 1.0021907144297397, 1.0046777665065623, 1....</td>\n",
       "      <td>[1, 1.0044116852280824, 1.023503027313782, 1.0...</td>\n",
       "      <td>[1, 1.0006849547281063, 1.0009776175377272, 1....</td>\n",
       "      <td>[1, 1.000722967728121, 1.0172765397534735, 1.0...</td>\n",
       "      <td>[1, 1.0011683020703974, 1.0166236447439694, 1....</td>\n",
       "      <td>[1, 1.0011683020703974, 1.0166236447439694, 1....</td>\n",
       "      <td>[1, 1.0011683020703974, 1.0166236447439694, 1....</td>\n",
       "    </tr>\n",
       "    <tr>\n",
       "      <th>4</th>\n",
       "      <td>30</td>\n",
       "      <td>1</td>\n",
       "      <td>Annual Return</td>\n",
       "      <td>0.1893</td>\n",
       "      <td>0.2061</td>\n",
       "      <td>0.2083</td>\n",
       "      <td>0.1977</td>\n",
       "      <td>0.1978</td>\n",
       "      <td>0.1982</td>\n",
       "      <td>0.2002</td>\n",
       "      <td>...</td>\n",
       "      <td>0.206</td>\n",
       "      <td>0.1977</td>\n",
       "      <td>0.1977</td>\n",
       "      <td>0.1969</td>\n",
       "      <td>0.1922</td>\n",
       "      <td>0.1975</td>\n",
       "      <td>0.2051</td>\n",
       "      <td>0.2004</td>\n",
       "      <td>0.2003</td>\n",
       "      <td>0.2009</td>\n",
       "    </tr>\n",
       "  </tbody>\n",
       "</table>\n",
       "<p>5 rows × 39 columns</p>\n",
       "</div>"
      ],
      "text/plain": [
       "   dur  portfolio           stat  \\\n",
       "0   30          0  Annual Return   \n",
       "1   30          0    Annual Risk   \n",
       "2   30          0         Sharpe   \n",
       "3   30          0        Acc Val   \n",
       "4   30          1  Annual Return   \n",
       "\n",
       "                                               d1s1_  \\\n",
       "0                                             0.0485   \n",
       "1                                             0.0796   \n",
       "2                                             0.6096   \n",
       "3  [1, 0.9895345821909484, 0.9884626326485948, 1....   \n",
       "4                                             0.1893   \n",
       "\n",
       "                                               d1s2_  \\\n",
       "0                                             0.0643   \n",
       "1                                             0.1134   \n",
       "2                                             0.5674   \n",
       "3  [1, 1.0126598850010335, 1.0234751906418178, 1....   \n",
       "4                                             0.2061   \n",
       "\n",
       "                                               d1s3_  \\\n",
       "0                                             0.0765   \n",
       "1                                             0.1065   \n",
       "2                                             0.7185   \n",
       "3  [1, 1.0026064331785434, 1.012484624312181, 1.0...   \n",
       "4                                             0.2083   \n",
       "\n",
       "                                               d1s4_  \\\n",
       "0                                             0.0818   \n",
       "1                                             0.1196   \n",
       "2                                             0.6843   \n",
       "3  [1, 1.0073394739719363, 1.0145902238361164, 1....   \n",
       "4                                             0.1977   \n",
       "\n",
       "                                               d1s5_  \\\n",
       "0                                             0.0818   \n",
       "1                                             0.1196   \n",
       "2                                             0.6837   \n",
       "3  [1, 1.0073394739719363, 1.0145902238361164, 1....   \n",
       "4                                             0.1978   \n",
       "\n",
       "                                               d1s6_  \\\n",
       "0                                             0.0818   \n",
       "1                                             0.1196   \n",
       "2                                             0.6837   \n",
       "3  [1, 1.0073394739719363, 1.0145902238361164, 1....   \n",
       "4                                             0.1982   \n",
       "\n",
       "                                               d1s7_  ...  \\\n",
       "0                                             0.0637  ...   \n",
       "1                                             0.0943  ...   \n",
       "2                                             0.6756  ...   \n",
       "3  [1, 0.9981132379847455, 0.9973721746322253, 1....  ...   \n",
       "4                                             0.2002  ...   \n",
       "\n",
       "                                               d3s3_  \\\n",
       "0                                              0.066   \n",
       "1                                             0.1026   \n",
       "2                                             0.6435   \n",
       "3  [1, 1.005580531241339, 1.0149710221745367, 1.0...   \n",
       "4                                              0.206   \n",
       "\n",
       "                                               d3s4_  \\\n",
       "0                                             0.0681   \n",
       "1                                             0.1105   \n",
       "2                                             0.6163   \n",
       "3  [1, 1.0021907144297397, 1.0046777665065623, 1....   \n",
       "4                                             0.1977   \n",
       "\n",
       "                                               d3s5_  \\\n",
       "0                                             0.0681   \n",
       "1                                             0.1105   \n",
       "2                                             0.6163   \n",
       "3  [1, 1.0021907144297397, 1.0046777665065623, 1....   \n",
       "4                                             0.1977   \n",
       "\n",
       "                                               d3s6_  \\\n",
       "0                                             0.0681   \n",
       "1                                             0.1105   \n",
       "2                                             0.6161   \n",
       "3  [1, 1.0021907144297397, 1.0046777665065623, 1....   \n",
       "4                                             0.1969   \n",
       "\n",
       "                                               d3s7_  \\\n",
       "0                                             0.0375   \n",
       "1                                             0.0924   \n",
       "2                                             0.4061   \n",
       "3  [1, 1.0044116852280824, 1.023503027313782, 1.0...   \n",
       "4                                             0.1922   \n",
       "\n",
       "                                               d3s8_  \\\n",
       "0                                             0.0686   \n",
       "1                                             0.1036   \n",
       "2                                             0.6626   \n",
       "3  [1, 1.0006849547281063, 1.0009776175377272, 1....   \n",
       "4                                             0.1975   \n",
       "\n",
       "                                               d3s9_  \\\n",
       "0                                             0.0671   \n",
       "1                                             0.1081   \n",
       "2                                             0.6212   \n",
       "3  [1, 1.000722967728121, 1.0172765397534735, 1.0...   \n",
       "4                                             0.2051   \n",
       "\n",
       "                                               d3s10  \\\n",
       "0                                              0.072   \n",
       "1                                             0.1067   \n",
       "2                                             0.6745   \n",
       "3  [1, 1.0011683020703974, 1.0166236447439694, 1....   \n",
       "4                                             0.2004   \n",
       "\n",
       "                                               d3s11  \\\n",
       "0                                             0.0718   \n",
       "1                                             0.1067   \n",
       "2                                             0.6731   \n",
       "3  [1, 1.0011683020703974, 1.0166236447439694, 1....   \n",
       "4                                             0.2003   \n",
       "\n",
       "                                               d3s12  \n",
       "0                                             0.0721  \n",
       "1                                             0.1068  \n",
       "2                                             0.6756  \n",
       "3  [1, 1.0011683020703974, 1.0166236447439694, 1....  \n",
       "4                                             0.2009  \n",
       "\n",
       "[5 rows x 39 columns]"
      ]
     },
     "execution_count": 447,
     "metadata": {},
     "output_type": "execute_result"
    }
   ],
   "source": [
    "rrssdf_all.head()"
   ]
  },
  {
   "cell_type": "markdown",
   "metadata": {},
   "source": [
    "## SESTM: Correlation to Next Month Return (by 30/60/90-day consensus sentiment)"
   ]
  },
  {
   "cell_type": "code",
   "execution_count": 234,
   "metadata": {},
   "outputs": [],
   "source": [
    "s30 = msf.groupby(['month','SecuCode']).median().join(ssm0.groupby(['month','SecuCode']).mean(), how='inner').dropna().reset_index()\n",
    "c30 = pd.DataFrame()\n",
    "c30['score_name'] = sestm_score_cols\n",
    "c30['pearson_1m_ret'] = c30['score_name'].map(lambda x: s30.groupby(['month'])[['ret',x]].corr(method='pearson').unstack().iloc[:,1].mean())\n",
    "c30['spearman_1m_ret'] = c30['score_name'].map(lambda x: s30.groupby(['month'])[['ret',x]].corr(method='spearman').unstack().iloc[:,1].mean())\n",
    "c30['pearson_5d_specret'] = c30['score_name'].map(lambda x: s30.groupby(['month'])[['specret_tp1-tp5',x]].corr(method='pearson').unstack().iloc[:,1].mean())\n",
    "c30['spearman_5d_specret'] = c30['score_name'].map(lambda x: s30.groupby(['month'])[['specret_tp1-tp5',x]].corr(method='spearman').unstack().iloc[:,1].mean())"
   ]
  },
  {
   "cell_type": "code",
   "execution_count": 235,
   "metadata": {},
   "outputs": [
    {
     "data": {
      "text/html": [
       "<div>\n",
       "<style scoped>\n",
       "    .dataframe tbody tr th:only-of-type {\n",
       "        vertical-align: middle;\n",
       "    }\n",
       "\n",
       "    .dataframe tbody tr th {\n",
       "        vertical-align: top;\n",
       "    }\n",
       "\n",
       "    .dataframe thead th {\n",
       "        text-align: right;\n",
       "    }\n",
       "</style>\n",
       "<table border=\"1\" class=\"dataframe\">\n",
       "  <thead>\n",
       "    <tr style=\"text-align: right;\">\n",
       "      <th></th>\n",
       "      <th>score_name</th>\n",
       "      <th>pearson_1m_ret</th>\n",
       "      <th>spearman_1m_ret</th>\n",
       "      <th>pearson_5d_specret</th>\n",
       "      <th>spearman_5d_specret</th>\n",
       "    </tr>\n",
       "  </thead>\n",
       "  <tbody>\n",
       "    <tr>\n",
       "      <th>7</th>\n",
       "      <td>sestm_0.97_50_0.1_av_specret_2d_TDR=True_93151</td>\n",
       "      <td>0.012332</td>\n",
       "      <td>0.010970</td>\n",
       "      <td>0.012246</td>\n",
       "      <td>0.008803</td>\n",
       "    </tr>\n",
       "    <tr>\n",
       "      <th>5</th>\n",
       "      <td>sestm_0.97_50_0.1_av_specret_2d_TDR=False_93151</td>\n",
       "      <td>0.014959</td>\n",
       "      <td>0.009908</td>\n",
       "      <td>0.014416</td>\n",
       "      <td>0.010181</td>\n",
       "    </tr>\n",
       "    <tr>\n",
       "      <th>6</th>\n",
       "      <td>sestm_0.97_50_0.1_len-wise_specret_2d_TDR=True...</td>\n",
       "      <td>0.004575</td>\n",
       "      <td>0.005310</td>\n",
       "      <td>0.005868</td>\n",
       "      <td>0.009699</td>\n",
       "    </tr>\n",
       "  </tbody>\n",
       "</table>\n",
       "</div>"
      ],
      "text/plain": [
       "                                          score_name  pearson_1m_ret  \\\n",
       "7     sestm_0.97_50_0.1_av_specret_2d_TDR=True_93151        0.012332   \n",
       "5    sestm_0.97_50_0.1_av_specret_2d_TDR=False_93151        0.014959   \n",
       "6  sestm_0.97_50_0.1_len-wise_specret_2d_TDR=True...        0.004575   \n",
       "\n",
       "   spearman_1m_ret  pearson_5d_specret  spearman_5d_specret  \n",
       "7         0.010970            0.012246             0.008803  \n",
       "5         0.009908            0.014416             0.010181  \n",
       "6         0.005310            0.005868             0.009699  "
      ]
     },
     "execution_count": 235,
     "metadata": {},
     "output_type": "execute_result"
    }
   ],
   "source": [
    "c30.sort_values(by='spearman_1m_ret', ascending=False).head(3)"
   ]
  },
  {
   "cell_type": "code",
   "execution_count": 236,
   "metadata": {},
   "outputs": [],
   "source": [
    "s60 = msf.groupby(['month','SecuCode']).median().join(dsm0.append(ssm1).groupby(['month','SecuCode']).mean(), how='inner').dropna().reset_index()\n",
    "c60 = pd.DataFrame()\n",
    "c60['score_name'] = sestm_score_cols\n",
    "c60['pearson_1m_ret'] = c60['score_name'].map(lambda x: s60.groupby(['month'])[['ret',x]].corr(method='pearson').unstack().iloc[:,1].mean())\n",
    "c60['spearman_1m_ret'] = c60['score_name'].map(lambda x: s60.groupby(['month'])[['ret',x]].corr(method='spearman').unstack().iloc[:,1].mean())\n",
    "c60['pearson_5d_specret'] = c60['score_name'].map(lambda x: s60.groupby(['month'])[['specret_tp1-tp5',x]].corr(method='pearson').unstack().iloc[:,1].mean())\n",
    "c60['spearman_5d_specret'] = c60['score_name'].map(lambda x: s60.groupby(['month'])[['specret_tp1-tp5',x]].corr(method='spearman').unstack().iloc[:,1].mean())"
   ]
  },
  {
   "cell_type": "code",
   "execution_count": 237,
   "metadata": {},
   "outputs": [
    {
     "data": {
      "text/html": [
       "<div>\n",
       "<style scoped>\n",
       "    .dataframe tbody tr th:only-of-type {\n",
       "        vertical-align: middle;\n",
       "    }\n",
       "\n",
       "    .dataframe tbody tr th {\n",
       "        vertical-align: top;\n",
       "    }\n",
       "\n",
       "    .dataframe thead th {\n",
       "        text-align: right;\n",
       "    }\n",
       "</style>\n",
       "<table border=\"1\" class=\"dataframe\">\n",
       "  <thead>\n",
       "    <tr style=\"text-align: right;\">\n",
       "      <th></th>\n",
       "      <th>score_name</th>\n",
       "      <th>pearson_1m_ret</th>\n",
       "      <th>spearman_1m_ret</th>\n",
       "      <th>pearson_5d_specret</th>\n",
       "      <th>spearman_5d_specret</th>\n",
       "    </tr>\n",
       "  </thead>\n",
       "  <tbody>\n",
       "    <tr>\n",
       "      <th>5</th>\n",
       "      <td>sestm_0.97_50_0.1_av_specret_2d_TDR=False_93151</td>\n",
       "      <td>0.018625</td>\n",
       "      <td>0.017600</td>\n",
       "      <td>0.015687</td>\n",
       "      <td>0.010746</td>\n",
       "    </tr>\n",
       "    <tr>\n",
       "      <th>4</th>\n",
       "      <td>sestm_0.97_50_0.1_len-wise_specret_2d_TDR=Fals...</td>\n",
       "      <td>0.008670</td>\n",
       "      <td>0.006453</td>\n",
       "      <td>0.012468</td>\n",
       "      <td>0.010292</td>\n",
       "    </tr>\n",
       "    <tr>\n",
       "      <th>1</th>\n",
       "      <td>sestm_0.97_500_0.1_av_specret_2d_TDR=False_78786</td>\n",
       "      <td>0.004717</td>\n",
       "      <td>-0.000028</td>\n",
       "      <td>0.014732</td>\n",
       "      <td>0.008964</td>\n",
       "    </tr>\n",
       "  </tbody>\n",
       "</table>\n",
       "</div>"
      ],
      "text/plain": [
       "                                          score_name  pearson_1m_ret  \\\n",
       "5    sestm_0.97_50_0.1_av_specret_2d_TDR=False_93151        0.018625   \n",
       "4  sestm_0.97_50_0.1_len-wise_specret_2d_TDR=Fals...        0.008670   \n",
       "1   sestm_0.97_500_0.1_av_specret_2d_TDR=False_78786        0.004717   \n",
       "\n",
       "   spearman_1m_ret  pearson_5d_specret  spearman_5d_specret  \n",
       "5         0.017600            0.015687             0.010746  \n",
       "4         0.006453            0.012468             0.010292  \n",
       "1        -0.000028            0.014732             0.008964  "
      ]
     },
     "execution_count": 237,
     "metadata": {},
     "output_type": "execute_result"
    }
   ],
   "source": [
    "c60.sort_values(by='spearman_5d_specret', ascending=False).head(3)"
   ]
  },
  {
   "cell_type": "code",
   "execution_count": 238,
   "metadata": {},
   "outputs": [],
   "source": [
    "s90 = msf.groupby(['month','SecuCode']).median().join(dsm0.append(dsm1).append(ssm2).groupby(['month','SecuCode']).mean(), how='inner').dropna().reset_index()\n",
    "c90 = pd.DataFrame()\n",
    "c90['score_name'] = sestm_score_cols\n",
    "c90['pearson_1m_ret'] = c30['score_name'].map(lambda x: s90.groupby(['month'])[['ret',x]].corr(method='pearson').unstack().iloc[:,1].mean())\n",
    "c90['spearman_1m_ret'] = c30['score_name'].map(lambda x: s90.groupby(['month'])[['ret',x]].corr(method='spearman').unstack().iloc[:,1].mean())\n",
    "c90['pearson_5d_specret'] = c90['score_name'].map(lambda x: s90.groupby(['month'])[['specret_tp1-tp5',x]].corr(method='pearson').unstack().iloc[:,1].mean())\n",
    "c90['spearman_5d_specret'] = c90['score_name'].map(lambda x: s90.groupby(['month'])[['specret_tp1-tp5',x]].corr(method='spearman').unstack().iloc[:,1].mean())"
   ]
  },
  {
   "cell_type": "code",
   "execution_count": 239,
   "metadata": {},
   "outputs": [
    {
     "data": {
      "text/html": [
       "<div>\n",
       "<style scoped>\n",
       "    .dataframe tbody tr th:only-of-type {\n",
       "        vertical-align: middle;\n",
       "    }\n",
       "\n",
       "    .dataframe tbody tr th {\n",
       "        vertical-align: top;\n",
       "    }\n",
       "\n",
       "    .dataframe thead th {\n",
       "        text-align: right;\n",
       "    }\n",
       "</style>\n",
       "<table border=\"1\" class=\"dataframe\">\n",
       "  <thead>\n",
       "    <tr style=\"text-align: right;\">\n",
       "      <th></th>\n",
       "      <th>score_name</th>\n",
       "      <th>pearson_1m_ret</th>\n",
       "      <th>spearman_1m_ret</th>\n",
       "      <th>pearson_5d_specret</th>\n",
       "      <th>spearman_5d_specret</th>\n",
       "    </tr>\n",
       "  </thead>\n",
       "  <tbody>\n",
       "    <tr>\n",
       "      <th>3</th>\n",
       "      <td>sestm_0.97_500_0.1_av_specret_2d_TDR=True_78786</td>\n",
       "      <td>0.007074</td>\n",
       "      <td>0.002138</td>\n",
       "      <td>0.006934</td>\n",
       "      <td>-0.000804</td>\n",
       "    </tr>\n",
       "    <tr>\n",
       "      <th>2</th>\n",
       "      <td>sestm_0.97_500_0.1_len-wise_specret_2d_TDR=Tru...</td>\n",
       "      <td>0.002256</td>\n",
       "      <td>-0.001910</td>\n",
       "      <td>0.003952</td>\n",
       "      <td>-0.002243</td>\n",
       "    </tr>\n",
       "    <tr>\n",
       "      <th>7</th>\n",
       "      <td>sestm_0.97_50_0.1_av_specret_2d_TDR=True_93151</td>\n",
       "      <td>0.014041</td>\n",
       "      <td>0.012368</td>\n",
       "      <td>0.004208</td>\n",
       "      <td>-0.002904</td>\n",
       "    </tr>\n",
       "  </tbody>\n",
       "</table>\n",
       "</div>"
      ],
      "text/plain": [
       "                                          score_name  pearson_1m_ret  \\\n",
       "3    sestm_0.97_500_0.1_av_specret_2d_TDR=True_78786        0.007074   \n",
       "2  sestm_0.97_500_0.1_len-wise_specret_2d_TDR=Tru...        0.002256   \n",
       "7     sestm_0.97_50_0.1_av_specret_2d_TDR=True_93151        0.014041   \n",
       "\n",
       "   spearman_1m_ret  pearson_5d_specret  spearman_5d_specret  \n",
       "3         0.002138            0.006934            -0.000804  \n",
       "2        -0.001910            0.003952            -0.002243  \n",
       "7         0.012368            0.004208            -0.002904  "
      ]
     },
     "execution_count": 239,
     "metadata": {},
     "output_type": "execute_result"
    }
   ],
   "source": [
    "c90.sort_values(by='spearman_5d_specret', ascending=False).head(3)"
   ]
  },
  {
   "cell_type": "markdown",
   "metadata": {},
   "source": [
    "## 30/60/90-day SESTM Consensus Sentiment against t+1 Monthly and 5d Return"
   ]
  },
  {
   "cell_type": "code",
   "execution_count": 240,
   "metadata": {},
   "outputs": [],
   "source": [
    "sdf = s30.copy()"
   ]
  },
  {
   "cell_type": "code",
   "execution_count": 241,
   "metadata": {},
   "outputs": [],
   "source": [
    "months = list(sdf['month'].unique())"
   ]
  },
  {
   "cell_type": "code",
   "execution_count": 242,
   "metadata": {},
   "outputs": [
    {
     "name": "stdout",
     "output_type": "stream",
     "text": [
      "sestm_0.97_50_0.1_av_specret_2d_TDR=True_93151 10\n"
     ]
    }
   ],
   "source": [
    "rrss_mat = []\n",
    "for score_this in sestm_score_cols:\n",
    "    rrss = []\n",
    "    for partition_num in [-1]+(list(range(1,11))):\n",
    "        print(score_this,partition_num); clear_output(wait=True)\n",
    "        prets = []; acc_val = [1]\n",
    "        for month_this in months:    \n",
    "            sdfi = sdf.loc[sdf.month == month_this].sort_values(by=score_this,ascending=False)\n",
    "            if not len(sdfi): continue\n",
    "            if partition_num == -1:\n",
    "                prets.append(sdfi[:int(len(sdfi)/10)*partition_num]['ret'].mean()\\\n",
    "                - sdfi[int(len(sdfi)/10)*(9):]['ret'].mean())\n",
    "                acc_val.append(acc_val[-1] * (1+sdfi[:int(len(sdfi)/10)*partition_num]['ret'].mean()\\\n",
    "                - sdfi[int(len(sdfi)/10)*(9):]['ret'].mean()))\n",
    "            else:\n",
    "                prets.append(sdfi[int(len(sdfi)/10)*(partition_num-1):int(len(sdfi)/10)*partition_num]['ret'].mean())\n",
    "                acc_val.append(acc_val[-1] * (1+sdfi[int(len(sdfi)/10)*(partition_num-1):int(len(sdfi)/10)*partition_num]['ret'].mean()))\n",
    "        rrs = [round(np.array(prets).mean()*12,4), round(np.array(prets).std()*(12**0.5),4),round((np.array(prets).mean()*12)/(np.array(prets).std()*(12**0.5)),4), acc_val]\n",
    "        rrss.extend(rrs)\n",
    "    rrss_mat.append(rrss)"
   ]
  },
  {
   "cell_type": "code",
   "execution_count": 244,
   "metadata": {},
   "outputs": [
    {
     "name": "stderr",
     "output_type": "stream",
     "text": [
      "c:\\users\\ymym\\appdata\\local\\programs\\python\\python37\\lib\\site-packages\\ipykernel_launcher.py:4: VisibleDeprecationWarning: Creating an ndarray from ragged nested sequences (which is a list-or-tuple of lists-or-tuples-or ndarrays with different lengths or shapes) is deprecated. If you meant to do this, you must specify 'dtype=object' when creating the ndarray\n",
      "  after removing the cwd from sys.path.\n"
     ]
    }
   ],
   "source": [
    "ind = []\n",
    "for i in range(0,11):\n",
    "    ind += ['Annual Return '+str(i),'Annual Risk '+str(i),'Sharpe '+str(i),'Acc Val '+str(i)]\n",
    "rrssdf_30 = pd.DataFrame(np.array(rrss_mat).T,columns=sestm_score_cols)\n",
    "rrssdf_30['ind'] = ind; rrssdf_30.index = rrssdf_30.ind; rrssdf_30 = rrssdf_30.drop(columns=['ind'])"
   ]
  },
  {
   "cell_type": "code",
   "execution_count": 246,
   "metadata": {},
   "outputs": [],
   "source": [
    "rrssdf_30.to_csv('rrss30_df_sestm.csv')"
   ]
  },
  {
   "cell_type": "code",
   "execution_count": 247,
   "metadata": {},
   "outputs": [],
   "source": [
    "sdf = s60.copy()"
   ]
  },
  {
   "cell_type": "code",
   "execution_count": 248,
   "metadata": {},
   "outputs": [
    {
     "name": "stdout",
     "output_type": "stream",
     "text": [
      "sestm_0.97_50_0.1_av_specret_2d_TDR=True_93151 10\n"
     ]
    }
   ],
   "source": [
    "rrss_mat = []\n",
    "for score_this in sestm_score_cols:\n",
    "    rrss = []\n",
    "    for partition_num in [-1]+(list(range(1,11))):\n",
    "        print(score_this,partition_num); clear_output(wait=True)\n",
    "        prets = []; acc_val = [1]\n",
    "        for month_this in months:    \n",
    "            sdfi = sdf.loc[sdf.month == month_this].sort_values(by=score_this,ascending=False)\n",
    "            if not len(sdfi): continue\n",
    "            if partition_num == -1:\n",
    "                prets.append(sdfi[:int(len(sdfi)/10)*partition_num]['ret'].mean()\\\n",
    "                - sdfi[int(len(sdfi)/10)*(9):]['ret'].mean())\n",
    "                acc_val.append(acc_val[-1] * (1+sdfi[:int(len(sdfi)/10)*partition_num]['ret'].mean()\\\n",
    "                - sdfi[int(len(sdfi)/10)*(9):]['ret'].mean()))\n",
    "            else:\n",
    "                prets.append(sdfi[int(len(sdfi)/10)*(partition_num-1):int(len(sdfi)/10)*partition_num]['ret'].mean())\n",
    "                acc_val.append(acc_val[-1] * (1+sdfi[int(len(sdfi)/10)*(partition_num-1):int(len(sdfi)/10)*partition_num]['ret'].mean()))\n",
    "        rrs = [round(np.array(prets).mean()*12,4), round(np.array(prets).std()*(12**0.5),4),round((np.array(prets).mean()*12)/(np.array(prets).std()*(12**0.5)),4), acc_val]\n",
    "        rrss.extend(rrs)\n",
    "    rrss_mat.append(rrss)"
   ]
  },
  {
   "cell_type": "code",
   "execution_count": 249,
   "metadata": {},
   "outputs": [
    {
     "name": "stderr",
     "output_type": "stream",
     "text": [
      "c:\\users\\ymym\\appdata\\local\\programs\\python\\python37\\lib\\site-packages\\ipykernel_launcher.py:4: VisibleDeprecationWarning: Creating an ndarray from ragged nested sequences (which is a list-or-tuple of lists-or-tuples-or ndarrays with different lengths or shapes) is deprecated. If you meant to do this, you must specify 'dtype=object' when creating the ndarray\n",
      "  after removing the cwd from sys.path.\n"
     ]
    }
   ],
   "source": [
    "ind = []\n",
    "for i in range(0,11):\n",
    "    ind += ['Annual Return '+str(i),'Annual Risk '+str(i),'Sharpe '+str(i), 'Acc Val '+str(i)]\n",
    "rrssdf_60 = pd.DataFrame(np.array(rrss_mat).T,columns=sestm_score_cols)\n",
    "rrssdf_60['ind'] = ind; rrssdf_60.index = rrssdf_60.ind; rrssdf_60 = rrssdf_60.drop(columns=['ind'])"
   ]
  },
  {
   "cell_type": "code",
   "execution_count": 251,
   "metadata": {},
   "outputs": [],
   "source": [
    "rrssdf_60.to_csv('rrss60_df_sestm.csv')"
   ]
  },
  {
   "cell_type": "code",
   "execution_count": 252,
   "metadata": {},
   "outputs": [],
   "source": [
    "sdf = s90.copy()"
   ]
  },
  {
   "cell_type": "code",
   "execution_count": 253,
   "metadata": {},
   "outputs": [
    {
     "name": "stdout",
     "output_type": "stream",
     "text": [
      "sestm_0.97_50_0.1_av_specret_2d_TDR=True_93151 10\n"
     ]
    }
   ],
   "source": [
    "rrss_mat = []\n",
    "for score_this in sestm_score_cols:\n",
    "    rrss = []\n",
    "    for partition_num in [-1]+(list(range(1,11))):\n",
    "        print(score_this,partition_num); clear_output(wait=True)\n",
    "        prets = []; acc_val = [1]\n",
    "        for month_this in months:    \n",
    "            sdfi = sdf.loc[sdf.month == month_this].sort_values(by=score_this,ascending=False)\n",
    "            if not len(sdfi): continue\n",
    "            if partition_num == -1:\n",
    "                prets.append(sdfi[:int(len(sdfi)/10)*partition_num]['ret'].mean()\\\n",
    "                - sdfi[int(len(sdfi)/10)*(9):]['ret'].mean())\n",
    "                acc_val.append(acc_val[-1] * (1+sdfi[:int(len(sdfi)/10)*partition_num]['ret'].mean()\\\n",
    "                - sdfi[int(len(sdfi)/10)*(9):]['ret'].mean()))\n",
    "            else:\n",
    "                prets.append(sdfi[int(len(sdfi)/10)*(partition_num-1):int(len(sdfi)/10)*partition_num]['ret'].mean())\n",
    "                acc_val.append(acc_val[-1] * (1+sdfi[int(len(sdfi)/10)*(partition_num-1):int(len(sdfi)/10)*partition_num]['ret'].mean()))\n",
    "        rrs = [round(np.array(prets).mean()*12,4), round(np.array(prets).std()*(12**0.5),4),round((np.array(prets).mean()*12)/(np.array(prets).std()*(12**0.5)),4), acc_val]\n",
    "        rrss.extend(rrs)\n",
    "    rrss_mat.append(rrss)"
   ]
  },
  {
   "cell_type": "code",
   "execution_count": 254,
   "metadata": {},
   "outputs": [
    {
     "name": "stderr",
     "output_type": "stream",
     "text": [
      "c:\\users\\ymym\\appdata\\local\\programs\\python\\python37\\lib\\site-packages\\ipykernel_launcher.py:4: VisibleDeprecationWarning: Creating an ndarray from ragged nested sequences (which is a list-or-tuple of lists-or-tuples-or ndarrays with different lengths or shapes) is deprecated. If you meant to do this, you must specify 'dtype=object' when creating the ndarray\n",
      "  after removing the cwd from sys.path.\n"
     ]
    }
   ],
   "source": [
    "ind = []\n",
    "for i in range(0,11):\n",
    "    ind += ['Annual Return '+str(i),'Annual Risk '+str(i),'Sharpe '+str(i), 'Acc Val '+str(i)]\n",
    "rrssdf_90 = pd.DataFrame(np.array(rrss_mat).T,columns=sestm_score_cols)\n",
    "rrssdf_90['ind'] = ind; rrssdf_90.index = rrssdf_90.ind; rrssdf_90 = rrssdf_90.drop(columns=['ind'])"
   ]
  },
  {
   "cell_type": "code",
   "execution_count": 255,
   "metadata": {},
   "outputs": [],
   "source": [
    "rrssdf_90.to_csv('rrss90_df_sestm.csv')"
   ]
  },
  {
   "cell_type": "code",
   "execution_count": 448,
   "metadata": {},
   "outputs": [],
   "source": [
    "rrssdf_30 = pd.read_csv('rrss30_df_sestm.csv')\n",
    "rrssdf_60 = pd.read_csv('rrss60_df_sestm.csv')\n",
    "rrssdf_90 = pd.read_csv('rrss90_df_sestm.csv')"
   ]
  },
  {
   "cell_type": "code",
   "execution_count": 449,
   "metadata": {},
   "outputs": [],
   "source": [
    "rrssdf_30 = rrssdf_30.reset_index()\n",
    "rrssdf_30['stat'] = rrssdf_30['ind'].map(lambda x: x[:-2]).map(lambda x: x.strip())\n",
    "rrssdf_30['portfolio'] = rrssdf_30['ind'].map(lambda x: x[-2:]).map(int)\n",
    "rrssdf_30['dur'] = 30\n",
    "rrssdf_30 = rrssdf_30.drop(columns=['index'])"
   ]
  },
  {
   "cell_type": "code",
   "execution_count": 450,
   "metadata": {},
   "outputs": [],
   "source": [
    "rrssdf_60 = rrssdf_60.reset_index()\n",
    "rrssdf_60['stat'] = rrssdf_60['ind'].map(lambda x: x[:-2]).map(lambda x: x.strip())\n",
    "rrssdf_60['portfolio'] = rrssdf_60['ind'].map(lambda x: x[-2:]).map(int)\n",
    "rrssdf_60['dur'] = 60\n",
    "rrssdf_60 = rrssdf_60.drop(columns=['index'])"
   ]
  },
  {
   "cell_type": "code",
   "execution_count": 451,
   "metadata": {},
   "outputs": [],
   "source": [
    "rrssdf_90 = rrssdf_90.reset_index()\n",
    "rrssdf_90['stat'] = rrssdf_90['ind'].map(lambda x: x[:-2]).map(lambda x: x.strip())\n",
    "rrssdf_90['portfolio'] = rrssdf_90['ind'].map(lambda x: x[-2:]).map(int)\n",
    "rrssdf_90['dur'] = 90\n",
    "rrssdf_90 = rrssdf_90.drop(columns=['index'])"
   ]
  },
  {
   "cell_type": "code",
   "execution_count": 452,
   "metadata": {},
   "outputs": [],
   "source": [
    "rrssdf_all = rrssdf_30.append(rrssdf_60).append(rrssdf_90)[['dur','portfolio','stat',*sestm_score_cols]]"
   ]
  },
  {
   "cell_type": "code",
   "execution_count": 453,
   "metadata": {},
   "outputs": [],
   "source": [
    "rrssdf_all.to_csv('rrss-all_df_sestm.csv')"
   ]
  },
  {
   "cell_type": "code",
   "execution_count": 454,
   "metadata": {},
   "outputs": [
    {
     "data": {
      "text/html": [
       "<div>\n",
       "<style scoped>\n",
       "    .dataframe tbody tr th:only-of-type {\n",
       "        vertical-align: middle;\n",
       "    }\n",
       "\n",
       "    .dataframe tbody tr th {\n",
       "        vertical-align: top;\n",
       "    }\n",
       "\n",
       "    .dataframe thead th {\n",
       "        text-align: right;\n",
       "    }\n",
       "</style>\n",
       "<table border=\"1\" class=\"dataframe\">\n",
       "  <thead>\n",
       "    <tr style=\"text-align: right;\">\n",
       "      <th></th>\n",
       "      <th>dur</th>\n",
       "      <th>portfolio</th>\n",
       "      <th>stat</th>\n",
       "      <th>sestm_0.97_500_0.1_len-wise_specret_2d_TDR=False_9284</th>\n",
       "      <th>sestm_0.97_500_0.1_av_specret_2d_TDR=False_78786</th>\n",
       "      <th>sestm_0.97_500_0.1_len-wise_specret_2d_TDR=True_9284</th>\n",
       "      <th>sestm_0.97_500_0.1_av_specret_2d_TDR=True_78786</th>\n",
       "      <th>sestm_0.97_50_0.1_len-wise_specret_2d_TDR=False_5024</th>\n",
       "      <th>sestm_0.97_50_0.1_av_specret_2d_TDR=False_93151</th>\n",
       "      <th>sestm_0.97_50_0.1_len-wise_specret_2d_TDR=True_5024</th>\n",
       "      <th>sestm_0.97_50_0.1_av_specret_2d_TDR=True_93151</th>\n",
       "    </tr>\n",
       "  </thead>\n",
       "  <tbody>\n",
       "    <tr>\n",
       "      <th>0</th>\n",
       "      <td>30</td>\n",
       "      <td>0</td>\n",
       "      <td>Annual Return</td>\n",
       "      <td>0.0594</td>\n",
       "      <td>0.0592</td>\n",
       "      <td>0.0684</td>\n",
       "      <td>0.0616</td>\n",
       "      <td>0.0792</td>\n",
       "      <td>0.0857</td>\n",
       "      <td>0.0555</td>\n",
       "      <td>0.0731</td>\n",
       "    </tr>\n",
       "    <tr>\n",
       "      <th>1</th>\n",
       "      <td>30</td>\n",
       "      <td>0</td>\n",
       "      <td>Annual Risk</td>\n",
       "      <td>0.1215</td>\n",
       "      <td>0.1216</td>\n",
       "      <td>0.1161</td>\n",
       "      <td>0.1145</td>\n",
       "      <td>0.0851</td>\n",
       "      <td>0.0886</td>\n",
       "      <td>0.084</td>\n",
       "      <td>0.0864</td>\n",
       "    </tr>\n",
       "    <tr>\n",
       "      <th>2</th>\n",
       "      <td>30</td>\n",
       "      <td>0</td>\n",
       "      <td>Sharpe</td>\n",
       "      <td>0.4892</td>\n",
       "      <td>0.4866</td>\n",
       "      <td>0.5894</td>\n",
       "      <td>0.5385</td>\n",
       "      <td>0.9308</td>\n",
       "      <td>0.9672</td>\n",
       "      <td>0.6606</td>\n",
       "      <td>0.8456</td>\n",
       "    </tr>\n",
       "    <tr>\n",
       "      <th>3</th>\n",
       "      <td>30</td>\n",
       "      <td>0</td>\n",
       "      <td>Acc Val</td>\n",
       "      <td>[1, 1.0461160769790532, 1.0482579432292312, 1....</td>\n",
       "      <td>[1, 1.0593668042276547, 1.0650971128105446, 1....</td>\n",
       "      <td>[1, 1.046209404693553, 1.0405394934586043, 1.0...</td>\n",
       "      <td>[1, 1.053599410210428, 1.0560664379595346, 1.0...</td>\n",
       "      <td>[1, 1.0200934563693538, 1.0422220286468402, 1....</td>\n",
       "      <td>[1, 1.0250360712461453, 1.033256645233008, 1.0...</td>\n",
       "      <td>[1, 1.0244723546837275, 1.0379176235777092, 1....</td>\n",
       "      <td>[1, 1.0192081118214174, 1.0408759117334854, 1....</td>\n",
       "    </tr>\n",
       "  </tbody>\n",
       "</table>\n",
       "</div>"
      ],
      "text/plain": [
       "   dur  portfolio           stat  \\\n",
       "0   30          0  Annual Return   \n",
       "1   30          0    Annual Risk   \n",
       "2   30          0         Sharpe   \n",
       "3   30          0        Acc Val   \n",
       "\n",
       "  sestm_0.97_500_0.1_len-wise_specret_2d_TDR=False_9284  \\\n",
       "0                                             0.0594      \n",
       "1                                             0.1215      \n",
       "2                                             0.4892      \n",
       "3  [1, 1.0461160769790532, 1.0482579432292312, 1....      \n",
       "\n",
       "    sestm_0.97_500_0.1_av_specret_2d_TDR=False_78786  \\\n",
       "0                                             0.0592   \n",
       "1                                             0.1216   \n",
       "2                                             0.4866   \n",
       "3  [1, 1.0593668042276547, 1.0650971128105446, 1....   \n",
       "\n",
       "  sestm_0.97_500_0.1_len-wise_specret_2d_TDR=True_9284  \\\n",
       "0                                             0.0684     \n",
       "1                                             0.1161     \n",
       "2                                             0.5894     \n",
       "3  [1, 1.046209404693553, 1.0405394934586043, 1.0...     \n",
       "\n",
       "     sestm_0.97_500_0.1_av_specret_2d_TDR=True_78786  \\\n",
       "0                                             0.0616   \n",
       "1                                             0.1145   \n",
       "2                                             0.5385   \n",
       "3  [1, 1.053599410210428, 1.0560664379595346, 1.0...   \n",
       "\n",
       "  sestm_0.97_50_0.1_len-wise_specret_2d_TDR=False_5024  \\\n",
       "0                                             0.0792     \n",
       "1                                             0.0851     \n",
       "2                                             0.9308     \n",
       "3  [1, 1.0200934563693538, 1.0422220286468402, 1....     \n",
       "\n",
       "     sestm_0.97_50_0.1_av_specret_2d_TDR=False_93151  \\\n",
       "0                                             0.0857   \n",
       "1                                             0.0886   \n",
       "2                                             0.9672   \n",
       "3  [1, 1.0250360712461453, 1.033256645233008, 1.0...   \n",
       "\n",
       "  sestm_0.97_50_0.1_len-wise_specret_2d_TDR=True_5024  \\\n",
       "0                                             0.0555    \n",
       "1                                              0.084    \n",
       "2                                             0.6606    \n",
       "3  [1, 1.0244723546837275, 1.0379176235777092, 1....    \n",
       "\n",
       "      sestm_0.97_50_0.1_av_specret_2d_TDR=True_93151  \n",
       "0                                             0.0731  \n",
       "1                                             0.0864  \n",
       "2                                             0.8456  \n",
       "3  [1, 1.0192081118214174, 1.0408759117334854, 1....  "
      ]
     },
     "execution_count": 454,
     "metadata": {},
     "output_type": "execute_result"
    }
   ],
   "source": [
    "rrssdf_all.head(4)"
   ]
  },
  {
   "cell_type": "markdown",
   "metadata": {},
   "source": [
    "# Visualize All Results"
   ]
  },
  {
   "cell_type": "code",
   "execution_count": 27,
   "metadata": {},
   "outputs": [],
   "source": [
    "import pandas as pd; import numpy as np; from IPython.display import clear_output\n",
    "from seaborn import heatmap; import matplotlib.pyplot as plt; from matplotlib.gridspec import GridSpec"
   ]
  },
  {
   "cell_type": "code",
   "execution_count": 28,
   "metadata": {},
   "outputs": [],
   "source": [
    "# read CSVs\n",
    "hmdf_c1 = pd.read_csv('rrss-all_df.csv', index_col = 0)\n",
    "hmdf_c2 = pd.read_csv('rrss-all_df_sestm.csv', index_col = 0)"
   ]
  },
  {
   "cell_type": "code",
   "execution_count": 29,
   "metadata": {},
   "outputs": [
    {
     "name": "stdout",
     "output_type": "stream",
     "text": [
      "** DICT COLUMNS: (full data)\n",
      "d1s1_ d1s2_ d1s3_ d1s4_ d1s5_ d1s6_ d1s7_ d1s8_ d1s9_ d1s10 d1s11 d1s12 d2s1_ d2s2_ d2s3_ d2s4_ d2s5_ d2s6_ d2s7_ d2s8_ d2s9_ d2s10 d2s11 d2s12 d3s1_ d3s2_ d3s3_ d3s4_ d3s5_ d3s6_ d3s7_ d3s8_ d3s9_ d3s10 d3s11 d3s12\n",
      "** SESTM COLUMNS: (test data)\n",
      "0.97_500_0.1_len-wise_specret_2d_TDR=False_9284 0.97_500_0.1_av_specret_2d_TDR=False_78786 0.97_500_0.1_len-wise_specret_2d_TDR=True_9284 0.97_500_0.1_av_specret_2d_TDR=True_78786 0.97_50_0.1_len-wise_specret_2d_TDR=False_5024 0.97_50_0.1_av_specret_2d_TDR=False_93151 0.97_50_0.1_len-wise_specret_2d_TDR=True_5024 0.97_50_0.1_av_specret_2d_TDR=True_93151\n"
     ]
    }
   ],
   "source": [
    "# Column Options\n",
    "print('** DICT COLUMNS: (full data)'); print(*list(pd.read_csv('rrss-all_df.csv', index_col = 0).columns)[3:])\n",
    "print('** SESTM COLUMNS: (test data)'); temp = pd.read_csv('rrss-all_df_sestm.csv', index_col = 0)\n",
    "print(*list(temp.columns[3:].map(lambda x: x[6:])))"
   ]
  },
  {
   "cell_type": "markdown",
   "metadata": {},
   "source": [
    "### Specifications (Plot 1)"
   ]
  },
  {
   "cell_type": "code",
   "execution_count": 22,
   "metadata": {},
   "outputs": [],
   "source": [
    "# choose some column(s) from those printed above (DICT or SESTM COLUMNS) WITH PREFIX '30d_', '60_' or '90d_'\n",
    "# NOTE1: DICT tags are stuctured: (<signal_length>)_d<dict_num>s<score_num_in_2_digits(may contain underscore as suffix, e.g. 6 --> '6_', 10 --> '10')>\n",
    "# NOTE2: SESTM tags are structured: (<signal_length>_)_<kappa_quantile>_<num_words>_<lambda>_<pos_filter>_<train_label>_<train_data_filter>_<words_hash_sum>\n",
    "\n",
    "portfolio_used = 0\n",
    "\n",
    "model_used = 'sestm'\n",
    "lines_filter = ['30d_0.97_500_0.1_av_specret_2d_TDR=True_78786','60d_0.97_500_0.1_av_specret_2d_TDR=True_78786','90d_0.97_500_0.1_av_specret_2d_TDR=True_78786']\n",
    "\n",
    "# SAMPLES\n",
    "\n",
    "#model_used = 'dict'\n",
    "#lines_filter = ['30d_d1s6_','60d_d1s6_','90d_d1s6_']\n",
    "\n",
    "#model_used = 'sestm'\n",
    "#lines_filter = ['30d_0.97_500_0.1_av_specret_2d_TDR=True_78786','60d_0.97_500_0.1_av_specret_2d_TDR=True_78786','90d_0.97_500_0.1_av_specret_2d_TDR=True_78786']"
   ]
  },
  {
   "cell_type": "markdown",
   "metadata": {},
   "source": [
    "### Plotting (Plot 1)"
   ]
  },
  {
   "cell_type": "code",
   "execution_count": 23,
   "metadata": {},
   "outputs": [
    {
     "data": {
      "image/png": "[encoded data removed]",
      "text/plain": [
       "<Figure size 1800x1440 with 7 Axes>"
      ]
     },
     "metadata": {
      "needs_background": "light"
     },
     "output_type": "display_data"
    }
   ],
   "source": [
    "if model_used == 'dict':\n",
    "    hmdf = hmdf_c1.copy()\n",
    "elif model_used == 'sestm':\n",
    "    hmdf = hmdf_c2.copy()\n",
    "    hmdf.columns = list(hmdf.columns[:3]) + list(hmdf.columns[3:].map(lambda x: x[6:]))\n",
    "cols_abbr = list(hmdf.columns[3:])\n",
    "line_df = hmdf.loc[(hmdf.portfolio==portfolio_used) & (hmdf.stat == 'Acc Val')]\n",
    "plot_lines = dict()\n",
    "for index, row in line_df.iterrows():\n",
    "    for col in cols_abbr:\n",
    "        plot_lines[str(row['dur'])+'d_'+str(col)] = row[col]\n",
    "hmdf1 = hmdf.loc[(hmdf.portfolio==portfolio_used) & (hmdf.stat == 'Annual Return')]\n",
    "hmdf2 = hmdf.loc[(hmdf.portfolio==portfolio_used) & (hmdf.stat == 'Annual Risk')]\n",
    "hmdf3 = hmdf.loc[(hmdf.portfolio==portfolio_used) & (hmdf.stat == 'Sharpe')]\n",
    "hmdf1.index = hmdf1['dur']; hmdf2.index = hmdf2['dur']; hmdf3.index = hmdf3['dur']\n",
    "f, (ax1, ax2, ax3, ax4) = plt.subplots(4,1,figsize=(25,20))\n",
    "for k,v in plot_lines.items():\n",
    "    if k in lines_filter:\n",
    "        v = eval(v)\n",
    "        if model_used == 'sestm':\n",
    "            if k[:2] == '60': v = [None] + v\n",
    "            if k[:2] == '90': v = [None, None] + v\n",
    "        pd.Series(v).plot(ax=ax1, label = k)\n",
    "g2 = heatmap(pd.DataFrame(hmdf1[cols_abbr], dtype=\"float\"), annot=True, fmt='.3f', cmap='rocket_r',ax=ax2); g2.set_title('Annualized Return')\n",
    "g3 = heatmap(pd.DataFrame(hmdf2[cols_abbr], dtype=\"float\"), annot=True, fmt='.3f', cmap='rocket_r',ax=ax3); g3.set_title('Annualized Risk')\n",
    "g4 = heatmap(pd.DataFrame(hmdf3[cols_abbr], dtype=\"float\"), annot=True, fmt='.3f', cmap='rocket_r',ax=ax4); g4.set_title('Sharpe')\n",
    "if model_used == 'sestm': ax2.set_xticks([]); ax3.set_xticks([])\n",
    "ax1.grid(); ax1.set_title(model_used.upper() + ' Portfolio {Pu}: Cumulative Return, Cpd monthly'.format(Pu=portfolio_used)); ax1.legend(loc='upper left')\n",
    "plt.savefig('C:/UROP/full_version_data/img/{Mu}_port{Pu}_filter-{Fu}.png'.format(Mu=model_used,Pu=portfolio_used,Fu=str(lines_filter))); plt.show()"
   ]
  },
  {
   "cell_type": "markdown",
   "metadata": {},
   "source": [
    "### Specification (Plot 2)"
   ]
  },
  {
   "cell_type": "code",
   "execution_count": 24,
   "metadata": {},
   "outputs": [],
   "source": [
    "# similar to specs of plot 1, but a single entry in lines_filter is recommended (is expected)\n",
    "\n",
    "model_used = 'dict'\n",
    "lines_filter = ['30d_d1s6_'] # one only\n",
    "\n",
    "# SAMPLES\n",
    "\n",
    "#model_used = 'dict'\n",
    "#lines_filter = ['30d_d1s6_']\n",
    "\n",
    "#model_used = 'sestm'\n",
    "#lines_filter = ['30d_0.97_500_0.1_av_specret_2d_TDR=True_78786']"
   ]
  },
  {
   "cell_type": "markdown",
   "metadata": {},
   "source": [
    "### Plotting (Plot 2)"
   ]
  },
  {
   "cell_type": "code",
   "execution_count": 26,
   "metadata": {},
   "outputs": [
    {
     "data": {
      "image/png": "[encoded data removed]",
      "text/plain": [
       "<Figure size 1440x576 with 1 Axes>"
      ]
     },
     "metadata": {
      "needs_background": "light"
     },
     "output_type": "display_data"
    }
   ],
   "source": [
    "if model_used == 'dict':\n",
    "    hmdf = hmdf_c1.copy()\n",
    "elif model_used == 'sestm':\n",
    "    hmdf = hmdf_c2.copy()\n",
    "    hmdf.columns = list(hmdf.columns[:3]) + list(hmdf.columns[3:].map(lambda x: x[6:]))\n",
    "cols_abbr = list(hmdf.columns[3:])\n",
    "line_df = hmdf.loc[hmdf.stat == 'Acc Val']\n",
    "plot_lines = dict()\n",
    "for index, row in line_df.iterrows():\n",
    "    for col in cols_abbr:\n",
    "        plot_lines['p'+str(row['portfolio'])+'_'+str(row['dur'])+'d_'+str(col)] = row[col]\n",
    "plt.figure(figsize=(20,8))\n",
    "for k,v in plot_lines.items():\n",
    "    if (k[3:] in lines_filter) or (k[4:] in lines_filter):\n",
    "        v = eval(v)\n",
    "        if model_used == 'sestm':\n",
    "            if k[:2] == '60': v = [None] + v\n",
    "            if k[:2] == '90': v = [None, None] + v\n",
    "        if k[1] != '0':\n",
    "            pd.Series(v).plot(linestyle='-',label = k[:3])\n",
    "        else:\n",
    "            pd.Series(v).plot(linestyle='--',label = k[:3])  \n",
    "            plt.title(str(k[3:])+' Varying Portfolios')\n",
    "plt.legend(loc='upper left'); plt.grid(); plt.show()"
   ]
  },
  {
   "cell_type": "code",
   "execution_count": null,
   "metadata": {},
   "outputs": [],
   "source": []
  }
 ],
 "metadata": {
  "kernelspec": {
   "display_name": "Python 3",
   "language": "python",
   "name": "python3"
  },
  "language_info": {
   "codemirror_mode": {
    "name": "ipython",
    "version": 3
   },
   "file_extension": ".py",
   "mimetype": "text/x-python",
   "name": "python",
   "nbconvert_exporter": "python",
   "pygments_lexer": "ipython3",
   "version": "3.7.9"
  }
 },
 "nbformat": 4,
 "nbformat_minor": 4
}
