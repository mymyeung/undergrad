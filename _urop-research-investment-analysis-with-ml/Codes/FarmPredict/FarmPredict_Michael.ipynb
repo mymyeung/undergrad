{
 "cells": [
  {
   "cell_type": "markdown",
   "id": "796b1bf5",
   "metadata": {},
   "source": [
    "## Farm Predict Replication\n",
    "UROP2100F, Michael Yeung, Apr 2022"
   ]
  },
  {
   "cell_type": "code",
   "execution_count": 6,
   "id": "089685e2",
   "metadata": {},
   "outputs": [],
   "source": [
    "#!conda install pytorch torchvision torchaudio cudatoolkit=11.3 -c pytorch -y"
   ]
  },
  {
   "cell_type": "code",
   "execution_count": 467,
   "id": "7d4b406b",
   "metadata": {},
   "outputs": [
    {
     "name": "stdout",
     "output_type": "stream",
     "text": [
      "** DEVICE **\n",
      "\n",
      "There are 7 GPU(s) available.\n",
      "Device name: NVIDIA GeForce RTX 3090\n",
      "\n",
      "** PATHS **\n",
      "\n",
      "Input:\t./data/\n",
      "Output:\t./output/\n"
     ]
    }
   ],
   "source": [
    "import pandas as pd; import numpy as np; import matplotlib.pyplot as plt\n",
    "import datetime as dt; from collections import Counter\n",
    "import torch; import re; import sys; import warnings\n",
    "from scipy.linalg import svd; from scipy.stats import pearsonr, spearmanr\n",
    "from sklearn.linear_model import LinearRegression, Lasso, ElasticNet\n",
    "warnings.filterwarnings(\"ignore\")\n",
    "print('** DEVICE **\\n')\n",
    "if torch.cuda.is_available():       \n",
    "    device = torch.device(\"cuda\")\n",
    "    print(f'There are {torch.cuda.device_count()} GPU(s) available.')\n",
    "    print('Device name:', torch.cuda.get_device_name(0))\n",
    "else:\n",
    "    print('No GPU available, using the CPU instead.'); device = torch.device(\"cpu\")\n",
    "print('\\n** PATHS **\\n')\n",
    "DATA_PATH = './data/'; OUTPUT_PATH = './output/'\n",
    "print('Input:\\t%s\\nOutput:\\t%s' % (DATA_PATH, OUTPUT_PATH))"
   ]
  },
  {
   "cell_type": "code",
   "execution_count": 461,
   "id": "a6fedcd0",
   "metadata": {},
   "outputs": [
    {
     "name": "stdout",
     "output_type": "stream",
     "text": [
      "** VARIABLES AND SIZE **\n",
      "\n",
      "      data_test:  7.1 GiB\n",
      "            ___: 28.7 MiB\n",
      "   test_results: 28.7 MiB\n",
      "           _435: 28.7 MiB\n",
      "           _420: 26.5 MiB\n",
      "          bp_df:  4.7 MiB\n",
      "           _418:  4.5 MiB\n",
      "  words_freq_df:  3.0 MiB\n",
      "            _57:  1.4 MiB\n",
      "          y_hat: 704.6 KiB\n"
     ]
    }
   ],
   "source": [
    "def sizeof_fmt(num, suffix='B'):\n",
    "    # ref: https://stackoverflow.com/questions/24455615/python-how-to-display-size-of-all-variables\n",
    "    for unit in ['','Ki','Mi','Gi','Ti','Pi','Ei','Zi']:\n",
    "        if abs(num) < 1024.0:\n",
    "            return \"%3.1f %s%s\" % (num, unit, suffix)\n",
    "        num /= 1024.0\n",
    "    return \"%.1f %s%s\" % (num, 'Yi', suffix)\n",
    "print('** VARIABLES AND SIZE **\\n')\n",
    "for name, size in sorted(((name, sys.getsizeof(value)) for name, value in locals().items()),\n",
    "                         key= lambda x: -x[1])[:10]:\n",
    "    print(\"{:>15}: {:>8}\".format(name, sizeof_fmt(size)))"
   ]
  },
  {
   "cell_type": "code",
   "execution_count": 96,
   "id": "93dd4a22",
   "metadata": {},
   "outputs": [],
   "source": [
    "data = pd.read_parquet(DATA_PATH+'preprocessed_data_1.parquet.gzip')"
   ]
  },
  {
   "cell_type": "code",
   "execution_count": 97,
   "id": "2c939936",
   "metadata": {},
   "outputs": [
    {
     "name": "stdout",
     "output_type": "stream",
     "text": [
      "(472693, 7)\n"
     ]
    },
    {
     "data": {
      "text/html": [
       "<div>\n",
       "<style scoped>\n",
       "    .dataframe tbody tr th:only-of-type {\n",
       "        vertical-align: middle;\n",
       "    }\n",
       "\n",
       "    .dataframe tbody tr th {\n",
       "        vertical-align: top;\n",
       "    }\n",
       "\n",
       "    .dataframe thead th {\n",
       "        text-align: right;\n",
       "    }\n",
       "</style>\n",
       "<table border=\"1\" class=\"dataframe\">\n",
       "  <thead>\n",
       "    <tr style=\"text-align: right;\">\n",
       "      <th></th>\n",
       "      <th>ID</th>\n",
       "      <th>SecuCode</th>\n",
       "      <th>date</th>\n",
       "      <th>specret</th>\n",
       "      <th>specret_2d</th>\n",
       "      <th>specret_tp2-tp6</th>\n",
       "      <th>jieba_content</th>\n",
       "    </tr>\n",
       "  </thead>\n",
       "  <tbody>\n",
       "    <tr>\n",
       "      <th>0</th>\n",
       "      <td>181899</td>\n",
       "      <td>600323</td>\n",
       "      <td>2010-01-04</td>\n",
       "      <td>0.006658</td>\n",
       "      <td>-0.001522</td>\n",
       "      <td>-0.030300</td>\n",
       "      <td>[南海发展nt, 水价n, 如期t, 上调v, 增厚v, 业绩n, 约d, 事项n, 公司n...</td>\n",
       "    </tr>\n",
       "    <tr>\n",
       "      <th>1</th>\n",
       "      <td>181900</td>\n",
       "      <td>002024</td>\n",
       "      <td>2010-01-04</td>\n",
       "      <td>-0.004292</td>\n",
       "      <td>-0.022783</td>\n",
       "      <td>-0.047744</td>\n",
       "      <td>[苏宁ns, 电器n, 内外s, 兼修v, 进入v, 新一轮nz, 增长期n, 投资vn, ...</td>\n",
       "    </tr>\n",
       "    <tr>\n",
       "      <th>2</th>\n",
       "      <td>181901</td>\n",
       "      <td>002092</td>\n",
       "      <td>2010-01-04</td>\n",
       "      <td>0.030815</td>\n",
       "      <td>0.018962</td>\n",
       "      <td>0.055390</td>\n",
       "      <td>[泰ns, 化学n, 发布v, 准东ns, 井田nr, 勘探vn, 报告n, 煤炭n, 开发...</td>\n",
       "    </tr>\n",
       "  </tbody>\n",
       "</table>\n",
       "</div>"
      ],
      "text/plain": [
       "       ID SecuCode        date   specret  specret_2d  specret_tp2-tp6  \\\n",
       "0  181899   600323  2010-01-04  0.006658   -0.001522        -0.030300   \n",
       "1  181900   002024  2010-01-04 -0.004292   -0.022783        -0.047744   \n",
       "2  181901   002092  2010-01-04  0.030815    0.018962         0.055390   \n",
       "\n",
       "                                       jieba_content  \n",
       "0  [南海发展nt, 水价n, 如期t, 上调v, 增厚v, 业绩n, 约d, 事项n, 公司n...  \n",
       "1  [苏宁ns, 电器n, 内外s, 兼修v, 进入v, 新一轮nz, 增长期n, 投资vn, ...  \n",
       "2  [泰ns, 化学n, 发布v, 准东ns, 井田nr, 勘探vn, 报告n, 煤炭n, 开发...  "
      ]
     },
     "execution_count": 97,
     "metadata": {},
     "output_type": "execute_result"
    }
   ],
   "source": [
    "print(data.shape); data.head(3)"
   ]
  },
  {
   "cell_type": "code",
   "execution_count": 98,
   "id": "1bf6473b",
   "metadata": {},
   "outputs": [],
   "source": [
    "data.date = data.date.map(lambda x: dt.datetime.strptime(x,'%Y-%m-%d'))"
   ]
  },
  {
   "cell_type": "code",
   "execution_count": 99,
   "id": "9a61b1ef",
   "metadata": {},
   "outputs": [],
   "source": [
    "def filter_av(words):\n",
    "    av_words = []\n",
    "    for s in words:\n",
    "        pos = str(re.findall(r'[A-z]+', s))[2:-2]\n",
    "        if pos in ['a','v']:\n",
    "            av_words.append(s)\n",
    "    return av_words"
   ]
  },
  {
   "cell_type": "code",
   "execution_count": 100,
   "id": "38c27844",
   "metadata": {},
   "outputs": [],
   "source": [
    "data['jieba_content'] = data.jieba_content.map(filter_av)"
   ]
  },
  {
   "cell_type": "code",
   "execution_count": 101,
   "id": "c832fb5e",
   "metadata": {},
   "outputs": [],
   "source": [
    "data_test = data.loc[data.date>=dt.datetime(2015,1,1)]"
   ]
  },
  {
   "cell_type": "code",
   "execution_count": 46,
   "id": "351b5914",
   "metadata": {},
   "outputs": [],
   "source": [
    "# Run this carefully. It may overwrite featurized data.\n",
    "data_train = data.loc[data.date<dt.datetime(2015,1,1)]"
   ]
  },
  {
   "cell_type": "code",
   "execution_count": 102,
   "id": "b19f3215",
   "metadata": {},
   "outputs": [
    {
     "data": {
      "text/plain": [
       "((180353, 7), (292340, 7))"
      ]
     },
     "execution_count": 102,
     "metadata": {},
     "output_type": "execute_result"
    }
   ],
   "source": [
    "data_train.shape, data_test.shape"
   ]
  },
  {
   "cell_type": "markdown",
   "id": "717841c7",
   "metadata": {},
   "source": [
    "### Word Frequencies of Training Data"
   ]
  },
  {
   "cell_type": "code",
   "execution_count": 25,
   "id": "ccd60edc",
   "metadata": {},
   "outputs": [
    {
     "name": "stdout",
     "output_type": "stream",
     "text": [
      "[2022-03-30 09:14:22.460183]\tStart Loading\n",
      "[2022-03-30 09:14:22.460813]\tLoading Year 2010\n",
      "[2022-03-30 09:15:01.938778]\tLoading Year 2011\n",
      "[2022-03-30 09:16:00.122672]\tLoading Year 2012\n",
      "[2022-03-30 09:17:36.576772]\tLoading Year 2013\n",
      "[2022-03-30 09:19:12.966167]\tLoading Year 2014\n"
     ]
    }
   ],
   "source": [
    "# count words in training data (2010-2014)\n",
    "print('[{Tm}]\\tStart Loading'.format(Tm=dt.datetime.now()))\n",
    "words_freq = None\n",
    "for year in range(2010,2015):\n",
    "    print('[{Tm}]\\tLoading Year {Yr}'.format(Tm=dt.datetime.now(),Yr=year))\n",
    "    data_train_seg = data.loc[(data.date>=dt.datetime(year,1,1))\\\n",
    "                              &(data.date<dt.datetime(year+1,1,1))]\n",
    "    if words_freq is None:\n",
    "        words_freq = Counter(data_train_seg.jieba_content.map(set).map(list).sum())\n",
    "    else:\n",
    "        words_freq += Counter(data_train_seg.jieba_content.map(set).map(list).sum())"
   ]
  },
  {
   "cell_type": "code",
   "execution_count": 27,
   "id": "1c97e1d8",
   "metadata": {},
   "outputs": [],
   "source": [
    "words_freq_df = pd.DataFrame.from_dict(words_freq, orient='index').reset_index()\n",
    "words_freq_df.to_csv(OUTPUT_PATH+'words_freq_train.csv')"
   ]
  },
  {
   "cell_type": "markdown",
   "id": "e6488c96",
   "metadata": {},
   "source": [
    "### Featurize Data (Words -> Numbers)"
   ]
  },
  {
   "cell_type": "code",
   "execution_count": 215,
   "id": "4db5246a",
   "metadata": {},
   "outputs": [],
   "source": [
    "words_freq_df = pd.read_csv(OUTPUT_PATH+'words_freq_train.csv',index_col=0)"
   ]
  },
  {
   "cell_type": "code",
   "execution_count": 216,
   "id": "389159d9",
   "metadata": {},
   "outputs": [
    {
     "name": "stdout",
     "output_type": "stream",
     "text": [
      "(29818, 2)\n"
     ]
    },
    {
     "data": {
      "text/html": [
       "<div>\n",
       "<style scoped>\n",
       "    .dataframe tbody tr th:only-of-type {\n",
       "        vertical-align: middle;\n",
       "    }\n",
       "\n",
       "    .dataframe tbody tr th {\n",
       "        vertical-align: top;\n",
       "    }\n",
       "\n",
       "    .dataframe thead th {\n",
       "        text-align: right;\n",
       "    }\n",
       "</style>\n",
       "<table border=\"1\" class=\"dataframe\">\n",
       "  <thead>\n",
       "    <tr style=\"text-align: right;\">\n",
       "      <th></th>\n",
       "      <th>word</th>\n",
       "      <th>freq</th>\n",
       "    </tr>\n",
       "  </thead>\n",
       "  <tbody>\n",
       "    <tr>\n",
       "      <th>27</th>\n",
       "      <td>增长v</td>\n",
       "      <td>152035</td>\n",
       "    </tr>\n",
       "    <tr>\n",
       "      <th>69</th>\n",
       "      <td>收入v</td>\n",
       "      <td>129168</td>\n",
       "    </tr>\n",
       "    <tr>\n",
       "      <th>30</th>\n",
       "      <td>维持v</td>\n",
       "      <td>127527</td>\n",
       "    </tr>\n",
       "  </tbody>\n",
       "</table>\n",
       "</div>"
      ],
      "text/plain": [
       "   word    freq\n",
       "27  增长v  152035\n",
       "69  收入v  129168\n",
       "30  维持v  127527"
      ]
     },
     "execution_count": 216,
     "metadata": {},
     "output_type": "execute_result"
    }
   ],
   "source": [
    "words_freq_df = words_freq_df\\\n",
    ".rename(columns={words_freq_df.columns[0]:'word',words_freq_df.columns[1]:'freq'})\\\n",
    ".sort_values(by='freq',ascending=False)\n",
    "print(words_freq_df.shape); words_freq_df.head(3)"
   ]
  },
  {
   "cell_type": "markdown",
   "id": "b4fc4e47",
   "metadata": {},
   "source": [
    "#### Defining \"Frequent Words\"\n",
    "- 3000 most frequent words (adjectives and verbs only)"
   ]
  },
  {
   "cell_type": "code",
   "execution_count": 217,
   "id": "6f90a14e",
   "metadata": {},
   "outputs": [
    {
     "data": {
      "text/plain": [
       "3000"
      ]
     },
     "execution_count": 217,
     "metadata": {},
     "output_type": "execute_result"
    }
   ],
   "source": [
    "words_used = list(words_freq_df[:3000]['word'])\n",
    "#words_used = list(words_freq_df.loc[words_freq_df.freq>=len(data_train)*0.001].word)\n",
    "len(words_used)"
   ]
  },
  {
   "cell_type": "code",
   "execution_count": 108,
   "id": "2dc4df23",
   "metadata": {},
   "outputs": [],
   "source": [
    "# require: words_used (global var) well defined\n",
    "def featurize(words_list):\n",
    "    c = Counter(words_list)\n",
    "    return [c[w] for w in words_used]"
   ]
  },
  {
   "cell_type": "code",
   "execution_count": 78,
   "id": "7bc538cc",
   "metadata": {},
   "outputs": [],
   "source": [
    "data_train['jieba_content'] = data_train.jieba_content.map(featurize)"
   ]
  },
  {
   "cell_type": "code",
   "execution_count": 80,
   "id": "b87ff08a",
   "metadata": {},
   "outputs": [],
   "source": [
    "data_train.to_parquet('data_train_featurized.parquet.gzip')"
   ]
  },
  {
   "cell_type": "code",
   "execution_count": 79,
   "id": "7e2d56c5",
   "metadata": {},
   "outputs": [
    {
     "data": {
      "text/html": [
       "<div>\n",
       "<style scoped>\n",
       "    .dataframe tbody tr th:only-of-type {\n",
       "        vertical-align: middle;\n",
       "    }\n",
       "\n",
       "    .dataframe tbody tr th {\n",
       "        vertical-align: top;\n",
       "    }\n",
       "\n",
       "    .dataframe thead th {\n",
       "        text-align: right;\n",
       "    }\n",
       "</style>\n",
       "<table border=\"1\" class=\"dataframe\">\n",
       "  <thead>\n",
       "    <tr style=\"text-align: right;\">\n",
       "      <th></th>\n",
       "      <th>ID</th>\n",
       "      <th>SecuCode</th>\n",
       "      <th>date</th>\n",
       "      <th>specret</th>\n",
       "      <th>specret_2d</th>\n",
       "      <th>specret_tp2-tp6</th>\n",
       "      <th>jieba_content</th>\n",
       "    </tr>\n",
       "  </thead>\n",
       "  <tbody>\n",
       "    <tr>\n",
       "      <th>0</th>\n",
       "      <td>181899</td>\n",
       "      <td>600323</td>\n",
       "      <td>2010-01-04</td>\n",
       "      <td>0.006658</td>\n",
       "      <td>-0.001522</td>\n",
       "      <td>-0.030300</td>\n",
       "      <td>[2, 0, 2, 0, 0, 1, 0, 1, 0, 0, 0, 0, 2, 0, 0, ...</td>\n",
       "    </tr>\n",
       "    <tr>\n",
       "      <th>1</th>\n",
       "      <td>181900</td>\n",
       "      <td>002024</td>\n",
       "      <td>2010-01-04</td>\n",
       "      <td>-0.004292</td>\n",
       "      <td>-0.022783</td>\n",
       "      <td>-0.047744</td>\n",
       "      <td>[6, 2, 1, 0, 6, 1, 0, 0, 1, 0, 0, 3, 0, 1, 0, ...</td>\n",
       "    </tr>\n",
       "    <tr>\n",
       "      <th>2</th>\n",
       "      <td>181901</td>\n",
       "      <td>002092</td>\n",
       "      <td>2010-01-04</td>\n",
       "      <td>0.030815</td>\n",
       "      <td>0.018962</td>\n",
       "      <td>0.055390</td>\n",
       "      <td>[0, 0, 1, 0, 0, 0, 0, 0, 0, 0, 0, 0, 1, 0, 0, ...</td>\n",
       "    </tr>\n",
       "  </tbody>\n",
       "</table>\n",
       "</div>"
      ],
      "text/plain": [
       "       ID SecuCode       date   specret  specret_2d  specret_tp2-tp6  \\\n",
       "0  181899   600323 2010-01-04  0.006658   -0.001522        -0.030300   \n",
       "1  181900   002024 2010-01-04 -0.004292   -0.022783        -0.047744   \n",
       "2  181901   002092 2010-01-04  0.030815    0.018962         0.055390   \n",
       "\n",
       "                                       jieba_content  \n",
       "0  [2, 0, 2, 0, 0, 1, 0, 1, 0, 0, 0, 0, 2, 0, 0, ...  \n",
       "1  [6, 2, 1, 0, 6, 1, 0, 0, 1, 0, 0, 3, 0, 1, 0, ...  \n",
       "2  [0, 0, 1, 0, 0, 0, 0, 0, 0, 0, 0, 0, 1, 0, 0, ...  "
      ]
     },
     "execution_count": 79,
     "metadata": {},
     "output_type": "execute_result"
    }
   ],
   "source": [
    "data_train.head(3)"
   ]
  },
  {
   "cell_type": "code",
   "execution_count": 109,
   "id": "58b1b408",
   "metadata": {},
   "outputs": [],
   "source": [
    "data_test['jieba_content'] = data_test.jieba_content.map(featurize)"
   ]
  },
  {
   "cell_type": "code",
   "execution_count": 110,
   "id": "ba0c0716",
   "metadata": {},
   "outputs": [],
   "source": [
    "data_test.to_parquet('data_test_featurized.parquet.gzip')"
   ]
  },
  {
   "cell_type": "code",
   "execution_count": 111,
   "id": "46ea0520",
   "metadata": {},
   "outputs": [
    {
     "data": {
      "text/html": [
       "<div>\n",
       "<style scoped>\n",
       "    .dataframe tbody tr th:only-of-type {\n",
       "        vertical-align: middle;\n",
       "    }\n",
       "\n",
       "    .dataframe tbody tr th {\n",
       "        vertical-align: top;\n",
       "    }\n",
       "\n",
       "    .dataframe thead th {\n",
       "        text-align: right;\n",
       "    }\n",
       "</style>\n",
       "<table border=\"1\" class=\"dataframe\">\n",
       "  <thead>\n",
       "    <tr style=\"text-align: right;\">\n",
       "      <th></th>\n",
       "      <th>ID</th>\n",
       "      <th>SecuCode</th>\n",
       "      <th>date</th>\n",
       "      <th>specret</th>\n",
       "      <th>specret_2d</th>\n",
       "      <th>specret_tp2-tp6</th>\n",
       "      <th>jieba_content</th>\n",
       "    </tr>\n",
       "  </thead>\n",
       "  <tbody>\n",
       "    <tr>\n",
       "      <th>180353</th>\n",
       "      <td>672010</td>\n",
       "      <td>600315</td>\n",
       "      <td>2015-01-05</td>\n",
       "      <td>0.017743</td>\n",
       "      <td>0.044812</td>\n",
       "      <td>0.015762</td>\n",
       "      <td>[0, 0, 2, 0, 0, 0, 2, 1, 8, 0, 4, 1, 0, 1, 0, ...</td>\n",
       "    </tr>\n",
       "    <tr>\n",
       "      <th>180354</th>\n",
       "      <td>672047</td>\n",
       "      <td>600315</td>\n",
       "      <td>2015-01-05</td>\n",
       "      <td>0.017743</td>\n",
       "      <td>0.044812</td>\n",
       "      <td>0.015762</td>\n",
       "      <td>[1, 2, 2, 0, 2, 0, 2, 0, 2, 0, 0, 1, 1, 2, 1, ...</td>\n",
       "    </tr>\n",
       "    <tr>\n",
       "      <th>180355</th>\n",
       "      <td>672017</td>\n",
       "      <td>000063</td>\n",
       "      <td>2015-01-05</td>\n",
       "      <td>0.030515</td>\n",
       "      <td>0.066843</td>\n",
       "      <td>-0.057285</td>\n",
       "      <td>[0, 0, 4, 1, 0, 0, 0, 0, 0, 0, 0, 0, 0, 0, 0, ...</td>\n",
       "    </tr>\n",
       "  </tbody>\n",
       "</table>\n",
       "</div>"
      ],
      "text/plain": [
       "            ID SecuCode       date   specret  specret_2d  specret_tp2-tp6  \\\n",
       "180353  672010   600315 2015-01-05  0.017743    0.044812         0.015762   \n",
       "180354  672047   600315 2015-01-05  0.017743    0.044812         0.015762   \n",
       "180355  672017   000063 2015-01-05  0.030515    0.066843        -0.057285   \n",
       "\n",
       "                                            jieba_content  \n",
       "180353  [0, 0, 2, 0, 0, 0, 2, 1, 8, 0, 4, 1, 0, 1, 0, ...  \n",
       "180354  [1, 2, 2, 0, 2, 0, 2, 0, 2, 0, 0, 1, 1, 2, 1, ...  \n",
       "180355  [0, 0, 4, 1, 0, 0, 0, 0, 0, 0, 0, 0, 0, 0, 0, ...  "
      ]
     },
     "execution_count": 111,
     "metadata": {},
     "output_type": "execute_result"
    }
   ],
   "source": [
    "data_test.head(3)"
   ]
  },
  {
   "cell_type": "markdown",
   "id": "59d0446c",
   "metadata": {},
   "source": [
    "### Farm Predict"
   ]
  },
  {
   "cell_type": "code",
   "execution_count": 2,
   "id": "6c2671b0",
   "metadata": {},
   "outputs": [
    {
     "name": "stdout",
     "output_type": "stream",
     "text": [
      "CPU times: user 25.4 s, sys: 5.94 s, total: 31.3 s\n",
      "Wall time: 31.3 s\n"
     ]
    },
    {
     "data": {
      "text/html": [
       "<div>\n",
       "<style scoped>\n",
       "    .dataframe tbody tr th:only-of-type {\n",
       "        vertical-align: middle;\n",
       "    }\n",
       "\n",
       "    .dataframe tbody tr th {\n",
       "        vertical-align: top;\n",
       "    }\n",
       "\n",
       "    .dataframe thead th {\n",
       "        text-align: right;\n",
       "    }\n",
       "</style>\n",
       "<table border=\"1\" class=\"dataframe\">\n",
       "  <thead>\n",
       "    <tr style=\"text-align: right;\">\n",
       "      <th></th>\n",
       "      <th>ID</th>\n",
       "      <th>SecuCode</th>\n",
       "      <th>date</th>\n",
       "      <th>specret</th>\n",
       "      <th>specret_2d</th>\n",
       "      <th>specret_tp2-tp6</th>\n",
       "      <th>jieba_content</th>\n",
       "    </tr>\n",
       "  </thead>\n",
       "  <tbody>\n",
       "    <tr>\n",
       "      <th>0</th>\n",
       "      <td>181899</td>\n",
       "      <td>600323</td>\n",
       "      <td>2010-01-04</td>\n",
       "      <td>0.006658</td>\n",
       "      <td>-0.001522</td>\n",
       "      <td>-0.030300</td>\n",
       "      <td>[2, 0, 2, 0, 0, 1, 0, 1, 0, 0, 0, 0, 2, 0, 0, ...</td>\n",
       "    </tr>\n",
       "    <tr>\n",
       "      <th>31</th>\n",
       "      <td>182415</td>\n",
       "      <td>002068</td>\n",
       "      <td>2010-01-04</td>\n",
       "      <td>0.007414</td>\n",
       "      <td>0.051910</td>\n",
       "      <td>-0.029193</td>\n",
       "      <td>[4, 0, 1, 0, 0, 2, 2, 1, 1, 1, 0, 1, 4, 0, 0, ...</td>\n",
       "    </tr>\n",
       "    <tr>\n",
       "      <th>32</th>\n",
       "      <td>182419</td>\n",
       "      <td>000860</td>\n",
       "      <td>2010-01-04</td>\n",
       "      <td>0.003120</td>\n",
       "      <td>0.025750</td>\n",
       "      <td>-0.014979</td>\n",
       "      <td>[0, 1, 1, 0, 1, 0, 0, 0, 0, 0, 0, 2, 0, 0, 0, ...</td>\n",
       "    </tr>\n",
       "  </tbody>\n",
       "</table>\n",
       "</div>"
      ],
      "text/plain": [
       "        ID SecuCode       date   specret  specret_2d  specret_tp2-tp6  \\\n",
       "0   181899   600323 2010-01-04  0.006658   -0.001522        -0.030300   \n",
       "31  182415   002068 2010-01-04  0.007414    0.051910        -0.029193   \n",
       "32  182419   000860 2010-01-04  0.003120    0.025750        -0.014979   \n",
       "\n",
       "                                        jieba_content  \n",
       "0   [2, 0, 2, 0, 0, 1, 0, 1, 0, 0, 0, 0, 2, 0, 0, ...  \n",
       "31  [4, 0, 1, 0, 0, 2, 2, 1, 1, 1, 0, 1, 4, 0, 0, ...  \n",
       "32  [0, 1, 1, 0, 1, 0, 0, 0, 0, 0, 0, 2, 0, 0, 0, ...  "
      ]
     },
     "execution_count": 2,
     "metadata": {},
     "output_type": "execute_result"
    }
   ],
   "source": [
    "%time data_train = pd.read_parquet('data_train_featurized.parquet.gzip', engine='fastparquet')\n",
    "data_train = data_train.sort_values(by='date')\n",
    "data_train.head(3)"
   ]
  },
  {
   "cell_type": "code",
   "execution_count": 3,
   "id": "7b06c059",
   "metadata": {},
   "outputs": [],
   "source": [
    "X_train = torch.tensor(np.stack(data_train.jieba_content.values)).type(torch.float32).cuda()\n",
    "y_train = torch.tensor(np.array(data_train.specret_2d)).type(torch.float32).cuda()\n",
    "del data_train"
   ]
  },
  {
   "cell_type": "markdown",
   "id": "3b9e9f52",
   "metadata": {},
   "source": [
    "- Eigenvalues of $XX^T$ is a superset of Eigenvalues of $X^TX$ with additional zeros (which are not k \"largest\" Eigenvalues).\n",
    "- Eigenvectors of $XX^T$ can be calcuated easily based Eigenvectors of $X^TX$ as follows:\n",
    "- Let $\\vec{v}$ be eigenvector of $X^TX$ with $\\lambda\\neq0$,\n",
    "- then $X^TX\\vec{v}=\\lambda\\vec{v} \\implies XX^T(X\\vec{v})=\\lambda (X\\vec{v})\\implies (X\\vec{v})$ is an eigenvector of $XX^T$.\n",
    "- https://math.stackexchange.com/questions/1247983/eigenvectors-and-eigenvalues-from-xtx-to-xxt"
   ]
  },
  {
   "cell_type": "code",
   "execution_count": 4,
   "id": "d87b507c",
   "metadata": {},
   "outputs": [
    {
     "name": "stdout",
     "output_type": "stream",
     "text": [
      "CPU times: user 9min 25s, sys: 13.2 s, total: 9min 38s\n",
      "Wall time: 8.36 s\n"
     ]
    }
   ],
   "source": [
    "%time eigenvals_xtx, eigenvecs_xtx = torch.eig((X_train.T@X_train).cpu(), eigenvectors=True)"
   ]
  },
  {
   "cell_type": "code",
   "execution_count": 5,
   "id": "2a6201d3",
   "metadata": {},
   "outputs": [],
   "source": [
    "def extract_real(cplx):\n",
    "    real_part = []\n",
    "    for e in cplx:\n",
    "        if e[1] != 0:\n",
    "            real_part.append(0)\n",
    "        else:\n",
    "            real_part.append(e[0])\n",
    "    return torch.tensor(real_part).type(torch.float32)"
   ]
  },
  {
   "cell_type": "code",
   "execution_count": 6,
   "id": "128a8897",
   "metadata": {},
   "outputs": [
    {
     "data": {
      "text/plain": [
       "torch.Size([180353, 100])"
      ]
     },
     "execution_count": 6,
     "metadata": {},
     "output_type": "execute_result"
    }
   ],
   "source": [
    "# largest k eigenvalues\n",
    "eigenvals_topk = torch.topk(extract_real(eigenvals_xtx),100).indices\n",
    "XV = torch.nn.functional.normalize((X_train@eigenvecs_xtx.cuda()).T,p=2).T[:,eigenvals_topk]\n",
    "XV.shape"
   ]
  },
  {
   "cell_type": "code",
   "execution_count": 392,
   "id": "6b29ca37",
   "metadata": {},
   "outputs": [
    {
     "data": {
      "text/plain": [
       "0.7450507"
      ]
     },
     "execution_count": 392,
     "metadata": {},
     "output_type": "execute_result"
    }
   ],
   "source": [
    "pd.Series(extract_real(eigenvals_xtx)).sort_values(ascending=False)[:100].sum()\\\n",
    "/pd.Series(extract_real(eigenvals_xtx)).sort_values(ascending=False).sum()"
   ]
  },
  {
   "cell_type": "code",
   "execution_count": 389,
   "id": "ca5a11ad",
   "metadata": {},
   "outputs": [
    {
     "data": {
      "image/png": "[encoded data removed]",
      "text/plain": [
       "<Figure size 432x288 with 1 Axes>"
      ]
     },
     "metadata": {
      "needs_background": "light"
     },
     "output_type": "display_data"
    }
   ],
   "source": [
    "plt.plot(pd.Series(extract_real(eigenvals_xtx)).sort_values(ascending=False))\n",
    "plt.xlim(0,10); plt.show()"
   ]
  },
  {
   "cell_type": "markdown",
   "id": "b8d7b05b",
   "metadata": {},
   "source": [
    "Note: $XV = X[\\vec{v}_1,\\vec{v}_2,\\ldots,\\vec{v}_{k}]$ are the largest $k$ Eigenvectors of $XX^T$. <br>\n",
    "We take $k=100$"
   ]
  },
  {
   "cell_type": "code",
   "execution_count": 161,
   "id": "caac2d0c",
   "metadata": {},
   "outputs": [],
   "source": [
    "F_hat = XV.cpu()*(X_train.shape[0])**0.5\n",
    "B_hat = X_train.T@F_hat.cuda()/(X_train.shape[0])\n",
    "U_hat = X_train.cpu() - F_hat@B_hat.T.cpu()"
   ]
  },
  {
   "cell_type": "code",
   "execution_count": 294,
   "id": "13c1af5e",
   "metadata": {},
   "outputs": [
    {
     "data": {
      "text/plain": [
       "tensor([[ 7.7317e+01,  9.4341e-03, -1.2314e-03,  ...,  1.3628e-03,\n",
       "          5.3186e-03, -5.8545e-03],\n",
       "        [ 9.4341e-03,  8.2253e+00,  2.1772e-04,  ...,  5.7875e-05,\n",
       "          2.6519e-04, -2.8591e-05],\n",
       "        [-1.2314e-03,  2.1772e-04,  7.2315e+00,  ..., -4.2524e-05,\n",
       "         -2.5561e-04, -1.0396e-04],\n",
       "        ...,\n",
       "        [ 1.3628e-03,  5.7875e-05, -4.2524e-05,  ...,  2.9798e-01,\n",
       "         -9.7620e-06, -4.6934e-05],\n",
       "        [ 5.3186e-03,  2.6519e-04, -2.5561e-04,  ..., -9.7620e-06,\n",
       "          2.9724e-01, -4.7630e-05],\n",
       "        [-5.8545e-03, -2.8591e-05, -1.0396e-04,  ..., -4.6934e-05,\n",
       "         -4.7630e-05,  2.9555e-01]], device='cuda:0')"
      ]
     },
     "execution_count": 294,
     "metadata": {},
     "output_type": "execute_result"
    }
   ],
   "source": [
    "# compare 1\n",
    "B_hat.T@B_hat"
   ]
  },
  {
   "cell_type": "code",
   "execution_count": 239,
   "id": "3081e2f2",
   "metadata": {},
   "outputs": [],
   "source": [
    "BTB = torch.tensor(np.diag(torch.topk(extract_real(eigenvals_xtx),100).values))/len(X_train)"
   ]
  },
  {
   "cell_type": "code",
   "execution_count": 295,
   "id": "ec6314ce",
   "metadata": {},
   "outputs": [
    {
     "data": {
      "text/plain": [
       "tensor([[77.3112,  0.0000,  0.0000,  ...,  0.0000,  0.0000,  0.0000],\n",
       "        [ 0.0000,  8.2257,  0.0000,  ...,  0.0000,  0.0000,  0.0000],\n",
       "        [ 0.0000,  0.0000,  7.2336,  ...,  0.0000,  0.0000,  0.0000],\n",
       "        ...,\n",
       "        [ 0.0000,  0.0000,  0.0000,  ...,  0.2980,  0.0000,  0.0000],\n",
       "        [ 0.0000,  0.0000,  0.0000,  ...,  0.0000,  0.2972,  0.0000],\n",
       "        [ 0.0000,  0.0000,  0.0000,  ...,  0.0000,  0.0000,  0.2956]])"
      ]
     },
     "execution_count": 295,
     "metadata": {},
     "output_type": "execute_result"
    }
   ],
   "source": [
    "# compare 2\n",
    "BTB"
   ]
  },
  {
   "cell_type": "code",
   "execution_count": 324,
   "id": "3dae7a3d",
   "metadata": {},
   "outputs": [],
   "source": [
    "reg1 = LinearRegression().fit(F_hat.cpu(), y_train.cpu())\n",
    "y_hat = reg1.predict(F_hat.cpu())"
   ]
  },
  {
   "cell_type": "code",
   "execution_count": 325,
   "id": "7703e090",
   "metadata": {},
   "outputs": [],
   "source": [
    "a_hat = reg1.intercept_\n",
    "b_hat = reg1.coef_"
   ]
  },
  {
   "cell_type": "code",
   "execution_count": 326,
   "id": "16731f52",
   "metadata": {},
   "outputs": [],
   "source": [
    "y_residual = y_train.cpu() - y_hat"
   ]
  },
  {
   "cell_type": "code",
   "execution_count": 327,
   "id": "40f2054a",
   "metadata": {},
   "outputs": [],
   "source": [
    "corrs = [pearsonr(U_hat.T[j].cpu(), y_train.cpu())[0] for j in range(len(U_hat.T))]\n",
    "corrs = [0 if x != x else abs(x) for x in corrs]"
   ]
  },
  {
   "cell_type": "code",
   "execution_count": 399,
   "id": "c5c611b3",
   "metadata": {},
   "outputs": [
    {
     "name": "stdout",
     "output_type": "stream",
     "text": [
      "423 (14.099999999999998%)\n"
     ]
    }
   ],
   "source": [
    "#TODO: include more words\n",
    "MIN_CORR = 0.0025\n",
    "df = pd.DataFrame(corrs,columns=['corr'])\n",
    "df['isCharged'] = df['corr'].map(lambda x: abs(x)>MIN_CORR)\n",
    "charged_index = list(df[df.isCharged].index)\n",
    "print(str(len(charged_index))+' ({Pct}%)'.format(Pct=round(len(charged_index)/len(corrs),3)*100))"
   ]
  },
  {
   "cell_type": "code",
   "execution_count": 400,
   "id": "f0a45f41",
   "metadata": {},
   "outputs": [
    {
     "data": {
      "text/plain": [
       "torch.Size([180353, 423])"
      ]
     },
     "execution_count": 400,
     "metadata": {},
     "output_type": "execute_result"
    }
   ],
   "source": [
    "U_hat_S_hat = U_hat.T[charged_index].T\n",
    "U_hat_S_hat.shape"
   ]
  },
  {
   "cell_type": "code",
   "execution_count": 401,
   "id": "6ee96d05",
   "metadata": {},
   "outputs": [
    {
     "data": {
      "text/plain": [
       "Lasso(alpha=0.0001)"
      ]
     },
     "execution_count": 401,
     "metadata": {},
     "output_type": "execute_result"
    }
   ],
   "source": [
    "reg2 = Lasso(alpha=0.0001)\n",
    "reg2.fit(U_hat_S_hat.cpu(),y_residual)"
   ]
  },
  {
   "cell_type": "code",
   "execution_count": 402,
   "id": "9979b23d",
   "metadata": {},
   "outputs": [],
   "source": [
    "beta_hat = reg2.coef_"
   ]
  },
  {
   "cell_type": "markdown",
   "id": "ee80fd3d",
   "metadata": {},
   "source": [
    "### Testing"
   ]
  },
  {
   "cell_type": "code",
   "execution_count": 417,
   "id": "d16f18a9",
   "metadata": {},
   "outputs": [
    {
     "data": {
      "text/html": [
       "<div>\n",
       "<style scoped>\n",
       "    .dataframe tbody tr th:only-of-type {\n",
       "        vertical-align: middle;\n",
       "    }\n",
       "\n",
       "    .dataframe tbody tr th {\n",
       "        vertical-align: top;\n",
       "    }\n",
       "\n",
       "    .dataframe thead th {\n",
       "        text-align: right;\n",
       "    }\n",
       "</style>\n",
       "<table border=\"1\" class=\"dataframe\">\n",
       "  <thead>\n",
       "    <tr style=\"text-align: right;\">\n",
       "      <th></th>\n",
       "      <th>ID</th>\n",
       "      <th>SecuCode</th>\n",
       "      <th>date</th>\n",
       "      <th>specret</th>\n",
       "      <th>specret_2d</th>\n",
       "      <th>specret_tp2-tp6</th>\n",
       "      <th>jieba_content</th>\n",
       "    </tr>\n",
       "  </thead>\n",
       "  <tbody>\n",
       "    <tr>\n",
       "      <th>180353</th>\n",
       "      <td>672010</td>\n",
       "      <td>600315</td>\n",
       "      <td>2015-01-05</td>\n",
       "      <td>0.017743</td>\n",
       "      <td>0.044812</td>\n",
       "      <td>0.015762</td>\n",
       "      <td>[0, 0, 2, 0, 0, 0, 2, 1, 8, 0, 4, 1, 0, 1, 0, ...</td>\n",
       "    </tr>\n",
       "    <tr>\n",
       "      <th>180567</th>\n",
       "      <td>672842</td>\n",
       "      <td>300310</td>\n",
       "      <td>2015-01-05</td>\n",
       "      <td>-0.026962</td>\n",
       "      <td>0.004341</td>\n",
       "      <td>0.004178</td>\n",
       "      <td>[4, 3, 1, 0, 0, 0, 0, 1, 0, 0, 1, 1, 0, 0, 1, ...</td>\n",
       "    </tr>\n",
       "    <tr>\n",
       "      <th>180571</th>\n",
       "      <td>672845</td>\n",
       "      <td>600277</td>\n",
       "      <td>2015-01-05</td>\n",
       "      <td>-0.002883</td>\n",
       "      <td>-0.026105</td>\n",
       "      <td>-0.017401</td>\n",
       "      <td>[1, 1, 0, 0, 1, 0, 0, 1, 0, 0, 1, 0, 0, 1, 2, ...</td>\n",
       "    </tr>\n",
       "  </tbody>\n",
       "</table>\n",
       "</div>"
      ],
      "text/plain": [
       "            ID SecuCode       date   specret  specret_2d  specret_tp2-tp6  \\\n",
       "180353  672010   600315 2015-01-05  0.017743    0.044812         0.015762   \n",
       "180567  672842   300310 2015-01-05 -0.026962    0.004341         0.004178   \n",
       "180571  672845   600277 2015-01-05 -0.002883   -0.026105        -0.017401   \n",
       "\n",
       "                                            jieba_content  \n",
       "180353  [0, 0, 2, 0, 0, 0, 2, 1, 8, 0, 4, 1, 0, 1, 0, ...  \n",
       "180567  [4, 3, 1, 0, 0, 0, 0, 1, 0, 0, 1, 1, 0, 0, 1, ...  \n",
       "180571  [1, 1, 0, 0, 1, 0, 0, 1, 0, 0, 1, 0, 0, 1, 2, ...  "
      ]
     },
     "execution_count": 417,
     "metadata": {},
     "output_type": "execute_result"
    }
   ],
   "source": [
    "data_test = pd.read_parquet('data_test_featurized.parquet.gzip', engine='fastparquet')\n",
    "data_test = data_test.sort_values(by='date')\n",
    "data_test.head(3)"
   ]
  },
  {
   "cell_type": "code",
   "execution_count": null,
   "id": "e6c66543",
   "metadata": {},
   "outputs": [],
   "source": [
    "X_test = torch.tensor(np.stack(data_test.jieba_content.values)).cuda()\n",
    "y_test = torch.tensor(np.array(data_test.specret_2d)).cuda()\n",
    "del data_test"
   ]
  },
  {
   "cell_type": "code",
   "execution_count": 404,
   "id": "5c6679a7",
   "metadata": {},
   "outputs": [],
   "source": [
    "b_hat = torch.tensor(b_hat)\n",
    "beta_hat = torch.tensor(beta_hat)"
   ]
  },
  {
   "cell_type": "code",
   "execution_count": 405,
   "id": "87b60a8a",
   "metadata": {},
   "outputs": [
    {
     "data": {
      "text/plain": [
       "tensor([[77.3112,  0.0000,  0.0000,  ...,  0.0000,  0.0000,  0.0000],\n",
       "        [ 0.0000,  8.2257,  0.0000,  ...,  0.0000,  0.0000,  0.0000],\n",
       "        [ 0.0000,  0.0000,  7.2336,  ...,  0.0000,  0.0000,  0.0000],\n",
       "        ...,\n",
       "        [ 0.0000,  0.0000,  0.0000,  ...,  0.2980,  0.0000,  0.0000],\n",
       "        [ 0.0000,  0.0000,  0.0000,  ...,  0.0000,  0.2972,  0.0000],\n",
       "        [ 0.0000,  0.0000,  0.0000,  ...,  0.0000,  0.0000,  0.2956]])"
      ]
     },
     "execution_count": 405,
     "metadata": {},
     "output_type": "execute_result"
    }
   ],
   "source": [
    "BTB"
   ]
  },
  {
   "cell_type": "code",
   "execution_count": 406,
   "id": "539555d0",
   "metadata": {},
   "outputs": [],
   "source": [
    "BTB_inv = torch.linalg.inv(BTB)"
   ]
  },
  {
   "cell_type": "code",
   "execution_count": 407,
   "id": "390b5f4b",
   "metadata": {},
   "outputs": [],
   "source": [
    "f_new_train = (BTB_inv.cuda()@B_hat.T)@X_train.T.type(torch.float32)\n",
    "f_new_test = (BTB_inv.cpu()@B_hat.T.cpu())@X_test.cpu().T.type(torch.float32)"
   ]
  },
  {
   "cell_type": "code",
   "execution_count": 408,
   "id": "b64ed759",
   "metadata": {},
   "outputs": [],
   "source": [
    "u_new_train = X_train.T.cpu() - B_hat.cpu()@f_new_train.cpu()\n",
    "u_new_test = X_test.T.cpu() - B_hat.cpu()@f_new_test.cpu()"
   ]
  },
  {
   "cell_type": "code",
   "execution_count": 409,
   "id": "a27af157",
   "metadata": {},
   "outputs": [],
   "source": [
    "y_pred_train = a_hat + b_hat@f_new_train.cpu() + np.array(beta_hat@u_new_train.type(torch.float64)[charged_index])\n",
    "y_pred_test = a_hat + b_hat@f_new_test.cpu() + beta_hat@u_new_test.type(torch.float64)[charged_index]"
   ]
  },
  {
   "cell_type": "code",
   "execution_count": 410,
   "id": "471a4b68",
   "metadata": {},
   "outputs": [
    {
     "data": {
      "text/plain": [
       "tensor([0.0163, 0.0023, 0.0024,  ..., 0.0000, 0.0104, 0.0228])"
      ]
     },
     "execution_count": 410,
     "metadata": {},
     "output_type": "execute_result"
    }
   ],
   "source": [
    "b_hat@f_new_train.cpu()"
   ]
  },
  {
   "cell_type": "code",
   "execution_count": 411,
   "id": "cd1a3f5d",
   "metadata": {},
   "outputs": [
    {
     "data": {
      "text/plain": [
       "tensor([-0.0044, -0.0028,  0.0006,  ...,  0.0000,  0.0607,  0.0060])"
      ]
     },
     "execution_count": 411,
     "metadata": {},
     "output_type": "execute_result"
    }
   ],
   "source": [
    "beta_hat.type(torch.float32)@u_new_train[charged_index]"
   ]
  },
  {
   "cell_type": "code",
   "execution_count": 427,
   "id": "8831ed08",
   "metadata": {},
   "outputs": [
    {
     "name": "stdout",
     "output_type": "stream",
     "text": [
      "Training Spearsan:\t 0.15465683873842612\n",
      "Testing Spearsan:\t 0.11616596691912204\n",
      "Training Pearson:\t 0.1594125312423485\n",
      "Testing Pearson:\t 0.09183660287271815\n"
     ]
    }
   ],
   "source": [
    "import matplotlib.pyplot as plt\n",
    "print('Training Spearsan:\\t',spearmanr(y_train.cpu(), y_pred_train.cpu())[0])\n",
    "print('Testing Spearsan:\\t',spearmanr(y_test.cpu(), y_pred_test.cpu())[0])\n",
    "print('Training Pearson:\\t',pearsonr(y_train.cpu(), y_pred_train.cpu())[0])\n",
    "print('Testing Pearson:\\t',pearsonr(y_test.cpu(), y_pred_test.cpu())[0])"
   ]
  },
  {
   "cell_type": "code",
   "execution_count": 419,
   "id": "6efe3c5e",
   "metadata": {},
   "outputs": [
    {
     "data": {
      "text/html": [
       "<div>\n",
       "<style scoped>\n",
       "    .dataframe tbody tr th:only-of-type {\n",
       "        vertical-align: middle;\n",
       "    }\n",
       "\n",
       "    .dataframe tbody tr th {\n",
       "        vertical-align: top;\n",
       "    }\n",
       "\n",
       "    .dataframe thead th {\n",
       "        text-align: right;\n",
       "    }\n",
       "</style>\n",
       "<table border=\"1\" class=\"dataframe\">\n",
       "  <thead>\n",
       "    <tr style=\"text-align: right;\">\n",
       "      <th></th>\n",
       "      <th>ID</th>\n",
       "      <th>SecuCode</th>\n",
       "      <th>date</th>\n",
       "      <th>specret</th>\n",
       "      <th>specret_2d</th>\n",
       "      <th>specret_tp2-tp6</th>\n",
       "      <th>jieba_content</th>\n",
       "    </tr>\n",
       "  </thead>\n",
       "  <tbody>\n",
       "    <tr>\n",
       "      <th>180353</th>\n",
       "      <td>672010</td>\n",
       "      <td>600315</td>\n",
       "      <td>2015-01-05</td>\n",
       "      <td>0.017743</td>\n",
       "      <td>0.044812</td>\n",
       "      <td>0.015762</td>\n",
       "      <td>[0, 0, 2, 0, 0, 0, 2, 1, 8, 0, 4, 1, 0, 1, 0, ...</td>\n",
       "    </tr>\n",
       "    <tr>\n",
       "      <th>180567</th>\n",
       "      <td>672842</td>\n",
       "      <td>300310</td>\n",
       "      <td>2015-01-05</td>\n",
       "      <td>-0.026962</td>\n",
       "      <td>0.004341</td>\n",
       "      <td>0.004178</td>\n",
       "      <td>[4, 3, 1, 0, 0, 0, 0, 1, 0, 0, 1, 1, 0, 0, 1, ...</td>\n",
       "    </tr>\n",
       "    <tr>\n",
       "      <th>180571</th>\n",
       "      <td>672845</td>\n",
       "      <td>600277</td>\n",
       "      <td>2015-01-05</td>\n",
       "      <td>-0.002883</td>\n",
       "      <td>-0.026105</td>\n",
       "      <td>-0.017401</td>\n",
       "      <td>[1, 1, 0, 0, 1, 0, 0, 1, 0, 0, 1, 0, 0, 1, 2, ...</td>\n",
       "    </tr>\n",
       "    <tr>\n",
       "      <th>180453</th>\n",
       "      <td>672374</td>\n",
       "      <td>002349</td>\n",
       "      <td>2015-01-05</td>\n",
       "      <td>-0.005686</td>\n",
       "      <td>-0.032378</td>\n",
       "      <td>0.087329</td>\n",
       "      <td>[0, 1, 0, 1, 0, 0, 2, 1, 0, 0, 0, 0, 0, 0, 0, ...</td>\n",
       "    </tr>\n",
       "    <tr>\n",
       "      <th>180474</th>\n",
       "      <td>672553</td>\n",
       "      <td>600309</td>\n",
       "      <td>2015-01-05</td>\n",
       "      <td>0.042324</td>\n",
       "      <td>0.048550</td>\n",
       "      <td>0.039281</td>\n",
       "      <td>[0, 0, 3, 1, 3, 1, 1, 1, 0, 2, 2, 1, 0, 0, 1, ...</td>\n",
       "    </tr>\n",
       "  </tbody>\n",
       "</table>\n",
       "</div>"
      ],
      "text/plain": [
       "            ID SecuCode       date   specret  specret_2d  specret_tp2-tp6  \\\n",
       "180353  672010   600315 2015-01-05  0.017743    0.044812         0.015762   \n",
       "180567  672842   300310 2015-01-05 -0.026962    0.004341         0.004178   \n",
       "180571  672845   600277 2015-01-05 -0.002883   -0.026105        -0.017401   \n",
       "180453  672374   002349 2015-01-05 -0.005686   -0.032378         0.087329   \n",
       "180474  672553   600309 2015-01-05  0.042324    0.048550         0.039281   \n",
       "\n",
       "                                            jieba_content  \n",
       "180353  [0, 0, 2, 0, 0, 0, 2, 1, 8, 0, 4, 1, 0, 1, 0, ...  \n",
       "180567  [4, 3, 1, 0, 0, 0, 0, 1, 0, 0, 1, 1, 0, 0, 1, ...  \n",
       "180571  [1, 1, 0, 0, 1, 0, 0, 1, 0, 0, 1, 0, 0, 1, 2, ...  \n",
       "180453  [0, 1, 0, 1, 0, 0, 2, 1, 0, 0, 0, 0, 0, 0, 0, ...  \n",
       "180474  [0, 0, 3, 1, 3, 1, 1, 1, 0, 2, 2, 1, 0, 0, 1, ...  "
      ]
     },
     "execution_count": 419,
     "metadata": {},
     "output_type": "execute_result"
    }
   ],
   "source": [
    "data_test.head()"
   ]
  },
  {
   "cell_type": "code",
   "execution_count": 415,
   "id": "b6daf484",
   "metadata": {},
   "outputs": [
    {
     "data": {
      "text/plain": [
       "tensor([ 0.0448,  0.0043, -0.0261,  ..., -0.0620, -0.0227, -0.1572],\n",
       "       device='cuda:0', dtype=torch.float64)"
      ]
     },
     "execution_count": 415,
     "metadata": {},
     "output_type": "execute_result"
    }
   ],
   "source": [
    "y_test"
   ]
  },
  {
   "cell_type": "code",
   "execution_count": 413,
   "id": "7db145b1",
   "metadata": {},
   "outputs": [
    {
     "data": {
      "image/png": "[encoded data removed]",
      "text/plain": [
       "<Figure size 432x288 with 1 Axes>"
      ]
     },
     "metadata": {
      "needs_background": "light"
     },
     "output_type": "display_data"
    }
   ],
   "source": [
    "bp_df = pd.DataFrame(np.hstack((np.array(y_train.cpu()).reshape(-1,1),np.array(y_pred_train.cpu()).reshape(-1,1))),\\\n",
    "                     columns=['y_train','y_pred_train'])\n",
    "bp_df['y_pred_train_qcut'] = pd.qcut(y_pred_train,q=8)\n",
    "bp_df.boxplot(column=['y_train'], by='y_pred_train_qcut', showfliers=False)\n",
    "plt.ylim(-0.12,0.12)\n",
    "plt.xticks(rotation=90); plt.title(''); plt.show()"
   ]
  },
  {
   "cell_type": "code",
   "execution_count": 414,
   "id": "b00a3268",
   "metadata": {},
   "outputs": [
    {
     "data": {
      "image/png": "[encoded data removed]",
      "text/plain": [
       "<Figure size 432x288 with 1 Axes>"
      ]
     },
     "metadata": {
      "needs_background": "light"
     },
     "output_type": "display_data"
    }
   ],
   "source": [
    "bp_df = pd.DataFrame(np.hstack((np.array(y_test.cpu()).reshape(-1,1),np.array(y_pred_test.cpu()).reshape(-1,1))),\\\n",
    "                     columns=['y_test','y_pred_test'])\n",
    "bp_df['y_pred_test_qcut'] = pd.qcut(y_pred_test,q=8)\n",
    "bp_df.boxplot(column=['y_test'], by='y_pred_test_qcut', showfliers=False)\n",
    "plt.ylim(-0.12,0.12)\n",
    "plt.xticks(rotation=90); plt.title(''); plt.show()"
   ]
  },
  {
   "cell_type": "code",
   "execution_count": 431,
   "id": "9c3ed118",
   "metadata": {},
   "outputs": [],
   "source": [
    "test_results = data_test[['ID','SecuCode','date','specret_2d']]\n",
    "test_results['y_pred'] = y_pred_test.cpu()"
   ]
  },
  {
   "cell_type": "code",
   "execution_count": 434,
   "id": "d230b5ae",
   "metadata": {},
   "outputs": [],
   "source": [
    "test_results.to_parquet(OUTPUT_PATH+'test_results_FarmPredict.parquet.gzip')"
   ]
  },
  {
   "cell_type": "code",
   "execution_count": 363,
   "id": "bb0fa151",
   "metadata": {},
   "outputs": [
    {
     "data": {
      "text/plain": [
       "array([tensor([-0.0000, 0.0027, -0.0000, 0.0080, 0.0060, 0.0039, 0.0017, 0.0080, 0.0028,\n",
       "               0.0026, 0.0045, 0.0033, 0.0023, 0.0050, 0.0050, 0.0000, 0.0000, 0.0226,\n",
       "               0.0000, 0.0000, -0.0000, 0.0000, 0.0000, 0.0000, 0.0178, 0.0000, 0.0000,\n",
       "               0.0000, 0.0029, 0.0000, 0.0000, 0.0000, 0.1171, 0.0000, 0.0024, 0.0000,\n",
       "               0.0000, 0.1000, 0.0000], dtype=torch.float64)                            ,\n",
       "       array(['收购v', '巨大a', '注入v', '承诺v', '相当于v', '优秀a', '可比v', '参考v', '依赖v',\n",
       "              '变更v', '拟向v', '面对v', '跨v', '抓住v', '有着v', '有别于v', '变为v', '复牌v',\n",
       "              '激进v', '根本a', '付费v', '看待v', '增价v', '已成v', '置入v', '抢v', '最全a', '动v',\n",
       "              '收视v', '等于v', '超前v', '易于v', '点播v', '蕴含v', '制胜v', '某种程度v', '涨停v',\n",
       "              '概括v', '播控v'], dtype='<U5')                                        ],\n",
       "      dtype=object)"
      ]
     },
     "execution_count": 363,
     "metadata": {},
     "output_type": "execute_result"
    }
   ],
   "source": [
    "np.array([beta_hat,np.array(words_used)[charged_index]])"
   ]
  },
  {
   "cell_type": "code",
   "execution_count": 382,
   "id": "03306319",
   "metadata": {},
   "outputs": [
    {
     "name": "stdout",
     "output_type": "stream",
     "text": [
      "        beta  word\n",
      "32  0.117072   点播v\n",
      "37  0.100017   概括v\n",
      "17  0.022636   复牌v\n",
      "24  0.017775   置入v\n",
      "3   0.008020   承诺v\n",
      "7   0.007959   参考v\n",
      "4   0.006008  相当于v\n",
      "13  0.005005   抓住v\n",
      "14  0.004975   有着v\n",
      "10  0.004466   拟向v\n",
      "5   0.003914   优秀a\n",
      "11  0.003332   面对v\n",
      "28  0.002940   收视v\n",
      "8   0.002844   依赖v\n",
      "1   0.002657   巨大a\n",
      "9   0.002616   变更v\n",
      "34  0.002379   制胜v\n",
      "12  0.002281    跨v\n",
      "6   0.001683   可比v\n"
     ]
    }
   ],
   "source": [
    "beta_df = pd.DataFrame(np.vstack((np.array(beta_hat).T,np.array(words_used)[charged_index].T)).T,columns=['beta','word'])\n",
    "beta_df['beta'] = beta_df.beta.map(float)\n",
    "print(beta_df.loc[beta_df.beta>0].sort_values(by='beta',ascending=False))\n",
    "#print(beta_df.loc[beta_df.beta<=0].sort_values(by='beta',ascending=True))"
   ]
  },
  {
   "cell_type": "code",
   "execution_count": 380,
   "id": "70e8e469",
   "metadata": {},
   "outputs": [
    {
     "data": {
      "text/html": [
       "<div>\n",
       "<style scoped>\n",
       "    .dataframe tbody tr th:only-of-type {\n",
       "        vertical-align: middle;\n",
       "    }\n",
       "\n",
       "    .dataframe tbody tr th {\n",
       "        vertical-align: top;\n",
       "    }\n",
       "\n",
       "    .dataframe thead th {\n",
       "        text-align: right;\n",
       "    }\n",
       "</style>\n",
       "<table border=\"1\" class=\"dataframe\">\n",
       "  <thead>\n",
       "    <tr style=\"text-align: right;\">\n",
       "      <th></th>\n",
       "      <th>beta</th>\n",
       "      <th>word</th>\n",
       "    </tr>\n",
       "  </thead>\n",
       "  <tbody>\n",
       "    <tr>\n",
       "      <th>0</th>\n",
       "      <td>-0.000000</td>\n",
       "      <td>收购v</td>\n",
       "    </tr>\n",
       "    <tr>\n",
       "      <th>1</th>\n",
       "      <td>0.002657</td>\n",
       "      <td>巨大a</td>\n",
       "    </tr>\n",
       "    <tr>\n",
       "      <th>2</th>\n",
       "      <td>-0.000000</td>\n",
       "      <td>注入v</td>\n",
       "    </tr>\n",
       "    <tr>\n",
       "      <th>3</th>\n",
       "      <td>0.008020</td>\n",
       "      <td>承诺v</td>\n",
       "    </tr>\n",
       "    <tr>\n",
       "      <th>4</th>\n",
       "      <td>0.006008</td>\n",
       "      <td>相当于v</td>\n",
       "    </tr>\n",
       "    <tr>\n",
       "      <th>5</th>\n",
       "      <td>0.003914</td>\n",
       "      <td>优秀a</td>\n",
       "    </tr>\n",
       "    <tr>\n",
       "      <th>6</th>\n",
       "      <td>0.001683</td>\n",
       "      <td>可比v</td>\n",
       "    </tr>\n",
       "    <tr>\n",
       "      <th>7</th>\n",
       "      <td>0.007959</td>\n",
       "      <td>参考v</td>\n",
       "    </tr>\n",
       "    <tr>\n",
       "      <th>8</th>\n",
       "      <td>0.002844</td>\n",
       "      <td>依赖v</td>\n",
       "    </tr>\n",
       "    <tr>\n",
       "      <th>9</th>\n",
       "      <td>0.002616</td>\n",
       "      <td>变更v</td>\n",
       "    </tr>\n",
       "    <tr>\n",
       "      <th>10</th>\n",
       "      <td>0.004466</td>\n",
       "      <td>拟向v</td>\n",
       "    </tr>\n",
       "    <tr>\n",
       "      <th>11</th>\n",
       "      <td>0.003332</td>\n",
       "      <td>面对v</td>\n",
       "    </tr>\n",
       "    <tr>\n",
       "      <th>12</th>\n",
       "      <td>0.002281</td>\n",
       "      <td>跨v</td>\n",
       "    </tr>\n",
       "    <tr>\n",
       "      <th>13</th>\n",
       "      <td>0.005005</td>\n",
       "      <td>抓住v</td>\n",
       "    </tr>\n",
       "    <tr>\n",
       "      <th>14</th>\n",
       "      <td>0.004975</td>\n",
       "      <td>有着v</td>\n",
       "    </tr>\n",
       "    <tr>\n",
       "      <th>15</th>\n",
       "      <td>0.000000</td>\n",
       "      <td>有别于v</td>\n",
       "    </tr>\n",
       "    <tr>\n",
       "      <th>16</th>\n",
       "      <td>0.000000</td>\n",
       "      <td>变为v</td>\n",
       "    </tr>\n",
       "    <tr>\n",
       "      <th>17</th>\n",
       "      <td>0.022636</td>\n",
       "      <td>复牌v</td>\n",
       "    </tr>\n",
       "    <tr>\n",
       "      <th>18</th>\n",
       "      <td>0.000000</td>\n",
       "      <td>激进v</td>\n",
       "    </tr>\n",
       "    <tr>\n",
       "      <th>19</th>\n",
       "      <td>0.000000</td>\n",
       "      <td>根本a</td>\n",
       "    </tr>\n",
       "    <tr>\n",
       "      <th>20</th>\n",
       "      <td>-0.000000</td>\n",
       "      <td>付费v</td>\n",
       "    </tr>\n",
       "    <tr>\n",
       "      <th>21</th>\n",
       "      <td>0.000000</td>\n",
       "      <td>看待v</td>\n",
       "    </tr>\n",
       "    <tr>\n",
       "      <th>22</th>\n",
       "      <td>0.000000</td>\n",
       "      <td>增价v</td>\n",
       "    </tr>\n",
       "    <tr>\n",
       "      <th>23</th>\n",
       "      <td>0.000000</td>\n",
       "      <td>已成v</td>\n",
       "    </tr>\n",
       "    <tr>\n",
       "      <th>24</th>\n",
       "      <td>0.017775</td>\n",
       "      <td>置入v</td>\n",
       "    </tr>\n",
       "    <tr>\n",
       "      <th>25</th>\n",
       "      <td>0.000000</td>\n",
       "      <td>抢v</td>\n",
       "    </tr>\n",
       "    <tr>\n",
       "      <th>26</th>\n",
       "      <td>0.000000</td>\n",
       "      <td>最全a</td>\n",
       "    </tr>\n",
       "    <tr>\n",
       "      <th>27</th>\n",
       "      <td>0.000000</td>\n",
       "      <td>动v</td>\n",
       "    </tr>\n",
       "    <tr>\n",
       "      <th>28</th>\n",
       "      <td>0.002940</td>\n",
       "      <td>收视v</td>\n",
       "    </tr>\n",
       "    <tr>\n",
       "      <th>29</th>\n",
       "      <td>0.000000</td>\n",
       "      <td>等于v</td>\n",
       "    </tr>\n",
       "    <tr>\n",
       "      <th>30</th>\n",
       "      <td>0.000000</td>\n",
       "      <td>超前v</td>\n",
       "    </tr>\n",
       "    <tr>\n",
       "      <th>31</th>\n",
       "      <td>0.000000</td>\n",
       "      <td>易于v</td>\n",
       "    </tr>\n",
       "    <tr>\n",
       "      <th>32</th>\n",
       "      <td>0.117072</td>\n",
       "      <td>点播v</td>\n",
       "    </tr>\n",
       "    <tr>\n",
       "      <th>33</th>\n",
       "      <td>0.000000</td>\n",
       "      <td>蕴含v</td>\n",
       "    </tr>\n",
       "    <tr>\n",
       "      <th>34</th>\n",
       "      <td>0.002379</td>\n",
       "      <td>制胜v</td>\n",
       "    </tr>\n",
       "    <tr>\n",
       "      <th>35</th>\n",
       "      <td>0.000000</td>\n",
       "      <td>某种程度v</td>\n",
       "    </tr>\n",
       "    <tr>\n",
       "      <th>36</th>\n",
       "      <td>0.000000</td>\n",
       "      <td>涨停v</td>\n",
       "    </tr>\n",
       "    <tr>\n",
       "      <th>37</th>\n",
       "      <td>0.100017</td>\n",
       "      <td>概括v</td>\n",
       "    </tr>\n",
       "    <tr>\n",
       "      <th>38</th>\n",
       "      <td>0.000000</td>\n",
       "      <td>播控v</td>\n",
       "    </tr>\n",
       "  </tbody>\n",
       "</table>\n",
       "</div>"
      ],
      "text/plain": [
       "        beta   word\n",
       "0  -0.000000    收购v\n",
       "1   0.002657    巨大a\n",
       "2  -0.000000    注入v\n",
       "3   0.008020    承诺v\n",
       "4   0.006008   相当于v\n",
       "5   0.003914    优秀a\n",
       "6   0.001683    可比v\n",
       "7   0.007959    参考v\n",
       "8   0.002844    依赖v\n",
       "9   0.002616    变更v\n",
       "10  0.004466    拟向v\n",
       "11  0.003332    面对v\n",
       "12  0.002281     跨v\n",
       "13  0.005005    抓住v\n",
       "14  0.004975    有着v\n",
       "15  0.000000   有别于v\n",
       "16  0.000000    变为v\n",
       "17  0.022636    复牌v\n",
       "18  0.000000    激进v\n",
       "19  0.000000    根本a\n",
       "20 -0.000000    付费v\n",
       "21  0.000000    看待v\n",
       "22  0.000000    增价v\n",
       "23  0.000000    已成v\n",
       "24  0.017775    置入v\n",
       "25  0.000000     抢v\n",
       "26  0.000000    最全a\n",
       "27  0.000000     动v\n",
       "28  0.002940    收视v\n",
       "29  0.000000    等于v\n",
       "30  0.000000    超前v\n",
       "31  0.000000    易于v\n",
       "32  0.117072    点播v\n",
       "33  0.000000    蕴含v\n",
       "34  0.002379    制胜v\n",
       "35  0.000000  某种程度v\n",
       "36  0.000000    涨停v\n",
       "37  0.100017    概括v\n",
       "38  0.000000    播控v"
      ]
     },
     "execution_count": 380,
     "metadata": {},
     "output_type": "execute_result"
    }
   ],
   "source": [
    "beta_df"
   ]
  },
  {
   "cell_type": "code",
   "execution_count": null,
   "id": "782ae2b3",
   "metadata": {},
   "outputs": [],
   "source": []
  }
 ],
 "metadata": {
  "kernelspec": {
   "display_name": "Python 3",
   "language": "python",
   "name": "python3"
  },
  "language_info": {
   "codemirror_mode": {
    "name": "ipython",
    "version": 3
   },
   "file_extension": ".py",
   "mimetype": "text/x-python",
   "name": "python",
   "nbconvert_exporter": "python",
   "pygments_lexer": "ipython3",
   "version": "3.7.9"
  }
 },
 "nbformat": 4,
 "nbformat_minor": 5
}
