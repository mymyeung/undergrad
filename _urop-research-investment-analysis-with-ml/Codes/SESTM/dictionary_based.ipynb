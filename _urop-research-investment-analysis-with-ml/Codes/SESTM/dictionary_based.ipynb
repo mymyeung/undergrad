{
 "cells": [
  {
   "cell_type": "markdown",
   "id": "5db5132d",
   "metadata": {},
   "source": [
    "# Dictionary-based Method\n",
    "Investment Analysis with Machine Learning\\\n",
    "UROP 1100E (Man Yin Michael YEUNG, 2021 Fall)"
   ]
  },
  {
   "cell_type": "code",
   "execution_count": null,
   "id": "e23ac00b-91b5-4b88-871a-b3c7f816aaf4",
   "metadata": {},
   "outputs": [],
   "source": [
    "import pandas as pd\n",
    "import datetime as dt\n",
    "import numpy as np\n",
    "import jieba\n",
    "import jieba.posseg as pseg\n",
    "import paddle\n",
    "import string\n",
    "import re\n",
    "from multiprocessing import Pool\n",
    "from stopwordsiso import stopwords\n",
    "import warnings\n",
    "from collections import Counter\n",
    "warnings.filterwarnings(\"ignore\")\n",
    "from IPython.display import clear_output"
   ]
  },
  {
   "cell_type": "markdown",
   "id": "a639b1a0",
   "metadata": {},
   "source": [
    "### Retrieve Pre-processed Data"
   ]
  },
  {
   "cell_type": "code",
   "execution_count": null,
   "id": "a5793c5b-d506-4b8c-b1b4-fb768324922c",
   "metadata": {},
   "outputs": [],
   "source": [
    "merged_data = pd.read_parquet('D:/michael/full_version_data/preprocessed_data_2.parquet.gzip')\n",
    "merged_data.shape"
   ]
  },
  {
   "cell_type": "code",
   "execution_count": 3,
   "id": "8d554ed8",
   "metadata": {},
   "outputs": [
    {
     "data": {
      "text/html": [
       "<div>\n",
       "<style scoped>\n",
       "    .dataframe tbody tr th:only-of-type {\n",
       "        vertical-align: middle;\n",
       "    }\n",
       "\n",
       "    .dataframe tbody tr th {\n",
       "        vertical-align: top;\n",
       "    }\n",
       "\n",
       "    .dataframe thead th {\n",
       "        text-align: right;\n",
       "    }\n",
       "</style>\n",
       "<table border=\"1\" class=\"dataframe\">\n",
       "  <thead>\n",
       "    <tr style=\"text-align: right;\">\n",
       "      <th></th>\n",
       "      <th>ID</th>\n",
       "      <th>SecuCode</th>\n",
       "      <th>date</th>\n",
       "      <th>specret</th>\n",
       "      <th>specret_2d</th>\n",
       "      <th>specret_tp2-tp6</th>\n",
       "      <th>jieba_content</th>\n",
       "      <th>jieba_sentence</th>\n",
       "    </tr>\n",
       "  </thead>\n",
       "  <tbody>\n",
       "    <tr>\n",
       "      <th>0</th>\n",
       "      <td>181899</td>\n",
       "      <td>600323</td>\n",
       "      <td>2010-01-04</td>\n",
       "      <td>0.006658</td>\n",
       "      <td>-0.001522</td>\n",
       "      <td>-0.030300</td>\n",
       "      <td>[南海发展nt, 水价n, 如期t, 上调v, 增厚v, 业绩n, 约d, 事项n, 公司n...</td>\n",
       "      <td>[[南海发展, 水价, 如期, 上调], [增厚, 业绩, 约], [事项], [公司, 今...</td>\n",
       "    </tr>\n",
       "    <tr>\n",
       "      <th>1</th>\n",
       "      <td>181900</td>\n",
       "      <td>002024</td>\n",
       "      <td>2010-01-04</td>\n",
       "      <td>-0.004292</td>\n",
       "      <td>-0.022783</td>\n",
       "      <td>-0.047744</td>\n",
       "      <td>[苏宁ns, 电器n, 内外s, 兼修v, 进入v, 新一轮nz, 增长期n, 投资vn, ...</td>\n",
       "      <td>[[苏宁, 电器, 内外, 兼修, 进入, 新一轮, 增长期], [投资, 要点], [行业...</td>\n",
       "    </tr>\n",
       "    <tr>\n",
       "      <th>2</th>\n",
       "      <td>181901</td>\n",
       "      <td>002092</td>\n",
       "      <td>2010-01-04</td>\n",
       "      <td>0.030815</td>\n",
       "      <td>0.018962</td>\n",
       "      <td>0.055390</td>\n",
       "      <td>[泰ns, 化学n, 发布v, 准东ns, 井田nr, 勘探vn, 报告n, 煤炭n, 开发...</td>\n",
       "      <td>[[中, 泰, 化学, 发布, 准东, 一, 井田, 勘探, 报告], [煤炭, 开发, 再...</td>\n",
       "    </tr>\n",
       "  </tbody>\n",
       "</table>\n",
       "</div>"
      ],
      "text/plain": [
       "       ID SecuCode       date   specret  specret_2d  specret_tp2-tp6  \\\n",
       "0  181899   600323 2010-01-04  0.006658   -0.001522        -0.030300   \n",
       "1  181900   002024 2010-01-04 -0.004292   -0.022783        -0.047744   \n",
       "2  181901   002092 2010-01-04  0.030815    0.018962         0.055390   \n",
       "\n",
       "                                       jieba_content  \\\n",
       "0  [南海发展nt, 水价n, 如期t, 上调v, 增厚v, 业绩n, 约d, 事项n, 公司n...   \n",
       "1  [苏宁ns, 电器n, 内外s, 兼修v, 进入v, 新一轮nz, 增长期n, 投资vn, ...   \n",
       "2  [泰ns, 化学n, 发布v, 准东ns, 井田nr, 勘探vn, 报告n, 煤炭n, 开发...   \n",
       "\n",
       "                                      jieba_sentence  \n",
       "0  [[南海发展, 水价, 如期, 上调], [增厚, 业绩, 约], [事项], [公司, 今...  \n",
       "1  [[苏宁, 电器, 内外, 兼修, 进入, 新一轮, 增长期], [投资, 要点], [行业...  \n",
       "2  [[中, 泰, 化学, 发布, 准东, 一, 井田, 勘探, 报告], [煤炭, 开发, 再...  "
      ]
     },
     "execution_count": 3,
     "metadata": {},
     "output_type": "execute_result"
    }
   ],
   "source": [
    "merged_data.head(3)"
   ]
  },
  {
   "cell_type": "code",
   "execution_count": 4,
   "id": "6d116b71",
   "metadata": {},
   "outputs": [
    {
     "data": {
      "image/png": "[encoded data removed]",
      "text/plain": [
       "<Figure size 432x288 with 1 Axes>"
      ]
     },
     "metadata": {
      "needs_background": "light"
     },
     "output_type": "display_data"
    }
   ],
   "source": [
    "import matplotlib.pyplot as plt\n",
    "x1 = merged_data['specret_2d']; x2 = merged_data['specret_tp2-tp6']\n",
    "plt.hist([x1,x2], range=[-0.15,0.15],bins=30, label=['t to t+1', 't+2 to t+6'])\n",
    "plt.title('Specret'); plt.legend(); plt.show()"
   ]
  },
  {
   "cell_type": "markdown",
   "id": "1945a6e9",
   "metadata": {},
   "source": [
    "### Read Sentiment Dictionaries"
   ]
  },
  {
   "cell_type": "code",
   "execution_count": 8,
   "id": "e07c1d92",
   "metadata": {},
   "outputs": [
    {
     "data": {
      "text/plain": [
       "(3592, 1633)"
      ]
     },
     "execution_count": 8,
     "metadata": {},
     "output_type": "execute_result"
    }
   ],
   "source": [
    "# ref: https://github.com/dictionaries2020/SentimentDictionaries\n",
    "pos_words_1 = list(pd.read_csv('D:/michael/positive_sentiment_dict.csv')['word'])\n",
    "neg_words_1 = list(pd.read_csv('D:/michael/negative_sentiment_dict.csv')['word'])\n",
    "len(pos_words_1), len(neg_words_1)"
   ]
  },
  {
   "cell_type": "code",
   "execution_count": 9,
   "id": "f07023cb",
   "metadata": {},
   "outputs": [
    {
     "data": {
      "text/plain": [
       "(912, 965)"
      ]
     },
     "execution_count": 9,
     "metadata": {},
     "output_type": "execute_result"
    }
   ],
   "source": [
    "# ref: https://github.com/dictionaries2020/SentimentDictionaries\n",
    "pos_words_2 = list(pd.read_csv('D:/michael/positive_sentiment_dict_2.csv')['word'])\n",
    "neg_words_2 = list(pd.read_csv('D:/michael/negative_sentiment_dict_2.csv')['word'])\n",
    "len(pos_words_2), len(neg_words_2)"
   ]
  },
  {
   "cell_type": "code",
   "execution_count": 10,
   "id": "96870b6a",
   "metadata": {},
   "outputs": [
    {
     "data": {
      "text/plain": [
       "(3338, 5890)"
      ]
     },
     "execution_count": 10,
     "metadata": {},
     "output_type": "execute_result"
    }
   ],
   "source": [
    "# ref: https://github.com/MengLingchao/Chinese_financial_sentiment_dictionary\n",
    "pos_words_3 = list(pd.read_csv('D:/michael/positive_sentiment_dict_3.csv')['word'])\n",
    "neg_words_3 = list(pd.read_csv('D:/michael/negative_sentiment_dict_3.csv')['word'])\n",
    "pos_words_3 = [word[:-1] for word in pos_words_3]; neg_words_3 = [word[:-1] for word in neg_words_3]\n",
    "len(pos_words_3), len(neg_words_3)"
   ]
  },
  {
   "cell_type": "markdown",
   "id": "25501cc5",
   "metadata": {},
   "source": [
    "### Calculate Sentiment"
   ]
  },
  {
   "cell_type": "code",
   "execution_count": 12,
   "id": "0a9af098",
   "metadata": {},
   "outputs": [],
   "source": [
    "def get_sentiment(list_in, pos_words_adopted, neg_words_adopted, variant):\n",
    "    pos = 0; neg = 0; count = 0\n",
    "    if variant: list_in = list(set(list_in))\n",
    "    for word in list_in:\n",
    "        word = str(re.findall(r'[\\u4e00-\\u9fff]+', word))[2:-2]; count += 1\n",
    "        if word in pos_words_adopted: pos += 1\n",
    "        if word in neg_words_adopted: neg += 1\n",
    "    return [pos, neg, count]"
   ]
  },
  {
   "cell_type": "code",
   "execution_count": 27,
   "id": "33816907",
   "metadata": {},
   "outputs": [],
   "source": [
    "def get_sentiment_sentence(list_in, pos_words_adopted, neg_words_adopted, variant):\n",
    "    pos = 0; neg = 0; count = 0\n",
    "    for sentence in list_in:\n",
    "        count += 1\n",
    "        if variant: sentence = list(set(list(sentence)))\n",
    "        pos_word = 0; neg_word = 0\n",
    "        for word in sentence:\n",
    "            word = str(re.findall(r'[\\u4e00-\\u9fff]+', word))[2:-2]\n",
    "            if word in pos_words_adopted: pos_word += 1\n",
    "            if word in neg_words_adopted: neg_word += 1\n",
    "        if pos_word - neg_word > 0: pos += 1\n",
    "        elif pos_word - neg_word < 0: neg += 1\n",
    "    return [pos, neg, count]"
   ]
  },
  {
   "cell_type": "markdown",
   "id": "b21ae3e0",
   "metadata": {},
   "source": [
    "### Compute Benchmark Correlations"
   ]
  },
  {
   "cell_type": "code",
   "execution_count": 28,
   "id": "f3712147",
   "metadata": {},
   "outputs": [],
   "source": [
    "def get_charged_counts(df_in, dicts):\n",
    "    for dict_num in dicts:\n",
    "        print('Loading Dict {DictNum}\\t{Now}'.format(DictNum=dict_num,Now=dt.datetime.now()))\n",
    "        pos_dict = eval('pos_words_{DictNum}'.format(DictNum=dict_num))\n",
    "        neg_dict = eval('neg_words_{DictNum}'.format(DictNum=dict_num))\n",
    "        df_in['dict{DictNum}_words'.format(DictNum=dict_num)]\\\n",
    "        = df_in['jieba_content'].map(lambda x: get_sentiment(x,pos_dict,neg_dict,False))\n",
    "        print('... Sentence Version\\t{Now}'.format(DictNum=dict_num,Now=dt.datetime.now()))\n",
    "        df_in['dict{DictNum}_sentences'.format(DictNum=dict_num)]\\\n",
    "        = df_in['jieba_sentence'].map(lambda x: get_sentiment_sentence(x,pos_dict,neg_dict,False))\n",
    "    print('End Time \\t{Now}'.format(Now=dt.datetime.now()))\n",
    "    return df_in"
   ]
  },
  {
   "cell_type": "code",
   "execution_count": null,
   "id": "07e8c79f",
   "metadata": {},
   "outputs": [],
   "source": [
    "merged_data = get_charged_counts(merged_data.copy(),[1,2,3])"
   ]
  },
  {
   "cell_type": "code",
   "execution_count": 32,
   "id": "42083148",
   "metadata": {},
   "outputs": [
    {
     "data": {
      "text/html": [
       "<div>\n",
       "<style scoped>\n",
       "    .dataframe tbody tr th:only-of-type {\n",
       "        vertical-align: middle;\n",
       "    }\n",
       "\n",
       "    .dataframe tbody tr th {\n",
       "        vertical-align: top;\n",
       "    }\n",
       "\n",
       "    .dataframe thead th {\n",
       "        text-align: right;\n",
       "    }\n",
       "</style>\n",
       "<table border=\"1\" class=\"dataframe\">\n",
       "  <thead>\n",
       "    <tr style=\"text-align: right;\">\n",
       "      <th></th>\n",
       "      <th>ID</th>\n",
       "      <th>SecuCode</th>\n",
       "      <th>date</th>\n",
       "      <th>specret</th>\n",
       "      <th>specret_2d</th>\n",
       "      <th>specret_tp2-tp6</th>\n",
       "      <th>jieba_content</th>\n",
       "      <th>jieba_sentence</th>\n",
       "      <th>dict1_words</th>\n",
       "      <th>dict1_sentences</th>\n",
       "      <th>dict2_words</th>\n",
       "      <th>dict2_sentences</th>\n",
       "      <th>dict3_words</th>\n",
       "      <th>dict3_sentences</th>\n",
       "    </tr>\n",
       "  </thead>\n",
       "  <tbody>\n",
       "    <tr>\n",
       "      <th>0</th>\n",
       "      <td>181899</td>\n",
       "      <td>600323</td>\n",
       "      <td>2010-01-04</td>\n",
       "      <td>0.006658</td>\n",
       "      <td>-0.001522</td>\n",
       "      <td>-0.030300</td>\n",
       "      <td>[南海发展nt, 水价n, 如期t, 上调v, 增厚v, 业绩n, 约d, 事项n, 公司n...</td>\n",
       "      <td>[[南海发展, 水价, 如期, 上调], [增厚, 业绩, 约], [事项], [公司, 今...</td>\n",
       "      <td>[31, 5, 198]</td>\n",
       "      <td>[18, 2, 39]</td>\n",
       "      <td>[11, 4, 198]</td>\n",
       "      <td>[8, 2, 39]</td>\n",
       "      <td>[8, 4, 198]</td>\n",
       "      <td>[6, 2, 39]</td>\n",
       "    </tr>\n",
       "    <tr>\n",
       "      <th>1</th>\n",
       "      <td>181900</td>\n",
       "      <td>002024</td>\n",
       "      <td>2010-01-04</td>\n",
       "      <td>-0.004292</td>\n",
       "      <td>-0.022783</td>\n",
       "      <td>-0.047744</td>\n",
       "      <td>[苏宁ns, 电器n, 内外s, 兼修v, 进入v, 新一轮nz, 增长期n, 投资vn, ...</td>\n",
       "      <td>[[苏宁, 电器, 内外, 兼修, 进入, 新一轮, 增长期], [投资, 要点], [行业...</td>\n",
       "      <td>[69, 6, 330]</td>\n",
       "      <td>[26, 2, 47]</td>\n",
       "      <td>[48, 5, 330]</td>\n",
       "      <td>[21, 3, 47]</td>\n",
       "      <td>[57, 7, 330]</td>\n",
       "      <td>[24, 4, 47]</td>\n",
       "    </tr>\n",
       "    <tr>\n",
       "      <th>2</th>\n",
       "      <td>181901</td>\n",
       "      <td>002092</td>\n",
       "      <td>2010-01-04</td>\n",
       "      <td>0.030815</td>\n",
       "      <td>0.018962</td>\n",
       "      <td>0.055390</td>\n",
       "      <td>[泰ns, 化学n, 发布v, 准东ns, 井田nr, 勘探vn, 报告n, 煤炭n, 开发...</td>\n",
       "      <td>[[中, 泰, 化学, 发布, 准东, 一, 井田, 勘探, 报告], [煤炭, 开发, 再...</td>\n",
       "      <td>[23, 0, 185]</td>\n",
       "      <td>[16, 0, 29]</td>\n",
       "      <td>[8, 0, 185]</td>\n",
       "      <td>[7, 0, 29]</td>\n",
       "      <td>[16, 0, 185]</td>\n",
       "      <td>[11, 0, 29]</td>\n",
       "    </tr>\n",
       "  </tbody>\n",
       "</table>\n",
       "</div>"
      ],
      "text/plain": [
       "       ID SecuCode       date   specret  specret_2d  specret_tp2-tp6  \\\n",
       "0  181899   600323 2010-01-04  0.006658   -0.001522        -0.030300   \n",
       "1  181900   002024 2010-01-04 -0.004292   -0.022783        -0.047744   \n",
       "2  181901   002092 2010-01-04  0.030815    0.018962         0.055390   \n",
       "\n",
       "                                       jieba_content  \\\n",
       "0  [南海发展nt, 水价n, 如期t, 上调v, 增厚v, 业绩n, 约d, 事项n, 公司n...   \n",
       "1  [苏宁ns, 电器n, 内外s, 兼修v, 进入v, 新一轮nz, 增长期n, 投资vn, ...   \n",
       "2  [泰ns, 化学n, 发布v, 准东ns, 井田nr, 勘探vn, 报告n, 煤炭n, 开发...   \n",
       "\n",
       "                                      jieba_sentence   dict1_words  \\\n",
       "0  [[南海发展, 水价, 如期, 上调], [增厚, 业绩, 约], [事项], [公司, 今...  [31, 5, 198]   \n",
       "1  [[苏宁, 电器, 内外, 兼修, 进入, 新一轮, 增长期], [投资, 要点], [行业...  [69, 6, 330]   \n",
       "2  [[中, 泰, 化学, 发布, 准东, 一, 井田, 勘探, 报告], [煤炭, 开发, 再...  [23, 0, 185]   \n",
       "\n",
       "  dict1_sentences   dict2_words dict2_sentences   dict3_words dict3_sentences  \n",
       "0     [18, 2, 39]  [11, 4, 198]      [8, 2, 39]   [8, 4, 198]      [6, 2, 39]  \n",
       "1     [26, 2, 47]  [48, 5, 330]     [21, 3, 47]  [57, 7, 330]     [24, 4, 47]  \n",
       "2     [16, 0, 29]   [8, 0, 185]      [7, 0, 29]  [16, 0, 185]     [11, 0, 29]  "
      ]
     },
     "execution_count": 32,
     "metadata": {},
     "output_type": "execute_result"
    }
   ],
   "source": [
    "merged_data.head(3)"
   ]
  },
  {
   "cell_type": "code",
   "execution_count": 45,
   "id": "f5c31401",
   "metadata": {},
   "outputs": [],
   "source": [
    "merged_data.jieba_content = merged_data.jieba_content.map(list)\n",
    "merged_data.jieba_sentence = merged_data.jieba_sentence.map(list)"
   ]
  },
  {
   "cell_type": "code",
   "execution_count": 51,
   "id": "4a74330d",
   "metadata": {},
   "outputs": [],
   "source": [
    "merged_data.to_parquet('D:/michael/full_version_data/data_dict_charged.parquet.gzip')"
   ]
  },
  {
   "cell_type": "code",
   "execution_count": 68,
   "id": "af8191e2",
   "metadata": {},
   "outputs": [],
   "source": [
    "def get_dict_scores(df_in,dict_num):\n",
    "    df_in['dict{Dn}_score1'.format(Dn=dict_num)] = eval('df_in.dict{Dn}_words.map(lambda x: x[0]/x[2] if x[2]!=0 else np.nan)'.format(Dn=dict_num))\n",
    "    df_in['dict{Dn}_score2'.format(Dn=dict_num)] = eval('df_in.dict{Dn}_words.map(lambda x: -x[1]/x[2] if x[2]!=0 else np.nan)'.format(Dn=dict_num))\n",
    "    df_in['dict{Dn}_score3'.format(Dn=dict_num)] = eval('df_in.dict{Dn}_words.map(lambda x: (x[0]-x[1])/x[2] if x[2]!=0 else np.nan)'.format(Dn=dict_num))\n",
    "    df_in['dict{Dn}_score4'.format(Dn=dict_num)] = eval('df_in.dict{Dn}_words.map(lambda x: x[0]/(x[0]+x[1]) if x[0]+x[1]!=0 else np.nan)'.format(Dn=dict_num))\n",
    "    df_in['dict{Dn}_score5'.format(Dn=dict_num)] = eval('df_in.dict{Dn}_words.map(lambda x: -x[1]/(x[0]+x[1]) if x[0]+x[1]!=0 else np.nan)'.format(Dn=dict_num))\n",
    "    df_in['dict{Dn}_score6'.format(Dn=dict_num)] = eval('df_in.dict{Dn}_words.map(lambda x: (x[0]-x[1])/(x[0]+x[1]) if x[0]+x[1]!=0 else np.nan)'.format(Dn=dict_num))\n",
    "    df_in['dict{Dn}_score7'.format(Dn=dict_num)] = eval('df_in.dict{Dn}_sentences.map(lambda x: x[0]/x[2] if x[2]!=0 else np.nan)'.format(Dn=dict_num))\n",
    "    df_in['dict{Dn}_score8'.format(Dn=dict_num)] = eval('df_in.dict{Dn}_sentences.map(lambda x: -x[1]/x[2] if x[2]!=0 else np.nan)'.format(Dn=dict_num))\n",
    "    df_in['dict{Dn}_score9'.format(Dn=dict_num)] = eval('df_in.dict{Dn}_sentences.map(lambda x: (x[0]-x[1])/x[2] if x[2]!=0 else np.nan)'.format(Dn=dict_num))\n",
    "    df_in['dict{Dn}_score10'.format(Dn=dict_num)] = eval('df_in.dict{Dn}_sentences.map(lambda x: x[0]/(x[0]+x[1]) if x[0]+x[1]!=0 else np.nan)'.format(Dn=dict_num))\n",
    "    df_in['dict{Dn}_score11'.format(Dn=dict_num)] = eval('df_in.dict{Dn}_sentences.map(lambda x: -x[1]/(x[0]+x[1]) if x[0]+x[1]!=0 else np.nan)'.format(Dn=dict_num))\n",
    "    df_in['dict{Dn}_score12'.format(Dn=dict_num)] = eval('df_in.dict{Dn}_sentences.map(lambda x: (x[0]-x[1])/(x[0]+x[1]) if x[0]+x[1]!=0 else np.nan)'.format(Dn=dict_num))\n",
    "    return df_in"
   ]
  },
  {
   "cell_type": "code",
   "execution_count": 76,
   "id": "e7e1671f",
   "metadata": {},
   "outputs": [],
   "source": [
    "for dict_num in [1,2,3]:\n",
    "    merged_data = get_dict_scores(merged_data.copy(),dict_num)"
   ]
  },
  {
   "cell_type": "code",
   "execution_count": 4,
   "id": "5a65193c",
   "metadata": {},
   "outputs": [],
   "source": [
    "def get_corr(df_in,dict_num=1,score_num=12,ret_col='specret_2d',method='spearman'):\n",
    "    return df_in[['dict{Dn}_score{Sn}'.format(Dn=dict_num,Sn=score_num),ret_col]].corr(method=method).iloc[0][ret_col]"
   ]
  },
  {
   "cell_type": "code",
   "execution_count": 109,
   "id": "2040116f",
   "metadata": {},
   "outputs": [
    {
     "data": {
      "text/plain": [
       "0.10605224968325222"
      ]
     },
     "execution_count": 109,
     "metadata": {},
     "output_type": "execute_result"
    }
   ],
   "source": [
    "get_corr(merged_data,dict_num=1,score_num=12,ret_col='specret_2d',method='spearman')"
   ]
  },
  {
   "cell_type": "code",
   "execution_count": null,
   "id": "f10ded5e",
   "metadata": {},
   "outputs": [],
   "source": []
  },
  {
   "cell_type": "code",
   "execution_count": 111,
   "id": "6e3ea307",
   "metadata": {},
   "outputs": [
    {
     "data": {
      "text/plain": [
       "(497665, 50)"
      ]
     },
     "execution_count": 111,
     "metadata": {},
     "output_type": "execute_result"
    }
   ],
   "source": [
    "merged_data.shape"
   ]
  },
  {
   "cell_type": "code",
   "execution_count": 112,
   "id": "72ecb750",
   "metadata": {},
   "outputs": [
    {
     "data": {
      "text/html": [
       "<div>\n",
       "<style scoped>\n",
       "    .dataframe tbody tr th:only-of-type {\n",
       "        vertical-align: middle;\n",
       "    }\n",
       "\n",
       "    .dataframe tbody tr th {\n",
       "        vertical-align: top;\n",
       "    }\n",
       "\n",
       "    .dataframe thead th {\n",
       "        text-align: right;\n",
       "    }\n",
       "</style>\n",
       "<table border=\"1\" class=\"dataframe\">\n",
       "  <thead>\n",
       "    <tr style=\"text-align: right;\">\n",
       "      <th></th>\n",
       "      <th>ID</th>\n",
       "      <th>SecuCode</th>\n",
       "      <th>date</th>\n",
       "      <th>specret</th>\n",
       "      <th>specret_2d</th>\n",
       "      <th>specret_tp2-tp6</th>\n",
       "      <th>jieba_content</th>\n",
       "      <th>jieba_sentence</th>\n",
       "      <th>dict1_words</th>\n",
       "      <th>dict1_sentences</th>\n",
       "      <th>...</th>\n",
       "      <th>dict3_score3</th>\n",
       "      <th>dict3_score4</th>\n",
       "      <th>dict3_score5</th>\n",
       "      <th>dict3_score6</th>\n",
       "      <th>dict3_score7</th>\n",
       "      <th>dict3_score8</th>\n",
       "      <th>dict3_score9</th>\n",
       "      <th>dict3_score10</th>\n",
       "      <th>dict3_score11</th>\n",
       "      <th>dict3_score12</th>\n",
       "    </tr>\n",
       "  </thead>\n",
       "  <tbody>\n",
       "    <tr>\n",
       "      <th>0</th>\n",
       "      <td>181899</td>\n",
       "      <td>600323</td>\n",
       "      <td>2010-01-04</td>\n",
       "      <td>0.006658</td>\n",
       "      <td>-0.001522</td>\n",
       "      <td>-0.030300</td>\n",
       "      <td>[南海发展nt, 水价n, 如期t, 上调v, 增厚v, 业绩n, 约d, 事项n, 公司n...</td>\n",
       "      <td>[[南海发展, 水价, 如期, 上调], [增厚, 业绩, 约], [事项], [公司, 今...</td>\n",
       "      <td>[31, 5, 198]</td>\n",
       "      <td>[18, 2, 39]</td>\n",
       "      <td>...</td>\n",
       "      <td>0.020202</td>\n",
       "      <td>0.666667</td>\n",
       "      <td>-0.333333</td>\n",
       "      <td>0.333333</td>\n",
       "      <td>0.153846</td>\n",
       "      <td>-0.051282</td>\n",
       "      <td>0.102564</td>\n",
       "      <td>0.750000</td>\n",
       "      <td>-0.250000</td>\n",
       "      <td>0.500000</td>\n",
       "    </tr>\n",
       "    <tr>\n",
       "      <th>1</th>\n",
       "      <td>181900</td>\n",
       "      <td>002024</td>\n",
       "      <td>2010-01-04</td>\n",
       "      <td>-0.004292</td>\n",
       "      <td>-0.022783</td>\n",
       "      <td>-0.047744</td>\n",
       "      <td>[苏宁ns, 电器n, 内外s, 兼修v, 进入v, 新一轮nz, 增长期n, 投资vn, ...</td>\n",
       "      <td>[[苏宁, 电器, 内外, 兼修, 进入, 新一轮, 增长期], [投资, 要点], [行业...</td>\n",
       "      <td>[69, 6, 330]</td>\n",
       "      <td>[26, 2, 47]</td>\n",
       "      <td>...</td>\n",
       "      <td>0.151515</td>\n",
       "      <td>0.890625</td>\n",
       "      <td>-0.109375</td>\n",
       "      <td>0.781250</td>\n",
       "      <td>0.510638</td>\n",
       "      <td>-0.085106</td>\n",
       "      <td>0.425532</td>\n",
       "      <td>0.857143</td>\n",
       "      <td>-0.142857</td>\n",
       "      <td>0.714286</td>\n",
       "    </tr>\n",
       "    <tr>\n",
       "      <th>2</th>\n",
       "      <td>181901</td>\n",
       "      <td>002092</td>\n",
       "      <td>2010-01-04</td>\n",
       "      <td>0.030815</td>\n",
       "      <td>0.018962</td>\n",
       "      <td>0.055390</td>\n",
       "      <td>[泰ns, 化学n, 发布v, 准东ns, 井田nr, 勘探vn, 报告n, 煤炭n, 开发...</td>\n",
       "      <td>[[中, 泰, 化学, 发布, 准东, 一, 井田, 勘探, 报告], [煤炭, 开发, 再...</td>\n",
       "      <td>[23, 0, 185]</td>\n",
       "      <td>[16, 0, 29]</td>\n",
       "      <td>...</td>\n",
       "      <td>0.086486</td>\n",
       "      <td>1.000000</td>\n",
       "      <td>0.000000</td>\n",
       "      <td>1.000000</td>\n",
       "      <td>0.379310</td>\n",
       "      <td>0.000000</td>\n",
       "      <td>0.379310</td>\n",
       "      <td>1.000000</td>\n",
       "      <td>0.000000</td>\n",
       "      <td>1.000000</td>\n",
       "    </tr>\n",
       "  </tbody>\n",
       "</table>\n",
       "<p>3 rows × 50 columns</p>\n",
       "</div>"
      ],
      "text/plain": [
       "       ID SecuCode       date   specret  specret_2d  specret_tp2-tp6  \\\n",
       "0  181899   600323 2010-01-04  0.006658   -0.001522        -0.030300   \n",
       "1  181900   002024 2010-01-04 -0.004292   -0.022783        -0.047744   \n",
       "2  181901   002092 2010-01-04  0.030815    0.018962         0.055390   \n",
       "\n",
       "                                       jieba_content  \\\n",
       "0  [南海发展nt, 水价n, 如期t, 上调v, 增厚v, 业绩n, 约d, 事项n, 公司n...   \n",
       "1  [苏宁ns, 电器n, 内外s, 兼修v, 进入v, 新一轮nz, 增长期n, 投资vn, ...   \n",
       "2  [泰ns, 化学n, 发布v, 准东ns, 井田nr, 勘探vn, 报告n, 煤炭n, 开发...   \n",
       "\n",
       "                                      jieba_sentence   dict1_words  \\\n",
       "0  [[南海发展, 水价, 如期, 上调], [增厚, 业绩, 约], [事项], [公司, 今...  [31, 5, 198]   \n",
       "1  [[苏宁, 电器, 内外, 兼修, 进入, 新一轮, 增长期], [投资, 要点], [行业...  [69, 6, 330]   \n",
       "2  [[中, 泰, 化学, 发布, 准东, 一, 井田, 勘探, 报告], [煤炭, 开发, 再...  [23, 0, 185]   \n",
       "\n",
       "  dict1_sentences  ... dict3_score3 dict3_score4 dict3_score5 dict3_score6  \\\n",
       "0     [18, 2, 39]  ...     0.020202     0.666667    -0.333333     0.333333   \n",
       "1     [26, 2, 47]  ...     0.151515     0.890625    -0.109375     0.781250   \n",
       "2     [16, 0, 29]  ...     0.086486     1.000000     0.000000     1.000000   \n",
       "\n",
       "   dict3_score7  dict3_score8  dict3_score9  dict3_score10  dict3_score11  \\\n",
       "0      0.153846     -0.051282      0.102564       0.750000      -0.250000   \n",
       "1      0.510638     -0.085106      0.425532       0.857143      -0.142857   \n",
       "2      0.379310      0.000000      0.379310       1.000000       0.000000   \n",
       "\n",
       "   dict3_score12  \n",
       "0       0.500000  \n",
       "1       0.714286  \n",
       "2       1.000000  \n",
       "\n",
       "[3 rows x 50 columns]"
      ]
     },
     "execution_count": 112,
     "metadata": {},
     "output_type": "execute_result"
    }
   ],
   "source": [
    "merged_data.head(3)"
   ]
  },
  {
   "cell_type": "code",
   "execution_count": 110,
   "id": "5a25805b",
   "metadata": {},
   "outputs": [],
   "source": [
    "merged_data.to_parquet('D:/michael/full_version_data/data_dict_scores.parquet.gzip')"
   ]
  },
  {
   "cell_type": "code",
   "execution_count": 5,
   "id": "19bdc638",
   "metadata": {},
   "outputs": [],
   "source": [
    "score_df_cols = []\n",
    "for i in range(1,13):\n",
    "    score_df_cols.append('score_'+str(i))"
   ]
  },
  {
   "cell_type": "code",
   "execution_count": 8,
   "id": "a2ab8f46",
   "metadata": {},
   "outputs": [
    {
     "data": {
      "image/png": "[encoded data removed]",
      "text/plain": [
       "<Figure size 1080x360 with 2 Axes>"
      ]
     },
     "metadata": {
      "needs_background": "light"
     },
     "output_type": "display_data"
    }
   ],
   "source": [
    "#used_data = merged_data\n",
    "used_data = merged_data.loc[merged_data.date >= dt.datetime(2015,1,1)]\n",
    "\n",
    "import seaborn as sns\n",
    "import matplotlib.pyplot as plt\n",
    "score_df = pd.DataFrame(columns=score_df_cols)\n",
    "for dict_num in [1,2,3]:\n",
    "    scores = []\n",
    "    for score_num in range(1,13):\n",
    "        scores.append(round(get_corr(used_data,dict_num=dict_num,score_num=score_num,ret_col='specret_tp2-tp6',method='pearson'),5))\n",
    "    row = pd.DataFrame([scores],columns=score_df_cols, index=['d'+str(dict_num)+'p'])\n",
    "    score_df = score_df.append(row)\n",
    "for dict_num in [1,2,3]:\n",
    "    scores = []\n",
    "    for score_num in range(1,13):\n",
    "        scores.append(round(get_corr(used_data,dict_num=dict_num,score_num=score_num,ret_col='specret_tp2-tp6',method='spearman'),5))\n",
    "    row = pd.DataFrame([scores],columns=score_df_cols, index=['d'+str(dict_num)+'s'])\n",
    "    score_df = score_df.append(row)\n",
    "fig, ax = plt.subplots(figsize=(15,5))\n",
    "sns.heatmap(score_df, annot=True, cmap='rocket_r', ax=ax, fmt='.3f', vmin=0, vmax=0.15)\n",
    "plt.savefig('D:/michael/full_version_data/img/test_data_dict_corr_heatmap_tp2-tp6.png')\n",
    "plt.show()"
   ]
  },
  {
   "cell_type": "code",
   "execution_count": 2,
   "id": "b8a6834a",
   "metadata": {},
   "outputs": [],
   "source": [
    "merged_data = pd.read_parquet('D:/michael/full_version_data/data_dict_scores.parquet.gzip')"
   ]
  },
  {
   "cell_type": "code",
   "execution_count": 3,
   "id": "4edec11b",
   "metadata": {},
   "outputs": [],
   "source": [
    "merged_data = merged_data.sort_values(by='date', ascending=True)"
   ]
  },
  {
   "cell_type": "code",
   "execution_count": 11,
   "id": "fd49dd11",
   "metadata": {},
   "outputs": [
    {
     "data": {
      "text/html": [
       "<div>\n",
       "<style scoped>\n",
       "    .dataframe tbody tr th:only-of-type {\n",
       "        vertical-align: middle;\n",
       "    }\n",
       "\n",
       "    .dataframe tbody tr th {\n",
       "        vertical-align: top;\n",
       "    }\n",
       "\n",
       "    .dataframe thead th {\n",
       "        text-align: right;\n",
       "    }\n",
       "</style>\n",
       "<table border=\"1\" class=\"dataframe\">\n",
       "  <thead>\n",
       "    <tr style=\"text-align: right;\">\n",
       "      <th></th>\n",
       "      <th>ID</th>\n",
       "      <th>SecuCode</th>\n",
       "      <th>date</th>\n",
       "      <th>specret</th>\n",
       "      <th>specret_2d</th>\n",
       "      <th>specret_tp2-tp6</th>\n",
       "      <th>jieba_content</th>\n",
       "      <th>jieba_sentence</th>\n",
       "      <th>dict1_words</th>\n",
       "      <th>dict1_sentences</th>\n",
       "      <th>...</th>\n",
       "      <th>dict3_score3</th>\n",
       "      <th>dict3_score4</th>\n",
       "      <th>dict3_score5</th>\n",
       "      <th>dict3_score6</th>\n",
       "      <th>dict3_score7</th>\n",
       "      <th>dict3_score8</th>\n",
       "      <th>dict3_score9</th>\n",
       "      <th>dict3_score10</th>\n",
       "      <th>dict3_score11</th>\n",
       "      <th>dict3_score12</th>\n",
       "    </tr>\n",
       "  </thead>\n",
       "  <tbody>\n",
       "    <tr>\n",
       "      <th>497061</th>\n",
       "      <td>1373471</td>\n",
       "      <td>600588</td>\n",
       "      <td>2021-08-19</td>\n",
       "      <td>-0.028538</td>\n",
       "      <td>-0.022273</td>\n",
       "      <td>-0.020009</td>\n",
       "      <td>[用友n, 网络n, 坚定a, 落实a, 战略n, 云ns, 服务vn, 业务收入n, 占v...</td>\n",
       "      <td>[[用友, 网络, 坚定, 落实, II, 战略], [云, 服务, 业务收入, 占, 比,...</td>\n",
       "      <td>[102, 10, 629]</td>\n",
       "      <td>[70, 6, 106]</td>\n",
       "      <td>...</td>\n",
       "      <td>0.112878</td>\n",
       "      <td>0.865979</td>\n",
       "      <td>-0.134021</td>\n",
       "      <td>0.731959</td>\n",
       "      <td>0.584906</td>\n",
       "      <td>-0.056604</td>\n",
       "      <td>0.528302</td>\n",
       "      <td>0.911765</td>\n",
       "      <td>-0.088235</td>\n",
       "      <td>0.823529</td>\n",
       "    </tr>\n",
       "    <tr>\n",
       "      <th>497162</th>\n",
       "      <td>1373185</td>\n",
       "      <td>002391</td>\n",
       "      <td>2021-08-19</td>\n",
       "      <td>-0.005783</td>\n",
       "      <td>-0.003988</td>\n",
       "      <td>-0.041742</td>\n",
       "      <td>[长青nr, 股份n, 上半年t, 稳中有b, 增v, 期待v, 新a, 项目n, 有序n,...</td>\n",
       "      <td>[[长青, 股份, 上半年, 稳中有, 增], [期待, 新, 项目, 有序, 推进], [...</td>\n",
       "      <td>[49, 10, 316]</td>\n",
       "      <td>[32, 7, 62]</td>\n",
       "      <td>...</td>\n",
       "      <td>0.082278</td>\n",
       "      <td>0.809524</td>\n",
       "      <td>-0.190476</td>\n",
       "      <td>0.619048</td>\n",
       "      <td>0.419355</td>\n",
       "      <td>-0.080645</td>\n",
       "      <td>0.338710</td>\n",
       "      <td>0.838710</td>\n",
       "      <td>-0.161290</td>\n",
       "      <td>0.677419</td>\n",
       "    </tr>\n",
       "    <tr>\n",
       "      <th>497163</th>\n",
       "      <td>1373186</td>\n",
       "      <td>300498</td>\n",
       "      <td>2021-08-19</td>\n",
       "      <td>0.001919</td>\n",
       "      <td>0.002674</td>\n",
       "      <td>0.023425</td>\n",
       "      <td>[温氏nr, 股份n, 肉猪n, 养殖vn, 业务n, 承压v, 肉鸡n, 养殖vn, 业务...</td>\n",
       "      <td>[[温氏, 股份, 肉猪, 养殖, 业务, 承压], [肉鸡, 养殖, 业务, 扭亏为盈],...</td>\n",
       "      <td>[30, 24, 368]</td>\n",
       "      <td>[20, 14, 66]</td>\n",
       "      <td>...</td>\n",
       "      <td>0.008152</td>\n",
       "      <td>0.529412</td>\n",
       "      <td>-0.470588</td>\n",
       "      <td>0.058824</td>\n",
       "      <td>0.257576</td>\n",
       "      <td>-0.212121</td>\n",
       "      <td>0.045455</td>\n",
       "      <td>0.548387</td>\n",
       "      <td>-0.451613</td>\n",
       "      <td>0.096774</td>\n",
       "    </tr>\n",
       "    <tr>\n",
       "      <th>497152</th>\n",
       "      <td>1373353</td>\n",
       "      <td>603816</td>\n",
       "      <td>2021-08-19</td>\n",
       "      <td>0.051282</td>\n",
       "      <td>0.041702</td>\n",
       "      <td>-0.009453</td>\n",
       "      <td>[顾家n, 家居n, 业绩n, 超v, 预期vn, 产品n, 渠道n, 共振n, 向上d, ...</td>\n",
       "      <td>[[顾家, 家居, 业绩, 超, 预期], [产品, 渠道, 共振, 向上], [　, 　,...</td>\n",
       "      <td>[52, 7, 342]</td>\n",
       "      <td>[35, 4, 68]</td>\n",
       "      <td>...</td>\n",
       "      <td>0.087719</td>\n",
       "      <td>0.826087</td>\n",
       "      <td>-0.173913</td>\n",
       "      <td>0.652174</td>\n",
       "      <td>0.411765</td>\n",
       "      <td>-0.044118</td>\n",
       "      <td>0.367647</td>\n",
       "      <td>0.903226</td>\n",
       "      <td>-0.096774</td>\n",
       "      <td>0.806452</td>\n",
       "    </tr>\n",
       "    <tr>\n",
       "      <th>497286</th>\n",
       "      <td>1373390</td>\n",
       "      <td>300015</td>\n",
       "      <td>2021-08-19</td>\n",
       "      <td>-0.015191</td>\n",
       "      <td>-0.055872</td>\n",
       "      <td>0.012988</td>\n",
       "      <td>[爱尔nr, 眼科n, 收购v, 体外s, 培育vn, 医院n, 持续vd, 完善v, 网络...</td>\n",
       "      <td>[[爱尔, 眼科, 收购, 体外, 培育, 医院], [持续, 完善, 网络, 布局], [...</td>\n",
       "      <td>[37, 1, 256]</td>\n",
       "      <td>[26, 0, 46]</td>\n",
       "      <td>...</td>\n",
       "      <td>0.113281</td>\n",
       "      <td>0.914286</td>\n",
       "      <td>-0.085714</td>\n",
       "      <td>0.828571</td>\n",
       "      <td>0.478261</td>\n",
       "      <td>-0.043478</td>\n",
       "      <td>0.434783</td>\n",
       "      <td>0.916667</td>\n",
       "      <td>-0.083333</td>\n",
       "      <td>0.833333</td>\n",
       "    </tr>\n",
       "  </tbody>\n",
       "</table>\n",
       "<p>5 rows × 50 columns</p>\n",
       "</div>"
      ],
      "text/plain": [
       "             ID SecuCode       date   specret  specret_2d  specret_tp2-tp6  \\\n",
       "497061  1373471   600588 2021-08-19 -0.028538   -0.022273        -0.020009   \n",
       "497162  1373185   002391 2021-08-19 -0.005783   -0.003988        -0.041742   \n",
       "497163  1373186   300498 2021-08-19  0.001919    0.002674         0.023425   \n",
       "497152  1373353   603816 2021-08-19  0.051282    0.041702        -0.009453   \n",
       "497286  1373390   300015 2021-08-19 -0.015191   -0.055872         0.012988   \n",
       "\n",
       "                                            jieba_content  \\\n",
       "497061  [用友n, 网络n, 坚定a, 落实a, 战略n, 云ns, 服务vn, 业务收入n, 占v...   \n",
       "497162  [长青nr, 股份n, 上半年t, 稳中有b, 增v, 期待v, 新a, 项目n, 有序n,...   \n",
       "497163  [温氏nr, 股份n, 肉猪n, 养殖vn, 业务n, 承压v, 肉鸡n, 养殖vn, 业务...   \n",
       "497152  [顾家n, 家居n, 业绩n, 超v, 预期vn, 产品n, 渠道n, 共振n, 向上d, ...   \n",
       "497286  [爱尔nr, 眼科n, 收购v, 体外s, 培育vn, 医院n, 持续vd, 完善v, 网络...   \n",
       "\n",
       "                                           jieba_sentence     dict1_words  \\\n",
       "497061  [[用友, 网络, 坚定, 落实, II, 战略], [云, 服务, 业务收入, 占, 比,...  [102, 10, 629]   \n",
       "497162  [[长青, 股份, 上半年, 稳中有, 增], [期待, 新, 项目, 有序, 推进], [...   [49, 10, 316]   \n",
       "497163  [[温氏, 股份, 肉猪, 养殖, 业务, 承压], [肉鸡, 养殖, 业务, 扭亏为盈],...   [30, 24, 368]   \n",
       "497152  [[顾家, 家居, 业绩, 超, 预期], [产品, 渠道, 共振, 向上], [　, 　,...    [52, 7, 342]   \n",
       "497286  [[爱尔, 眼科, 收购, 体外, 培育, 医院], [持续, 完善, 网络, 布局], [...    [37, 1, 256]   \n",
       "\n",
       "       dict1_sentences  ... dict3_score3 dict3_score4 dict3_score5  \\\n",
       "497061    [70, 6, 106]  ...     0.112878     0.865979    -0.134021   \n",
       "497162     [32, 7, 62]  ...     0.082278     0.809524    -0.190476   \n",
       "497163    [20, 14, 66]  ...     0.008152     0.529412    -0.470588   \n",
       "497152     [35, 4, 68]  ...     0.087719     0.826087    -0.173913   \n",
       "497286     [26, 0, 46]  ...     0.113281     0.914286    -0.085714   \n",
       "\n",
       "       dict3_score6  dict3_score7  dict3_score8  dict3_score9  dict3_score10  \\\n",
       "497061     0.731959      0.584906     -0.056604      0.528302       0.911765   \n",
       "497162     0.619048      0.419355     -0.080645      0.338710       0.838710   \n",
       "497163     0.058824      0.257576     -0.212121      0.045455       0.548387   \n",
       "497152     0.652174      0.411765     -0.044118      0.367647       0.903226   \n",
       "497286     0.828571      0.478261     -0.043478      0.434783       0.916667   \n",
       "\n",
       "        dict3_score11  dict3_score12  \n",
       "497061      -0.088235       0.823529  \n",
       "497162      -0.161290       0.677419  \n",
       "497163      -0.451613       0.096774  \n",
       "497152      -0.096774       0.806452  \n",
       "497286      -0.083333       0.833333  \n",
       "\n",
       "[5 rows x 50 columns]"
      ]
     },
     "execution_count": 11,
     "metadata": {},
     "output_type": "execute_result"
    }
   ],
   "source": [
    "merged_data.tail()"
   ]
  },
  {
   "cell_type": "code",
   "execution_count": null,
   "id": "9edf9303",
   "metadata": {},
   "outputs": [],
   "source": []
  }
 ],
 "metadata": {
  "kernelspec": {
   "display_name": "Python 3",
   "language": "python",
   "name": "python3"
  },
  "language_info": {
   "codemirror_mode": {
    "name": "ipython",
    "version": 3
   },
   "file_extension": ".py",
   "mimetype": "text/x-python",
   "name": "python",
   "nbconvert_exporter": "python",
   "pygments_lexer": "ipython3",
   "version": "3.7.9"
  }
 },
 "nbformat": 4,
 "nbformat_minor": 5
}
