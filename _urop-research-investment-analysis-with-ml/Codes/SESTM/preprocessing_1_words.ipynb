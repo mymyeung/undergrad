{
 "cells": [
  {
   "cell_type": "markdown",
   "id": "258f3265",
   "metadata": {},
   "source": [
    "# Preprocessing 1\n",
    "Investment Analysis with Machine Learning\\\n",
    "UROP 1100E (Man Yin Michael YEUNG, 2021 Fall)"
   ]
  },
  {
   "cell_type": "code",
   "execution_count": 1,
   "id": "6d8f6d45",
   "metadata": {},
   "outputs": [],
   "source": [
    "import pandas as pd\n",
    "import datetime as dt\n",
    "import numpy as np\n",
    "import jieba\n",
    "import jieba.posseg as pseg\n",
    "import paddle\n",
    "import string\n",
    "import re\n",
    "from multiprocessing import Pool\n",
    "from stopwordsiso import stopwords\n",
    "import warnings\n",
    "from collections import Counter\n",
    "warnings.filterwarnings(\"ignore\")\n",
    "from IPython.display import clear_output"
   ]
  },
  {
   "cell_type": "markdown",
   "id": "d56e2a1e",
   "metadata": {},
   "source": [
    "### Read Text Data"
   ]
  },
  {
   "cell_type": "code",
   "execution_count": 2,
   "id": "a4323163",
   "metadata": {},
   "outputs": [],
   "source": [
    "text_data = pd.read_parquet('D:/tsclientdata/anatxt.parquet.gzip')"
   ]
  },
  {
   "cell_type": "code",
   "execution_count": 3,
   "id": "6128345a",
   "metadata": {},
   "outputs": [
    {
     "data": {
      "text/plain": [
       "(1693001, 11)"
      ]
     },
     "execution_count": 3,
     "metadata": {},
     "output_type": "execute_result"
    }
   ],
   "source": [
    "text_data.shape"
   ]
  },
  {
   "cell_type": "markdown",
   "id": "092e7e1b",
   "metadata": {},
   "source": [
    "### Drop Duplicated Rows"
   ]
  },
  {
   "cell_type": "code",
   "execution_count": 4,
   "id": "a79b7ab0",
   "metadata": {},
   "outputs": [],
   "source": [
    "text_data = text_data.drop(columns=['FYEAR'])\n",
    "text_data = text_data.drop_duplicates()"
   ]
  },
  {
   "cell_type": "code",
   "execution_count": 5,
   "id": "f07ede03",
   "metadata": {},
   "outputs": [
    {
     "data": {
      "text/plain": [
       "(598664, 10)"
      ]
     },
     "execution_count": 5,
     "metadata": {},
     "output_type": "execute_result"
    }
   ],
   "source": [
    "text_data.shape"
   ]
  },
  {
   "cell_type": "markdown",
   "id": "1d3007a8",
   "metadata": {},
   "source": [
    "### Preprocess Text Data"
   ]
  },
  {
   "cell_type": "code",
   "execution_count": 6,
   "id": "fa2d7ab3",
   "metadata": {},
   "outputs": [],
   "source": [
    "text_data.index = text_data.ID; text_data = text_data.drop(columns=['ID'])"
   ]
  },
  {
   "cell_type": "code",
   "execution_count": 7,
   "id": "f71944cf",
   "metadata": {},
   "outputs": [],
   "source": [
    "text_data = text_data.loc[text_data.content.notna()]"
   ]
  },
  {
   "cell_type": "code",
   "execution_count": 8,
   "id": "b04b2f2f",
   "metadata": {},
   "outputs": [],
   "source": [
    "text_data.content = text_data['TITLE'] + text_data.content\n",
    "text_data = text_data.drop(columns=['TITLE'])"
   ]
  },
  {
   "cell_type": "code",
   "execution_count": 9,
   "id": "d2075870",
   "metadata": {},
   "outputs": [],
   "source": [
    "text_data = text_data[['SecuCode','create_date','content']]"
   ]
  },
  {
   "cell_type": "code",
   "execution_count": 10,
   "id": "c4ab98f1",
   "metadata": {},
   "outputs": [],
   "source": [
    "text_data = text_data.rename(columns={'create_date':'date'})"
   ]
  },
  {
   "cell_type": "markdown",
   "id": "8ae2844b",
   "metadata": {},
   "source": [
    "### Jieba"
   ]
  },
  {
   "cell_type": "code",
   "execution_count": 11,
   "id": "de6f9ce4",
   "metadata": {},
   "outputs": [],
   "source": [
    "chinese_punct = \"！？｡。＂＃＄％＆＇（）＊＋，－／：；＜＝＞＠［＼］＾＿｀｛｜｝～｟｠｢｣､、〃》「」『』【】〔〕〖〗〘〙〚〛〜〝〞〟〰〾〿–—‘’‛“”„‟…‧﹏.． \\r\\n\\t\"\n",
    "numbers = \"1234567890\"\n",
    "def remove_punct(list_1):\n",
    "    return [[''.join(c for c in s[0] if c not in string.punctuation + numbers + chinese_punct + \" \"),s[1]] for s in list_1]"
   ]
  },
  {
   "cell_type": "code",
   "execution_count": 12,
   "id": "4e429232",
   "metadata": {},
   "outputs": [],
   "source": [
    "def filter_emptystr_pos(list_1):\n",
    "    ret = []; skip_pos = ['eng']; stops = stopwords([\"zh\"])\n",
    "    for item in list_1:\n",
    "        if not item[0] is None and not len(item[0]) == 0 and\\\n",
    "        not str(item[1]) in skip_pos and str(item[0]) not in stops:\n",
    "            ret.append(item)\n",
    "    return ret"
   ]
  },
  {
   "cell_type": "code",
   "execution_count": 13,
   "id": "5dd44c77",
   "metadata": {},
   "outputs": [
    {
     "name": "stderr",
     "output_type": "stream",
     "text": [
      "Find your own paddle version doesn't satisfy the minimum requirement (1.6.1), please install paddle tiny by 'pip install --upgrade paddlepaddle-tiny', or upgrade paddle full version by 'pip install --upgrade paddlepaddle (-gpu for GPU version)' \n"
     ]
    }
   ],
   "source": [
    "jieba.enable_paddle()"
   ]
  },
  {
   "cell_type": "code",
   "execution_count": 29,
   "id": "33bdcb04",
   "metadata": {},
   "outputs": [
    {
     "name": "stdout",
     "output_type": "stream",
     "text": [
      "start:\t 2021-10-17 21:42:25.245445\n",
      "2010 (39901, 3)\n",
      "output 2010 data 2021-10-17 21:56:51.795762\n",
      "2011 (46615, 3)\n",
      "output 2011 data 2021-10-17 22:15:55.024600\n",
      "2012 (50785, 3)\n",
      "output 2012 data 2021-10-17 22:33:40.216034\n",
      "2013 (44700, 3)\n",
      "output 2013 data 2021-10-17 22:49:49.337383\n",
      "2014 (42109, 3)\n",
      "output 2014 data 2021-10-17 23:06:57.808263\n",
      "2015 (40336, 3)\n",
      "output 2015 data 2021-10-17 23:25:49.084084\n",
      "2016 (51046, 3)\n",
      "output 2016 data 2021-10-17 23:53:57.622747\n",
      "2017 (59185, 3)\n",
      "output 2017 data 2021-10-18 00:21:21.720723\n",
      "2018 (55208, 3)\n",
      "output 2018 data 2021-10-18 00:46:16.874096\n",
      "2019 (56735, 3)\n",
      "output 2019 data 2021-10-18 01:10:35.623762\n",
      "2020 (61773, 3)\n",
      "output 2020 data 2021-10-18 01:37:46.290240\n"
     ]
    }
   ],
   "source": [
    "print('start:\\t',dt.datetime.now())\n",
    "for yr in range(2010,2021):\n",
    "    text_data_segment = text_data.loc[text_data.date>=dt.datetime(yr,1,1)]\n",
    "    text_data_segment = text_data_segment.loc[text_data_segment.date<=dt.datetime(yr,12,31)]\n",
    "    print(yr,text_data_segment.shape)\n",
    "    text_data_segment['jieba_content'] = text_data_segment.content.map(lambda x: pseg.cut(x, use_paddle = True))\\\n",
    "    .map(lambda x: [list(y) for y in x]).map(list).map(remove_punct).map(filter_emptystr_pos)\n",
    "    text_data_segment = text_data_segment[['SecuCode','date','jieba_content','content']]\n",
    "    text_data_segment.to_parquet('D:/michael/prepocessed_text_segment_'+str(yr)+'.parquet.gzip')\n",
    "    print('output '+str(yr)+' data',dt.datetime.now())"
   ]
  },
  {
   "cell_type": "code",
   "execution_count": 31,
   "id": "ed5ac9f3",
   "metadata": {},
   "outputs": [
    {
     "name": "stdout",
     "output_type": "stream",
     "text": [
      "2021 (48647, 3)\n",
      "output 2021 data 2021-10-18 02:06:57.412099\n"
     ]
    }
   ],
   "source": [
    "# Adding 2021 Data as well\n",
    "for yr in range(2021,2022):\n",
    "    text_data_segment = text_data.loc[text_data.date>=dt.datetime(yr,1,1)]\n",
    "    text_data_segment = text_data_segment.loc[text_data_segment.date<=dt.datetime(yr,12,31)]\n",
    "    print(yr,text_data_segment.shape)\n",
    "    text_data_segment['jieba_content'] = text_data_segment.content.map(lambda x: pseg.cut(x, use_paddle = True))\\\n",
    "    .map(lambda x: [list(y) for y in x]).map(list).map(remove_punct).map(filter_emptystr_pos)\n",
    "    text_data_segment = text_data_segment[['SecuCode','date','jieba_content','content']]\n",
    "    text_data_segment.to_parquet('D:/michael/prepocessed_text_segment_'+str(yr)+'.parquet.gzip')\n",
    "    print('output '+str(yr)+' data',dt.datetime.now())"
   ]
  },
  {
   "cell_type": "code",
   "execution_count": 33,
   "id": "692e5fbc",
   "metadata": {},
   "outputs": [],
   "source": [
    "text_data = pd.read_parquet('D:/michael/prepocessed_text_segment_2010.parquet.gzip')\n",
    "for yr in range(2011,2022):\n",
    "    text_data = text_data.append(pd.read_parquet('D:/michael/prepocessed_text_segment_'+str(yr)+'.parquet.gzip'))"
   ]
  },
  {
   "cell_type": "markdown",
   "id": "a455c246",
   "metadata": {},
   "source": [
    "text_data['jieba_content'] = text_data.content.map(lambda x: jieba.cut(x, cut_all = False))\\\n",
    ".map(list).map(remove_punct).map(lambda x: list(filter(None, x)))"
   ]
  },
  {
   "cell_type": "markdown",
   "id": "dc8b687b",
   "metadata": {},
   "source": [
    "text_data_1['jieba_content'] = text_data_1.content.map(lambda x: pseg.cut(x, use_paddle = True))\\\n",
    ".map(lambda x: [list(y) for y in x]).map(list).map(remove_punct).map(filter_emptystr_pos)"
   ]
  },
  {
   "cell_type": "markdown",
   "id": "1101fbb6",
   "metadata": {},
   "source": [
    "text_data.jieba_content = text_data.jieba_content.map(lambda x: [e for e in x if e.strip()])"
   ]
  },
  {
   "cell_type": "code",
   "execution_count": 41,
   "id": "8387d536",
   "metadata": {},
   "outputs": [
    {
     "data": {
      "text/html": [
       "<div>\n",
       "<style scoped>\n",
       "    .dataframe tbody tr th:only-of-type {\n",
       "        vertical-align: middle;\n",
       "    }\n",
       "\n",
       "    .dataframe tbody tr th {\n",
       "        vertical-align: top;\n",
       "    }\n",
       "\n",
       "    .dataframe thead th {\n",
       "        text-align: right;\n",
       "    }\n",
       "</style>\n",
       "<table border=\"1\" class=\"dataframe\">\n",
       "  <thead>\n",
       "    <tr style=\"text-align: right;\">\n",
       "      <th></th>\n",
       "      <th>SecuCode</th>\n",
       "      <th>date</th>\n",
       "      <th>jieba_content</th>\n",
       "      <th>content</th>\n",
       "    </tr>\n",
       "    <tr>\n",
       "      <th>ID</th>\n",
       "      <th></th>\n",
       "      <th></th>\n",
       "      <th></th>\n",
       "      <th></th>\n",
       "    </tr>\n",
       "  </thead>\n",
       "  <tbody>\n",
       "    <tr>\n",
       "      <th>181899</th>\n",
       "      <td>600323</td>\n",
       "      <td>2010-01-04</td>\n",
       "      <td>[[南海发展, nt], [水价, n], [如期, t], [上调, v], [增厚, v...</td>\n",
       "      <td>南海发展：水价如期上调，增厚业绩约10％      事项：\\r\\n\\r\\n    公司今日公...</td>\n",
       "    </tr>\n",
       "    <tr>\n",
       "      <th>181900</th>\n",
       "      <td>002024</td>\n",
       "      <td>2010-01-04</td>\n",
       "      <td>[[苏宁, ns], [电器, n], [内外, s], [兼修, v], [进入, v],...</td>\n",
       "      <td>苏宁电器：“内外兼修”进入新一轮增长期      投资要点\\r\\n\\r\\n    行业前景光...</td>\n",
       "    </tr>\n",
       "    <tr>\n",
       "      <th>181901</th>\n",
       "      <td>002092</td>\n",
       "      <td>2010-01-04</td>\n",
       "      <td>[[泰, ns], [化学, n], [发布, v], [准东, ns], [井田, nr]...</td>\n",
       "      <td>中泰化学：发布准东一井田勘探报告，煤炭开发再推进一步      事件描述：\\r\\n\\r\\n ...</td>\n",
       "    </tr>\n",
       "  </tbody>\n",
       "</table>\n",
       "</div>"
      ],
      "text/plain": [
       "       SecuCode       date                                      jieba_content  \\\n",
       "ID                                                                              \n",
       "181899   600323 2010-01-04  [[南海发展, nt], [水价, n], [如期, t], [上调, v], [增厚, v...   \n",
       "181900   002024 2010-01-04  [[苏宁, ns], [电器, n], [内外, s], [兼修, v], [进入, v],...   \n",
       "181901   002092 2010-01-04  [[泰, ns], [化学, n], [发布, v], [准东, ns], [井田, nr]...   \n",
       "\n",
       "                                                  content  \n",
       "ID                                                         \n",
       "181899  南海发展：水价如期上调，增厚业绩约10％      事项：\\r\\n\\r\\n    公司今日公...  \n",
       "181900  苏宁电器：“内外兼修”进入新一轮增长期      投资要点\\r\\n\\r\\n    行业前景光...  \n",
       "181901  中泰化学：发布准东一井田勘探报告，煤炭开发再推进一步      事件描述：\\r\\n\\r\\n ...  "
      ]
     },
     "execution_count": 41,
     "metadata": {},
     "output_type": "execute_result"
    }
   ],
   "source": [
    "text_data = text_data[['SecuCode','date','jieba_content','content']]\n",
    "text_data.head(3)"
   ]
  },
  {
   "cell_type": "code",
   "execution_count": 38,
   "id": "900a4b22",
   "metadata": {},
   "outputs": [
    {
     "data": {
      "text/plain": [
       "(597040, 4)"
      ]
     },
     "execution_count": 38,
     "metadata": {},
     "output_type": "execute_result"
    }
   ],
   "source": [
    "text_data.shape"
   ]
  },
  {
   "cell_type": "code",
   "execution_count": 51,
   "id": "f674f7d9",
   "metadata": {},
   "outputs": [],
   "source": [
    "text_data.jieba_content = text_data.jieba_content.map(list)"
   ]
  },
  {
   "cell_type": "code",
   "execution_count": 52,
   "id": "885ead55",
   "metadata": {},
   "outputs": [],
   "source": [
    "text_data.to_parquet('D:/michael/prepocessed_text_only.parquet.gzip')"
   ]
  },
  {
   "cell_type": "code",
   "execution_count": 3,
   "id": "ed154b69",
   "metadata": {},
   "outputs": [
    {
     "data": {
      "text/html": [
       "<div>\n",
       "<style scoped>\n",
       "    .dataframe tbody tr th:only-of-type {\n",
       "        vertical-align: middle;\n",
       "    }\n",
       "\n",
       "    .dataframe tbody tr th {\n",
       "        vertical-align: top;\n",
       "    }\n",
       "\n",
       "    .dataframe thead th {\n",
       "        text-align: right;\n",
       "    }\n",
       "</style>\n",
       "<table border=\"1\" class=\"dataframe\">\n",
       "  <thead>\n",
       "    <tr style=\"text-align: right;\">\n",
       "      <th></th>\n",
       "      <th>SecuCode</th>\n",
       "      <th>date</th>\n",
       "      <th>jieba_content</th>\n",
       "    </tr>\n",
       "    <tr>\n",
       "      <th>ID</th>\n",
       "      <th></th>\n",
       "      <th></th>\n",
       "      <th></th>\n",
       "    </tr>\n",
       "  </thead>\n",
       "  <tbody>\n",
       "    <tr>\n",
       "      <th>181899</th>\n",
       "      <td>600323</td>\n",
       "      <td>2010-01-04</td>\n",
       "      <td>[[南海发展, nt], [水价, n], [如期, t], [上调, v], [增厚, v...</td>\n",
       "    </tr>\n",
       "    <tr>\n",
       "      <th>181900</th>\n",
       "      <td>002024</td>\n",
       "      <td>2010-01-04</td>\n",
       "      <td>[[苏宁, ns], [电器, n], [内外, s], [兼修, v], [进入, v],...</td>\n",
       "    </tr>\n",
       "    <tr>\n",
       "      <th>181901</th>\n",
       "      <td>002092</td>\n",
       "      <td>2010-01-04</td>\n",
       "      <td>[[泰, ns], [化学, n], [发布, v], [准东, ns], [井田, nr]...</td>\n",
       "    </tr>\n",
       "  </tbody>\n",
       "</table>\n",
       "</div>"
      ],
      "text/plain": [
       "       SecuCode       date                                      jieba_content\n",
       "ID                                                                           \n",
       "181899   600323 2010-01-04  [[南海发展, nt], [水价, n], [如期, t], [上调, v], [增厚, v...\n",
       "181900   002024 2010-01-04  [[苏宁, ns], [电器, n], [内外, s], [兼修, v], [进入, v],...\n",
       "181901   002092 2010-01-04  [[泰, ns], [化学, n], [发布, v], [准东, ns], [井田, nr]..."
      ]
     },
     "execution_count": 3,
     "metadata": {},
     "output_type": "execute_result"
    }
   ],
   "source": [
    "text_data = pd.read_parquet('D:/michael/prepocessed_text_only.parquet.gzip',columns=['SecuCode','date','jieba_content'])\n",
    "text_data.head(3)"
   ]
  },
  {
   "cell_type": "code",
   "execution_count": 4,
   "id": "39d212b4",
   "metadata": {},
   "outputs": [],
   "source": [
    "text_data.jieba_content = text_data.jieba_content.map(lambda x: [str(y[0])+str(y[1]) for y in x])"
   ]
  },
  {
   "cell_type": "code",
   "execution_count": 5,
   "id": "0ca7ed31",
   "metadata": {},
   "outputs": [
    {
     "data": {
      "text/html": [
       "<div>\n",
       "<style scoped>\n",
       "    .dataframe tbody tr th:only-of-type {\n",
       "        vertical-align: middle;\n",
       "    }\n",
       "\n",
       "    .dataframe tbody tr th {\n",
       "        vertical-align: top;\n",
       "    }\n",
       "\n",
       "    .dataframe thead th {\n",
       "        text-align: right;\n",
       "    }\n",
       "</style>\n",
       "<table border=\"1\" class=\"dataframe\">\n",
       "  <thead>\n",
       "    <tr style=\"text-align: right;\">\n",
       "      <th></th>\n",
       "      <th>SecuCode</th>\n",
       "      <th>date</th>\n",
       "      <th>jieba_content</th>\n",
       "    </tr>\n",
       "    <tr>\n",
       "      <th>ID</th>\n",
       "      <th></th>\n",
       "      <th></th>\n",
       "      <th></th>\n",
       "    </tr>\n",
       "  </thead>\n",
       "  <tbody>\n",
       "    <tr>\n",
       "      <th>181899</th>\n",
       "      <td>600323</td>\n",
       "      <td>2010-01-04</td>\n",
       "      <td>[南海发展nt, 水价n, 如期t, 上调v, 增厚v, 业绩n, 约d, 事项n, 公司n...</td>\n",
       "    </tr>\n",
       "    <tr>\n",
       "      <th>181900</th>\n",
       "      <td>002024</td>\n",
       "      <td>2010-01-04</td>\n",
       "      <td>[苏宁ns, 电器n, 内外s, 兼修v, 进入v, 新一轮nz, 增长期n, 投资vn, ...</td>\n",
       "    </tr>\n",
       "    <tr>\n",
       "      <th>181901</th>\n",
       "      <td>002092</td>\n",
       "      <td>2010-01-04</td>\n",
       "      <td>[泰ns, 化学n, 发布v, 准东ns, 井田nr, 勘探vn, 报告n, 煤炭n, 开发...</td>\n",
       "    </tr>\n",
       "  </tbody>\n",
       "</table>\n",
       "</div>"
      ],
      "text/plain": [
       "       SecuCode       date                                      jieba_content\n",
       "ID                                                                           \n",
       "181899   600323 2010-01-04  [南海发展nt, 水价n, 如期t, 上调v, 增厚v, 业绩n, 约d, 事项n, 公司n...\n",
       "181900   002024 2010-01-04  [苏宁ns, 电器n, 内外s, 兼修v, 进入v, 新一轮nz, 增长期n, 投资vn, ...\n",
       "181901   002092 2010-01-04  [泰ns, 化学n, 发布v, 准东ns, 井田nr, 勘探vn, 报告n, 煤炭n, 开发..."
      ]
     },
     "execution_count": 5,
     "metadata": {},
     "output_type": "execute_result"
    }
   ],
   "source": [
    "text_data.head(3)"
   ]
  },
  {
   "cell_type": "code",
   "execution_count": 23,
   "id": "2c00b38e",
   "metadata": {},
   "outputs": [],
   "source": [
    "text_data.to_parquet('D:/michael/prepocessed_text_only_blend.parquet.gzip')"
   ]
  },
  {
   "cell_type": "markdown",
   "id": "df60588e",
   "metadata": {},
   "source": [
    "### Read Price Data"
   ]
  },
  {
   "cell_type": "code",
   "execution_count": 8,
   "id": "c05778d5",
   "metadata": {},
   "outputs": [],
   "source": [
    "price_data = pd.read_parquet('D:/tsclientdata/dsf.parquet.gzip', columns=['SecuCode','date','specret'])"
   ]
  },
  {
   "cell_type": "code",
   "execution_count": 9,
   "id": "e646ecfb",
   "metadata": {},
   "outputs": [
    {
     "data": {
      "text/html": [
       "<div>\n",
       "<style scoped>\n",
       "    .dataframe tbody tr th:only-of-type {\n",
       "        vertical-align: middle;\n",
       "    }\n",
       "\n",
       "    .dataframe tbody tr th {\n",
       "        vertical-align: top;\n",
       "    }\n",
       "\n",
       "    .dataframe thead th {\n",
       "        text-align: right;\n",
       "    }\n",
       "</style>\n",
       "<table border=\"1\" class=\"dataframe\">\n",
       "  <thead>\n",
       "    <tr style=\"text-align: right;\">\n",
       "      <th></th>\n",
       "      <th>SecuCode</th>\n",
       "      <th>date</th>\n",
       "      <th>specret</th>\n",
       "    </tr>\n",
       "  </thead>\n",
       "  <tbody>\n",
       "    <tr>\n",
       "      <th>253867</th>\n",
       "      <td>000876</td>\n",
       "      <td>2001-04-16</td>\n",
       "      <td>-0.015848</td>\n",
       "    </tr>\n",
       "    <tr>\n",
       "      <th>253868</th>\n",
       "      <td>000425</td>\n",
       "      <td>2001-04-16</td>\n",
       "      <td>-0.001941</td>\n",
       "    </tr>\n",
       "    <tr>\n",
       "      <th>253869</th>\n",
       "      <td>600800</td>\n",
       "      <td>2001-04-16</td>\n",
       "      <td>-0.014478</td>\n",
       "    </tr>\n",
       "    <tr>\n",
       "      <th>253870</th>\n",
       "      <td>000831</td>\n",
       "      <td>2001-04-16</td>\n",
       "      <td>-0.009161</td>\n",
       "    </tr>\n",
       "    <tr>\n",
       "      <th>253871</th>\n",
       "      <td>600694</td>\n",
       "      <td>2001-04-16</td>\n",
       "      <td>0.001786</td>\n",
       "    </tr>\n",
       "  </tbody>\n",
       "</table>\n",
       "</div>"
      ],
      "text/plain": [
       "       SecuCode       date   specret\n",
       "253867   000876 2001-04-16 -0.015848\n",
       "253868   000425 2001-04-16 -0.001941\n",
       "253869   600800 2001-04-16 -0.014478\n",
       "253870   000831 2001-04-16 -0.009161\n",
       "253871   600694 2001-04-16  0.001786"
      ]
     },
     "execution_count": 9,
     "metadata": {},
     "output_type": "execute_result"
    }
   ],
   "source": [
    "price_data = price_data[price_data['specret'].notna()]\n",
    "price_data.head()"
   ]
  },
  {
   "cell_type": "code",
   "execution_count": 10,
   "id": "c5b497e9",
   "metadata": {},
   "outputs": [],
   "source": [
    "price_data.date = price_data.date.map(lambda x: x.strftime('%Y-%m-%d'))"
   ]
  },
  {
   "cell_type": "code",
   "execution_count": 11,
   "id": "d136d362",
   "metadata": {},
   "outputs": [
    {
     "data": {
      "text/html": [
       "<div>\n",
       "<style scoped>\n",
       "    .dataframe tbody tr th:only-of-type {\n",
       "        vertical-align: middle;\n",
       "    }\n",
       "\n",
       "    .dataframe tbody tr th {\n",
       "        vertical-align: top;\n",
       "    }\n",
       "\n",
       "    .dataframe thead th {\n",
       "        text-align: right;\n",
       "    }\n",
       "</style>\n",
       "<table border=\"1\" class=\"dataframe\">\n",
       "  <thead>\n",
       "    <tr style=\"text-align: right;\">\n",
       "      <th></th>\n",
       "      <th>SecuCode</th>\n",
       "      <th>date</th>\n",
       "      <th>specret</th>\n",
       "      <th>specret_t+1</th>\n",
       "      <th>specret_t+2</th>\n",
       "      <th>specret_t+3</th>\n",
       "      <th>specret_t+4</th>\n",
       "      <th>specret_t+5</th>\n",
       "      <th>specret_t+6</th>\n",
       "    </tr>\n",
       "  </thead>\n",
       "  <tbody>\n",
       "    <tr>\n",
       "      <th>0</th>\n",
       "      <td>000876</td>\n",
       "      <td>2001-04-16</td>\n",
       "      <td>-0.015848</td>\n",
       "      <td>0.026132</td>\n",
       "      <td>-0.015259</td>\n",
       "      <td>0.004399</td>\n",
       "      <td>-0.025726</td>\n",
       "      <td>-0.012984</td>\n",
       "      <td>-0.011132</td>\n",
       "    </tr>\n",
       "    <tr>\n",
       "      <th>1</th>\n",
       "      <td>000425</td>\n",
       "      <td>2001-04-16</td>\n",
       "      <td>-0.001941</td>\n",
       "      <td>0.036524</td>\n",
       "      <td>0.013614</td>\n",
       "      <td>0.009816</td>\n",
       "      <td>0.029656</td>\n",
       "      <td>0.005790</td>\n",
       "      <td>0.013348</td>\n",
       "    </tr>\n",
       "    <tr>\n",
       "      <th>2</th>\n",
       "      <td>600800</td>\n",
       "      <td>2001-04-16</td>\n",
       "      <td>-0.014478</td>\n",
       "      <td>-0.015178</td>\n",
       "      <td>0.003704</td>\n",
       "      <td>0.013818</td>\n",
       "      <td>0.014727</td>\n",
       "      <td>0.045301</td>\n",
       "      <td>-0.007975</td>\n",
       "    </tr>\n",
       "    <tr>\n",
       "      <th>3</th>\n",
       "      <td>000831</td>\n",
       "      <td>2001-04-16</td>\n",
       "      <td>-0.009161</td>\n",
       "      <td>-0.011471</td>\n",
       "      <td>0.005515</td>\n",
       "      <td>0.009337</td>\n",
       "      <td>-0.005023</td>\n",
       "      <td>0.002681</td>\n",
       "      <td>-0.039401</td>\n",
       "    </tr>\n",
       "    <tr>\n",
       "      <th>4</th>\n",
       "      <td>600694</td>\n",
       "      <td>2001-04-16</td>\n",
       "      <td>0.001786</td>\n",
       "      <td>-0.004309</td>\n",
       "      <td>-0.011374</td>\n",
       "      <td>-0.008585</td>\n",
       "      <td>-0.000338</td>\n",
       "      <td>-0.005862</td>\n",
       "      <td>-0.003602</td>\n",
       "    </tr>\n",
       "  </tbody>\n",
       "</table>\n",
       "</div>"
      ],
      "text/plain": [
       "  SecuCode        date   specret  specret_t+1  specret_t+2  specret_t+3  \\\n",
       "0   000876  2001-04-16 -0.015848     0.026132    -0.015259     0.004399   \n",
       "1   000425  2001-04-16 -0.001941     0.036524     0.013614     0.009816   \n",
       "2   600800  2001-04-16 -0.014478    -0.015178     0.003704     0.013818   \n",
       "3   000831  2001-04-16 -0.009161    -0.011471     0.005515     0.009337   \n",
       "4   600694  2001-04-16  0.001786    -0.004309    -0.011374    -0.008585   \n",
       "\n",
       "   specret_t+4  specret_t+5  specret_t+6  \n",
       "0    -0.025726    -0.012984    -0.011132  \n",
       "1     0.029656     0.005790     0.013348  \n",
       "2     0.014727     0.045301    -0.007975  \n",
       "3    -0.005023     0.002681    -0.039401  \n",
       "4    -0.000338    -0.005862    -0.003602  "
      ]
     },
     "execution_count": 11,
     "metadata": {},
     "output_type": "execute_result"
    }
   ],
   "source": [
    "date_list = list(price_data.date.unique())\n",
    "for dt in range(1,7):\n",
    "    prev_trade_date_dict = dict()\n",
    "    for index in range(1,len(date_list)):\n",
    "        prev_trade_date_dict[date_list[index]] = date_list[index-dt]\n",
    "    price_data_copy = price_data.copy().loc[price_data.date != date_list[0]]\n",
    "    price_data_copy.date = price_data_copy.date.map(lambda x: prev_trade_date_dict[x])\n",
    "    price_data_copy = price_data_copy.rename(columns={'specret':'specret_t+{Dt}'.format(Dt=dt)})\n",
    "    price_data = pd.merge(price_data, price_data_copy[['SecuCode','date','specret_t+{Dt}'.format(Dt=dt)]],\\\n",
    "                          how = 'inner', on = ['SecuCode','date'])\n",
    "price_data.head()"
   ]
  },
  {
   "cell_type": "code",
   "execution_count": 12,
   "id": "067f9643",
   "metadata": {},
   "outputs": [
    {
     "data": {
      "text/html": [
       "<div>\n",
       "<style scoped>\n",
       "    .dataframe tbody tr th:only-of-type {\n",
       "        vertical-align: middle;\n",
       "    }\n",
       "\n",
       "    .dataframe tbody tr th {\n",
       "        vertical-align: top;\n",
       "    }\n",
       "\n",
       "    .dataframe thead th {\n",
       "        text-align: right;\n",
       "    }\n",
       "</style>\n",
       "<table border=\"1\" class=\"dataframe\">\n",
       "  <thead>\n",
       "    <tr style=\"text-align: right;\">\n",
       "      <th></th>\n",
       "      <th>SecuCode</th>\n",
       "      <th>date</th>\n",
       "      <th>specret</th>\n",
       "      <th>specret_2d</th>\n",
       "      <th>specret_tp2-tp6</th>\n",
       "    </tr>\n",
       "  </thead>\n",
       "  <tbody>\n",
       "    <tr>\n",
       "      <th>0</th>\n",
       "      <td>000876</td>\n",
       "      <td>2001-04-16</td>\n",
       "      <td>-0.015848</td>\n",
       "      <td>0.010284</td>\n",
       "      <td>-0.060702</td>\n",
       "    </tr>\n",
       "    <tr>\n",
       "      <th>1</th>\n",
       "      <td>000425</td>\n",
       "      <td>2001-04-16</td>\n",
       "      <td>-0.001941</td>\n",
       "      <td>0.034582</td>\n",
       "      <td>0.072224</td>\n",
       "    </tr>\n",
       "    <tr>\n",
       "      <th>2</th>\n",
       "      <td>600800</td>\n",
       "      <td>2001-04-16</td>\n",
       "      <td>-0.014478</td>\n",
       "      <td>-0.029656</td>\n",
       "      <td>0.069576</td>\n",
       "    </tr>\n",
       "  </tbody>\n",
       "</table>\n",
       "</div>"
      ],
      "text/plain": [
       "  SecuCode        date   specret  specret_2d  specret_tp2-tp6\n",
       "0   000876  2001-04-16 -0.015848    0.010284        -0.060702\n",
       "1   000425  2001-04-16 -0.001941    0.034582         0.072224\n",
       "2   600800  2001-04-16 -0.014478   -0.029656         0.069576"
      ]
     },
     "execution_count": 12,
     "metadata": {},
     "output_type": "execute_result"
    }
   ],
   "source": [
    "price_data['specret_2d'] = price_data['specret'] + price_data['specret_t+1']\n",
    "price_data['specret_tp2-tp6'] = price_data['specret_t+2'] + price_data['specret_t+3'] + price_data['specret_t+4']\\\n",
    "+ price_data['specret_t+5'] + price_data['specret_t+6']\n",
    "price_data = price_data[['SecuCode','date','specret','specret_2d', 'specret_tp2-tp6']]\n",
    "price_data.head(3)"
   ]
  },
  {
   "cell_type": "code",
   "execution_count": 13,
   "id": "3ceb850f",
   "metadata": {},
   "outputs": [],
   "source": [
    "price_data.to_parquet('D:/michael/prepocessed_price_only.parquet.gzip')"
   ]
  },
  {
   "cell_type": "markdown",
   "id": "f6119a57",
   "metadata": {},
   "source": [
    "### Merge Price and Text Data"
   ]
  },
  {
   "cell_type": "code",
   "execution_count": 3,
   "id": "3872c425",
   "metadata": {},
   "outputs": [
    {
     "data": {
      "text/html": [
       "<div>\n",
       "<style scoped>\n",
       "    .dataframe tbody tr th:only-of-type {\n",
       "        vertical-align: middle;\n",
       "    }\n",
       "\n",
       "    .dataframe tbody tr th {\n",
       "        vertical-align: top;\n",
       "    }\n",
       "\n",
       "    .dataframe thead th {\n",
       "        text-align: right;\n",
       "    }\n",
       "</style>\n",
       "<table border=\"1\" class=\"dataframe\">\n",
       "  <thead>\n",
       "    <tr style=\"text-align: right;\">\n",
       "      <th></th>\n",
       "      <th>SecuCode</th>\n",
       "      <th>date</th>\n",
       "      <th>specret</th>\n",
       "      <th>specret_2d</th>\n",
       "      <th>specret_tp2-tp6</th>\n",
       "    </tr>\n",
       "  </thead>\n",
       "  <tbody>\n",
       "    <tr>\n",
       "      <th>0</th>\n",
       "      <td>000876</td>\n",
       "      <td>2001-04-16</td>\n",
       "      <td>-0.015848</td>\n",
       "      <td>0.010284</td>\n",
       "      <td>-0.060702</td>\n",
       "    </tr>\n",
       "    <tr>\n",
       "      <th>1</th>\n",
       "      <td>000425</td>\n",
       "      <td>2001-04-16</td>\n",
       "      <td>-0.001941</td>\n",
       "      <td>0.034582</td>\n",
       "      <td>0.072224</td>\n",
       "    </tr>\n",
       "    <tr>\n",
       "      <th>2</th>\n",
       "      <td>600800</td>\n",
       "      <td>2001-04-16</td>\n",
       "      <td>-0.014478</td>\n",
       "      <td>-0.029656</td>\n",
       "      <td>0.069576</td>\n",
       "    </tr>\n",
       "  </tbody>\n",
       "</table>\n",
       "</div>"
      ],
      "text/plain": [
       "  SecuCode        date   specret  specret_2d  specret_tp2-tp6\n",
       "0   000876  2001-04-16 -0.015848    0.010284        -0.060702\n",
       "1   000425  2001-04-16 -0.001941    0.034582         0.072224\n",
       "2   600800  2001-04-16 -0.014478   -0.029656         0.069576"
      ]
     },
     "execution_count": 3,
     "metadata": {},
     "output_type": "execute_result"
    }
   ],
   "source": [
    "price_data = pd.read_parquet('D:/michael/prepocessed_price_only.parquet.gzip')\n",
    "price_data.head(3)"
   ]
  },
  {
   "cell_type": "code",
   "execution_count": 4,
   "id": "5f2ba3a4",
   "metadata": {},
   "outputs": [
    {
     "data": {
      "text/html": [
       "<div>\n",
       "<style scoped>\n",
       "    .dataframe tbody tr th:only-of-type {\n",
       "        vertical-align: middle;\n",
       "    }\n",
       "\n",
       "    .dataframe tbody tr th {\n",
       "        vertical-align: top;\n",
       "    }\n",
       "\n",
       "    .dataframe thead th {\n",
       "        text-align: right;\n",
       "    }\n",
       "</style>\n",
       "<table border=\"1\" class=\"dataframe\">\n",
       "  <thead>\n",
       "    <tr style=\"text-align: right;\">\n",
       "      <th></th>\n",
       "      <th>SecuCode</th>\n",
       "      <th>date</th>\n",
       "      <th>jieba_content</th>\n",
       "    </tr>\n",
       "    <tr>\n",
       "      <th>ID</th>\n",
       "      <th></th>\n",
       "      <th></th>\n",
       "      <th></th>\n",
       "    </tr>\n",
       "  </thead>\n",
       "  <tbody>\n",
       "    <tr>\n",
       "      <th>181899</th>\n",
       "      <td>600323</td>\n",
       "      <td>2010-01-04</td>\n",
       "      <td>[南海发展nt, 水价n, 如期t, 上调v, 增厚v, 业绩n, 约d, 事项n, 公司n...</td>\n",
       "    </tr>\n",
       "    <tr>\n",
       "      <th>181900</th>\n",
       "      <td>002024</td>\n",
       "      <td>2010-01-04</td>\n",
       "      <td>[苏宁ns, 电器n, 内外s, 兼修v, 进入v, 新一轮nz, 增长期n, 投资vn, ...</td>\n",
       "    </tr>\n",
       "    <tr>\n",
       "      <th>181901</th>\n",
       "      <td>002092</td>\n",
       "      <td>2010-01-04</td>\n",
       "      <td>[泰ns, 化学n, 发布v, 准东ns, 井田nr, 勘探vn, 报告n, 煤炭n, 开发...</td>\n",
       "    </tr>\n",
       "  </tbody>\n",
       "</table>\n",
       "</div>"
      ],
      "text/plain": [
       "       SecuCode       date                                      jieba_content\n",
       "ID                                                                           \n",
       "181899   600323 2010-01-04  [南海发展nt, 水价n, 如期t, 上调v, 增厚v, 业绩n, 约d, 事项n, 公司n...\n",
       "181900   002024 2010-01-04  [苏宁ns, 电器n, 内外s, 兼修v, 进入v, 新一轮nz, 增长期n, 投资vn, ...\n",
       "181901   002092 2010-01-04  [泰ns, 化学n, 发布v, 准东ns, 井田nr, 勘探vn, 报告n, 煤炭n, 开发..."
      ]
     },
     "execution_count": 4,
     "metadata": {},
     "output_type": "execute_result"
    }
   ],
   "source": [
    "text_data = pd.read_parquet('D:/michael/prepocessed_text_only_blend.parquet.gzip')\n",
    "text_data.head(3)"
   ]
  },
  {
   "cell_type": "code",
   "execution_count": 5,
   "id": "84898a83",
   "metadata": {},
   "outputs": [],
   "source": [
    "text_data.date = text_data.date.map(lambda x: x.strftime('%Y-%m-%d'))\n",
    "text_data['ID'] = text_data.index"
   ]
  },
  {
   "cell_type": "code",
   "execution_count": 6,
   "id": "9e35c71b",
   "metadata": {},
   "outputs": [
    {
     "data": {
      "text/plain": [
       "(597040, 4)"
      ]
     },
     "execution_count": 6,
     "metadata": {},
     "output_type": "execute_result"
    }
   ],
   "source": [
    "text_data.shape"
   ]
  },
  {
   "cell_type": "code",
   "execution_count": 7,
   "id": "e8902f78",
   "metadata": {},
   "outputs": [],
   "source": [
    "merged_data = pd.merge(text_data, price_data, how='inner', on=['SecuCode','date'])"
   ]
  },
  {
   "cell_type": "code",
   "execution_count": 8,
   "id": "57e5a2d3",
   "metadata": {},
   "outputs": [
    {
     "data": {
      "text/plain": [
       "(472693, 7)"
      ]
     },
     "execution_count": 8,
     "metadata": {},
     "output_type": "execute_result"
    }
   ],
   "source": [
    "merged_data.shape"
   ]
  },
  {
   "cell_type": "code",
   "execution_count": 10,
   "id": "95857f60",
   "metadata": {},
   "outputs": [],
   "source": [
    "merged_data = merged_data[['ID','SecuCode','date','specret','specret_2d','specret_tp2-tp6','jieba_content']]"
   ]
  },
  {
   "cell_type": "code",
   "execution_count": 11,
   "id": "09a0cfed",
   "metadata": {},
   "outputs": [
    {
     "data": {
      "text/html": [
       "<div>\n",
       "<style scoped>\n",
       "    .dataframe tbody tr th:only-of-type {\n",
       "        vertical-align: middle;\n",
       "    }\n",
       "\n",
       "    .dataframe tbody tr th {\n",
       "        vertical-align: top;\n",
       "    }\n",
       "\n",
       "    .dataframe thead th {\n",
       "        text-align: right;\n",
       "    }\n",
       "</style>\n",
       "<table border=\"1\" class=\"dataframe\">\n",
       "  <thead>\n",
       "    <tr style=\"text-align: right;\">\n",
       "      <th></th>\n",
       "      <th>ID</th>\n",
       "      <th>SecuCode</th>\n",
       "      <th>date</th>\n",
       "      <th>specret</th>\n",
       "      <th>specret_2d</th>\n",
       "      <th>specret_tp2-tp6</th>\n",
       "      <th>jieba_content</th>\n",
       "    </tr>\n",
       "  </thead>\n",
       "  <tbody>\n",
       "    <tr>\n",
       "      <th>0</th>\n",
       "      <td>181899</td>\n",
       "      <td>600323</td>\n",
       "      <td>2010-01-04</td>\n",
       "      <td>0.006658</td>\n",
       "      <td>-0.001522</td>\n",
       "      <td>-0.030300</td>\n",
       "      <td>[南海发展nt, 水价n, 如期t, 上调v, 增厚v, 业绩n, 约d, 事项n, 公司n...</td>\n",
       "    </tr>\n",
       "    <tr>\n",
       "      <th>1</th>\n",
       "      <td>181900</td>\n",
       "      <td>002024</td>\n",
       "      <td>2010-01-04</td>\n",
       "      <td>-0.004292</td>\n",
       "      <td>-0.022783</td>\n",
       "      <td>-0.047744</td>\n",
       "      <td>[苏宁ns, 电器n, 内外s, 兼修v, 进入v, 新一轮nz, 增长期n, 投资vn, ...</td>\n",
       "    </tr>\n",
       "    <tr>\n",
       "      <th>2</th>\n",
       "      <td>181901</td>\n",
       "      <td>002092</td>\n",
       "      <td>2010-01-04</td>\n",
       "      <td>0.030815</td>\n",
       "      <td>0.018962</td>\n",
       "      <td>0.055390</td>\n",
       "      <td>[泰ns, 化学n, 发布v, 准东ns, 井田nr, 勘探vn, 报告n, 煤炭n, 开发...</td>\n",
       "    </tr>\n",
       "    <tr>\n",
       "      <th>3</th>\n",
       "      <td>181939</td>\n",
       "      <td>002092</td>\n",
       "      <td>2010-01-04</td>\n",
       "      <td>0.030815</td>\n",
       "      <td>0.018962</td>\n",
       "      <td>0.055390</td>\n",
       "      <td>[泰ns, 化学n, 打造v, 新疆ns, 资源n, 平台n, 公司n, 煤矿n, 开发v,...</td>\n",
       "    </tr>\n",
       "    <tr>\n",
       "      <th>4</th>\n",
       "      <td>181902</td>\n",
       "      <td>000568</td>\n",
       "      <td>2010-01-04</td>\n",
       "      <td>-0.033701</td>\n",
       "      <td>-0.045938</td>\n",
       "      <td>-0.036113</td>\n",
       "      <td>[泸州ns, 老窖n, 公司n, 长期d, 竞争力n, 值得v, 期待v, 白酒n, 行业n...</td>\n",
       "    </tr>\n",
       "  </tbody>\n",
       "</table>\n",
       "</div>"
      ],
      "text/plain": [
       "       ID SecuCode        date   specret  specret_2d  specret_tp2-tp6  \\\n",
       "0  181899   600323  2010-01-04  0.006658   -0.001522        -0.030300   \n",
       "1  181900   002024  2010-01-04 -0.004292   -0.022783        -0.047744   \n",
       "2  181901   002092  2010-01-04  0.030815    0.018962         0.055390   \n",
       "3  181939   002092  2010-01-04  0.030815    0.018962         0.055390   \n",
       "4  181902   000568  2010-01-04 -0.033701   -0.045938        -0.036113   \n",
       "\n",
       "                                       jieba_content  \n",
       "0  [南海发展nt, 水价n, 如期t, 上调v, 增厚v, 业绩n, 约d, 事项n, 公司n...  \n",
       "1  [苏宁ns, 电器n, 内外s, 兼修v, 进入v, 新一轮nz, 增长期n, 投资vn, ...  \n",
       "2  [泰ns, 化学n, 发布v, 准东ns, 井田nr, 勘探vn, 报告n, 煤炭n, 开发...  \n",
       "3  [泰ns, 化学n, 打造v, 新疆ns, 资源n, 平台n, 公司n, 煤矿n, 开发v,...  \n",
       "4  [泸州ns, 老窖n, 公司n, 长期d, 竞争力n, 值得v, 期待v, 白酒n, 行业n...  "
      ]
     },
     "execution_count": 11,
     "metadata": {},
     "output_type": "execute_result"
    }
   ],
   "source": [
    "merged_data.head()"
   ]
  },
  {
   "cell_type": "code",
   "execution_count": 13,
   "id": "e98ce4c5",
   "metadata": {},
   "outputs": [],
   "source": [
    "merged_data.to_parquet('D:/michael/full_version_data/preprocessed_data_1.parquet.gzip')"
   ]
  },
  {
   "cell_type": "code",
   "execution_count": null,
   "id": "8f1ca8e8",
   "metadata": {},
   "outputs": [],
   "source": []
  }
 ],
 "metadata": {
  "kernelspec": {
   "display_name": "Python 3",
   "language": "python",
   "name": "python3"
  },
  "language_info": {
   "codemirror_mode": {
    "name": "ipython",
    "version": 3
   },
   "file_extension": ".py",
   "mimetype": "text/x-python",
   "name": "python",
   "nbconvert_exporter": "python",
   "pygments_lexer": "ipython3",
   "version": "3.7.9"
  }
 },
 "nbformat": 4,
 "nbformat_minor": 5
}
