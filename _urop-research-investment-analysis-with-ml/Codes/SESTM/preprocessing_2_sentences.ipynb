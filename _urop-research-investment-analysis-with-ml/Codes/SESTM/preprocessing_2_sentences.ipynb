{
 "cells": [
  {
   "cell_type": "markdown",
   "id": "89f0a31e",
   "metadata": {},
   "source": [
    "# Preprocessing 2\n",
    "Investment Analysis with Machine Learning\\\n",
    "UROP 1100E (Man Yin Michael YEUNG, 2021 Fall)"
   ]
  },
  {
   "cell_type": "code",
   "execution_count": 2,
   "id": "b2f1659b",
   "metadata": {},
   "outputs": [],
   "source": [
    "import pandas as pd\n",
    "import datetime as dt\n",
    "import numpy as np\n",
    "import jieba\n",
    "import jieba.posseg as pseg\n",
    "import paddle\n",
    "import string\n",
    "import re\n",
    "from multiprocessing import Pool\n",
    "from stopwordsiso import stopwords\n",
    "import warnings\n",
    "from collections import Counter\n",
    "warnings.filterwarnings(\"ignore\")\n",
    "from IPython.display import clear_output"
   ]
  },
  {
   "cell_type": "markdown",
   "id": "2655564c",
   "metadata": {},
   "source": [
    "### Read Text Data"
   ]
  },
  {
   "cell_type": "code",
   "execution_count": 3,
   "id": "dbf60510",
   "metadata": {},
   "outputs": [
    {
     "data": {
      "text/plain": [
       "(1693001, 11)"
      ]
     },
     "execution_count": 3,
     "metadata": {},
     "output_type": "execute_result"
    }
   ],
   "source": [
    "text_data = pd.read_parquet('D:/tsclientdata/anatxt.parquet.gzip')\n",
    "text_data.shape"
   ]
  },
  {
   "cell_type": "code",
   "execution_count": 4,
   "id": "c45b9ee4",
   "metadata": {},
   "outputs": [
    {
     "data": {
      "text/plain": [
       "(598664, 10)"
      ]
     },
     "execution_count": 4,
     "metadata": {},
     "output_type": "execute_result"
    }
   ],
   "source": [
    "text_data = text_data.drop(columns=['FYEAR']).drop_duplicates()\n",
    "text_data.shape"
   ]
  },
  {
   "cell_type": "markdown",
   "id": "99ae38d2",
   "metadata": {},
   "source": [
    "NOTE: ADD FULL STOP TO TITLE (FOR SENTENCE SPLIT)"
   ]
  },
  {
   "cell_type": "code",
   "execution_count": 5,
   "id": "3cd5658b",
   "metadata": {},
   "outputs": [
    {
     "data": {
      "text/html": [
       "<div>\n",
       "<style scoped>\n",
       "    .dataframe tbody tr th:only-of-type {\n",
       "        vertical-align: middle;\n",
       "    }\n",
       "\n",
       "    .dataframe tbody tr th {\n",
       "        vertical-align: top;\n",
       "    }\n",
       "\n",
       "    .dataframe thead th {\n",
       "        text-align: right;\n",
       "    }\n",
       "</style>\n",
       "<table border=\"1\" class=\"dataframe\">\n",
       "  <thead>\n",
       "    <tr style=\"text-align: right;\">\n",
       "      <th></th>\n",
       "      <th>SecuCode</th>\n",
       "      <th>date</th>\n",
       "      <th>content</th>\n",
       "    </tr>\n",
       "    <tr>\n",
       "      <th>ID</th>\n",
       "      <th></th>\n",
       "      <th></th>\n",
       "      <th></th>\n",
       "    </tr>\n",
       "  </thead>\n",
       "  <tbody>\n",
       "    <tr>\n",
       "      <th>166048</th>\n",
       "      <td>600150</td>\n",
       "      <td>2009-10-28</td>\n",
       "      <td>中国船舶：三季度业绩符合预期。     09 年三季度业绩符合预期：\\r\\n\\r\\n    ...</td>\n",
       "    </tr>\n",
       "    <tr>\n",
       "      <th>166049</th>\n",
       "      <td>600426</td>\n",
       "      <td>2009-10-28</td>\n",
       "      <td>华鲁恒升：成本优势体现，三季度业绩符合预期。     三季度业绩符合预期：\\r\\n\\r\\n ...</td>\n",
       "    </tr>\n",
       "    <tr>\n",
       "      <th>167170</th>\n",
       "      <td>600887</td>\n",
       "      <td>2009-10-30</td>\n",
       "      <td>*ST伊利：毛利率提升推动业绩增长。      2009年1-9月，公司实现营业收入192....</td>\n",
       "    </tr>\n",
       "  </tbody>\n",
       "</table>\n",
       "</div>"
      ],
      "text/plain": [
       "       SecuCode       date                                            content\n",
       "ID                                                                           \n",
       "166048   600150 2009-10-28  中国船舶：三季度业绩符合预期。     09 年三季度业绩符合预期：\\r\\n\\r\\n    ...\n",
       "166049   600426 2009-10-28  华鲁恒升：成本优势体现，三季度业绩符合预期。     三季度业绩符合预期：\\r\\n\\r\\n ...\n",
       "167170   600887 2009-10-30  *ST伊利：毛利率提升推动业绩增长。      2009年1-9月，公司实现营业收入192...."
      ]
     },
     "execution_count": 5,
     "metadata": {},
     "output_type": "execute_result"
    }
   ],
   "source": [
    "text_data.index = text_data.ID; text_data = text_data.drop(columns=['ID']).loc[text_data.content.notna()]\n",
    "text_data['TITLE'] = text_data['TITLE'].map(lambda x: str(x)+'。')\n",
    "text_data.content = text_data['TITLE'] + text_data.content\n",
    "text_data = text_data.drop(columns=['TITLE'])[['SecuCode','create_date','content']].rename(columns={'create_date':'date'})\n",
    "text_data.head(3)"
   ]
  },
  {
   "cell_type": "markdown",
   "id": "a7ee7b03",
   "metadata": {},
   "source": [
    "### Jieba"
   ]
  },
  {
   "cell_type": "code",
   "execution_count": 6,
   "id": "86ed5034",
   "metadata": {},
   "outputs": [],
   "source": [
    "text_data.content = text_data.content.map(lambda x: re.split(\"！|？|｡|。|，|,|；|\\r|\\n|\\t\",x))"
   ]
  },
  {
   "cell_type": "code",
   "execution_count": 7,
   "id": "6db865dd",
   "metadata": {},
   "outputs": [],
   "source": [
    "chinese_punct = \"！？｡。＂＃＄％＆＇（）＊＋，－／：；＜＝＞＠［＼］＾＿｀｛｜｝～｟｠｢｣､、〃》「」『』【】〔〕〖〗〘〙〚〛〜〝〞〟〰〾〿–—‘’‛“”„‟…‧﹏.． \\r\\n\\t\"\n",
    "numbers = \"1234567890\"\n",
    "def cut_list(list_1):\n",
    "    ret = []\n",
    "    for sentence in list_1:\n",
    "        sentence = ''.join(c for c in sentence if c not in string.punctuation + numbers + chinese_punct + \" \")\n",
    "        sentence = list(jieba.cut(sentence, cut_all=False))\n",
    "        if sentence != []:\n",
    "            ret.append(sentence)\n",
    "    return ret"
   ]
  },
  {
   "cell_type": "code",
   "execution_count": 8,
   "id": "6906521e",
   "metadata": {},
   "outputs": [
    {
     "name": "stderr",
     "output_type": "stream",
     "text": [
      "Building prefix dict from the default dictionary ...\n",
      "Loading model from cache C:\\Users\\michael\\AppData\\Local\\Temp\\jieba.cache\n",
      "Loading model cost 1.501 seconds.\n",
      "Prefix dict has been built successfully.\n"
     ]
    },
    {
     "data": {
      "text/html": [
       "<div>\n",
       "<style scoped>\n",
       "    .dataframe tbody tr th:only-of-type {\n",
       "        vertical-align: middle;\n",
       "    }\n",
       "\n",
       "    .dataframe tbody tr th {\n",
       "        vertical-align: top;\n",
       "    }\n",
       "\n",
       "    .dataframe thead th {\n",
       "        text-align: right;\n",
       "    }\n",
       "</style>\n",
       "<table border=\"1\" class=\"dataframe\">\n",
       "  <thead>\n",
       "    <tr style=\"text-align: right;\">\n",
       "      <th></th>\n",
       "      <th>SecuCode</th>\n",
       "      <th>date</th>\n",
       "      <th>content</th>\n",
       "      <th>jieba_content</th>\n",
       "    </tr>\n",
       "    <tr>\n",
       "      <th>ID</th>\n",
       "      <th></th>\n",
       "      <th></th>\n",
       "      <th></th>\n",
       "      <th></th>\n",
       "    </tr>\n",
       "  </thead>\n",
       "  <tbody>\n",
       "    <tr>\n",
       "      <th>166048</th>\n",
       "      <td>600150</td>\n",
       "      <td>2009-10-28</td>\n",
       "      <td>[中国船舶：三季度业绩符合预期,      09 年三季度业绩符合预期：, , , ,   ...</td>\n",
       "      <td>[[中国, 船舶, 三季度, 业绩, 符合, 预期], [年, 三季度, 业绩, 符合, 预...</td>\n",
       "    </tr>\n",
       "    <tr>\n",
       "      <th>166049</th>\n",
       "      <td>600426</td>\n",
       "      <td>2009-10-28</td>\n",
       "      <td>[华鲁恒升：成本优势体现, 三季度业绩符合预期,      三季度业绩符合预期：, , , ...</td>\n",
       "      <td>[[华鲁, 恒升, 成本, 优势, 体现], [三季度, 业绩, 符合, 预期], [三季度...</td>\n",
       "    </tr>\n",
       "    <tr>\n",
       "      <th>167170</th>\n",
       "      <td>600887</td>\n",
       "      <td>2009-10-30</td>\n",
       "      <td>[*ST伊利：毛利率提升推动业绩增长,       2009年1-9月, 公司实现营业收入1...</td>\n",
       "      <td>[[ST, 伊利, 毛利率, 提升, 推动, 业绩, 增长], [年, 月], [公司, 实...</td>\n",
       "    </tr>\n",
       "  </tbody>\n",
       "</table>\n",
       "</div>"
      ],
      "text/plain": [
       "       SecuCode       date                                            content  \\\n",
       "ID                                                                              \n",
       "166048   600150 2009-10-28  [中国船舶：三季度业绩符合预期,      09 年三季度业绩符合预期：, , , ,   ...   \n",
       "166049   600426 2009-10-28  [华鲁恒升：成本优势体现, 三季度业绩符合预期,      三季度业绩符合预期：, , , ...   \n",
       "167170   600887 2009-10-30  [*ST伊利：毛利率提升推动业绩增长,       2009年1-9月, 公司实现营业收入1...   \n",
       "\n",
       "                                            jieba_content  \n",
       "ID                                                         \n",
       "166048  [[中国, 船舶, 三季度, 业绩, 符合, 预期], [年, 三季度, 业绩, 符合, 预...  \n",
       "166049  [[华鲁, 恒升, 成本, 优势, 体现], [三季度, 业绩, 符合, 预期], [三季度...  \n",
       "167170  [[ST, 伊利, 毛利率, 提升, 推动, 业绩, 增长], [年, 月], [公司, 实...  "
      ]
     },
     "execution_count": 8,
     "metadata": {},
     "output_type": "execute_result"
    }
   ],
   "source": [
    "text_data['jieba_content'] = text_data.content.map(cut_list)\n",
    "text_data.to_parquet('D:/michael/dictionary_based/text_jieba_sentences.parquet.gzip')\n",
    "text_data.head(3)"
   ]
  },
  {
   "cell_type": "markdown",
   "id": "652cdb74",
   "metadata": {},
   "source": [
    "### Merge Data Again"
   ]
  },
  {
   "cell_type": "code",
   "execution_count": 17,
   "id": "f64182ad",
   "metadata": {},
   "outputs": [
    {
     "data": {
      "text/html": [
       "<div>\n",
       "<style scoped>\n",
       "    .dataframe tbody tr th:only-of-type {\n",
       "        vertical-align: middle;\n",
       "    }\n",
       "\n",
       "    .dataframe tbody tr th {\n",
       "        vertical-align: top;\n",
       "    }\n",
       "\n",
       "    .dataframe thead th {\n",
       "        text-align: right;\n",
       "    }\n",
       "</style>\n",
       "<table border=\"1\" class=\"dataframe\">\n",
       "  <thead>\n",
       "    <tr style=\"text-align: right;\">\n",
       "      <th></th>\n",
       "      <th>ID</th>\n",
       "      <th>SecuCode</th>\n",
       "      <th>date</th>\n",
       "      <th>content</th>\n",
       "      <th>jieba_content</th>\n",
       "    </tr>\n",
       "  </thead>\n",
       "  <tbody>\n",
       "    <tr>\n",
       "      <th>0</th>\n",
       "      <td>166048</td>\n",
       "      <td>600150</td>\n",
       "      <td>2009-10-28</td>\n",
       "      <td>[中国船舶：三季度业绩符合预期,      09 年三季度业绩符合预期：, , , ,   ...</td>\n",
       "      <td>[[中国, 船舶, 三季度, 业绩, 符合, 预期], [年, 三季度, 业绩, 符合, 预...</td>\n",
       "    </tr>\n",
       "    <tr>\n",
       "      <th>1</th>\n",
       "      <td>166049</td>\n",
       "      <td>600426</td>\n",
       "      <td>2009-10-28</td>\n",
       "      <td>[华鲁恒升：成本优势体现, 三季度业绩符合预期,      三季度业绩符合预期：, , , ...</td>\n",
       "      <td>[[华鲁, 恒升, 成本, 优势, 体现], [三季度, 业绩, 符合, 预期], [三季度...</td>\n",
       "    </tr>\n",
       "    <tr>\n",
       "      <th>2</th>\n",
       "      <td>167170</td>\n",
       "      <td>600887</td>\n",
       "      <td>2009-10-30</td>\n",
       "      <td>[*ST伊利：毛利率提升推动业绩增长,       2009年1-9月, 公司实现营业收入1...</td>\n",
       "      <td>[[ST, 伊利, 毛利率, 提升, 推动, 业绩, 增长], [年, 月], [公司, 实...</td>\n",
       "    </tr>\n",
       "  </tbody>\n",
       "</table>\n",
       "</div>"
      ],
      "text/plain": [
       "       ID SecuCode       date  \\\n",
       "0  166048   600150 2009-10-28   \n",
       "1  166049   600426 2009-10-28   \n",
       "2  167170   600887 2009-10-30   \n",
       "\n",
       "                                             content  \\\n",
       "0  [中国船舶：三季度业绩符合预期,      09 年三季度业绩符合预期：, , , ,   ...   \n",
       "1  [华鲁恒升：成本优势体现, 三季度业绩符合预期,      三季度业绩符合预期：, , , ...   \n",
       "2  [*ST伊利：毛利率提升推动业绩增长,       2009年1-9月, 公司实现营业收入1...   \n",
       "\n",
       "                                       jieba_content  \n",
       "0  [[中国, 船舶, 三季度, 业绩, 符合, 预期], [年, 三季度, 业绩, 符合, 预...  \n",
       "1  [[华鲁, 恒升, 成本, 优势, 体现], [三季度, 业绩, 符合, 预期], [三季度...  \n",
       "2  [[ST, 伊利, 毛利率, 提升, 推动, 业绩, 增长], [年, 月], [公司, 实...  "
      ]
     },
     "execution_count": 17,
     "metadata": {},
     "output_type": "execute_result"
    }
   ],
   "source": [
    "data_2 = pd.read_parquet('D:/michael/dictionary_based/text_jieba_sentences.parquet.gzip')\n",
    "data_2 = data_2.reset_index()\n",
    "data_2.head(3)"
   ]
  },
  {
   "cell_type": "code",
   "execution_count": 5,
   "id": "758a09b5",
   "metadata": {},
   "outputs": [
    {
     "data": {
      "text/html": [
       "<div>\n",
       "<style scoped>\n",
       "    .dataframe tbody tr th:only-of-type {\n",
       "        vertical-align: middle;\n",
       "    }\n",
       "\n",
       "    .dataframe tbody tr th {\n",
       "        vertical-align: top;\n",
       "    }\n",
       "\n",
       "    .dataframe thead th {\n",
       "        text-align: right;\n",
       "    }\n",
       "</style>\n",
       "<table border=\"1\" class=\"dataframe\">\n",
       "  <thead>\n",
       "    <tr style=\"text-align: right;\">\n",
       "      <th></th>\n",
       "      <th>ID</th>\n",
       "      <th>SecuCode</th>\n",
       "      <th>date</th>\n",
       "      <th>specret</th>\n",
       "      <th>specret_2d</th>\n",
       "      <th>specret_tp2-tp6</th>\n",
       "      <th>jieba_content</th>\n",
       "    </tr>\n",
       "  </thead>\n",
       "  <tbody>\n",
       "    <tr>\n",
       "      <th>0</th>\n",
       "      <td>181899</td>\n",
       "      <td>600323</td>\n",
       "      <td>2010-01-04</td>\n",
       "      <td>0.006658</td>\n",
       "      <td>-0.001522</td>\n",
       "      <td>-0.030300</td>\n",
       "      <td>[南海发展nt, 水价n, 如期t, 上调v, 增厚v, 业绩n, 约d, 事项n, 公司n...</td>\n",
       "    </tr>\n",
       "    <tr>\n",
       "      <th>1</th>\n",
       "      <td>181900</td>\n",
       "      <td>002024</td>\n",
       "      <td>2010-01-04</td>\n",
       "      <td>-0.004292</td>\n",
       "      <td>-0.022783</td>\n",
       "      <td>-0.047744</td>\n",
       "      <td>[苏宁ns, 电器n, 内外s, 兼修v, 进入v, 新一轮nz, 增长期n, 投资vn, ...</td>\n",
       "    </tr>\n",
       "    <tr>\n",
       "      <th>2</th>\n",
       "      <td>181901</td>\n",
       "      <td>002092</td>\n",
       "      <td>2010-01-04</td>\n",
       "      <td>0.030815</td>\n",
       "      <td>0.018962</td>\n",
       "      <td>0.055390</td>\n",
       "      <td>[泰ns, 化学n, 发布v, 准东ns, 井田nr, 勘探vn, 报告n, 煤炭n, 开发...</td>\n",
       "    </tr>\n",
       "  </tbody>\n",
       "</table>\n",
       "</div>"
      ],
      "text/plain": [
       "       ID SecuCode        date   specret  specret_2d  specret_tp2-tp6  \\\n",
       "0  181899   600323  2010-01-04  0.006658   -0.001522        -0.030300   \n",
       "1  181900   002024  2010-01-04 -0.004292   -0.022783        -0.047744   \n",
       "2  181901   002092  2010-01-04  0.030815    0.018962         0.055390   \n",
       "\n",
       "                                       jieba_content  \n",
       "0  [南海发展nt, 水价n, 如期t, 上调v, 增厚v, 业绩n, 约d, 事项n, 公司n...  \n",
       "1  [苏宁ns, 电器n, 内外s, 兼修v, 进入v, 新一轮nz, 增长期n, 投资vn, ...  \n",
       "2  [泰ns, 化学n, 发布v, 准东ns, 井田nr, 勘探vn, 报告n, 煤炭n, 开发...  "
      ]
     },
     "execution_count": 5,
     "metadata": {},
     "output_type": "execute_result"
    }
   ],
   "source": [
    "data_1 = pd.read_parquet('D:/michael/full_version_data/preprocessed_data_1.parquet.gzip')\n",
    "data_1.head(3)"
   ]
  },
  {
   "cell_type": "code",
   "execution_count": 34,
   "id": "8344b2cd",
   "metadata": {},
   "outputs": [],
   "source": [
    "data_1.date = data_1.date.map(lambda x: dt.datetime.strptime(x,'%Y-%m-%d'))"
   ]
  },
  {
   "cell_type": "code",
   "execution_count": 18,
   "id": "2944831e",
   "metadata": {},
   "outputs": [],
   "source": [
    "data_2 = data_2.rename(columns={'jieba_content':'jieba_sentence'})"
   ]
  },
  {
   "cell_type": "code",
   "execution_count": 44,
   "id": "f6910efd",
   "metadata": {},
   "outputs": [
    {
     "data": {
      "text/html": [
       "<div>\n",
       "<style scoped>\n",
       "    .dataframe tbody tr th:only-of-type {\n",
       "        vertical-align: middle;\n",
       "    }\n",
       "\n",
       "    .dataframe tbody tr th {\n",
       "        vertical-align: top;\n",
       "    }\n",
       "\n",
       "    .dataframe thead th {\n",
       "        text-align: right;\n",
       "    }\n",
       "</style>\n",
       "<table border=\"1\" class=\"dataframe\">\n",
       "  <thead>\n",
       "    <tr style=\"text-align: right;\">\n",
       "      <th></th>\n",
       "      <th>ID</th>\n",
       "      <th>SecuCode</th>\n",
       "      <th>date</th>\n",
       "      <th>specret</th>\n",
       "      <th>specret_2d</th>\n",
       "      <th>specret_tp2-tp6</th>\n",
       "      <th>jieba_content</th>\n",
       "      <th>content</th>\n",
       "      <th>jieba_sentence</th>\n",
       "    </tr>\n",
       "  </thead>\n",
       "  <tbody>\n",
       "    <tr>\n",
       "      <th>0</th>\n",
       "      <td>181899</td>\n",
       "      <td>600323</td>\n",
       "      <td>2010-01-04</td>\n",
       "      <td>0.006658</td>\n",
       "      <td>-0.001522</td>\n",
       "      <td>-0.030300</td>\n",
       "      <td>[南海发展nt, 水价n, 如期t, 上调v, 增厚v, 业绩n, 约d, 事项n, 公司n...</td>\n",
       "      <td>[南海发展：水价如期上调, 增厚业绩约10％,       事项：, , , ,     公...</td>\n",
       "      <td>[[南海发展, 水价, 如期, 上调], [增厚, 业绩, 约], [事项], [公司, 今...</td>\n",
       "    </tr>\n",
       "    <tr>\n",
       "      <th>1</th>\n",
       "      <td>181900</td>\n",
       "      <td>002024</td>\n",
       "      <td>2010-01-04</td>\n",
       "      <td>-0.004292</td>\n",
       "      <td>-0.022783</td>\n",
       "      <td>-0.047744</td>\n",
       "      <td>[苏宁ns, 电器n, 内外s, 兼修v, 进入v, 新一轮nz, 增长期n, 投资vn, ...</td>\n",
       "      <td>[苏宁电器：“内外兼修”进入新一轮增长期,       投资要点, , , ,     行业...</td>\n",
       "      <td>[[苏宁, 电器, 内外, 兼修, 进入, 新一轮, 增长期], [投资, 要点], [行业...</td>\n",
       "    </tr>\n",
       "    <tr>\n",
       "      <th>2</th>\n",
       "      <td>181901</td>\n",
       "      <td>002092</td>\n",
       "      <td>2010-01-04</td>\n",
       "      <td>0.030815</td>\n",
       "      <td>0.018962</td>\n",
       "      <td>0.055390</td>\n",
       "      <td>[泰ns, 化学n, 发布v, 准东ns, 井田nr, 勘探vn, 报告n, 煤炭n, 开发...</td>\n",
       "      <td>[中泰化学：发布准东一井田勘探报告, 煤炭开发再推进一步,       事件描述：, , ,...</td>\n",
       "      <td>[[中, 泰, 化学, 发布, 准东, 一, 井田, 勘探, 报告], [煤炭, 开发, 再...</td>\n",
       "    </tr>\n",
       "  </tbody>\n",
       "</table>\n",
       "</div>"
      ],
      "text/plain": [
       "       ID SecuCode       date   specret  specret_2d  specret_tp2-tp6  \\\n",
       "0  181899   600323 2010-01-04  0.006658   -0.001522        -0.030300   \n",
       "1  181900   002024 2010-01-04 -0.004292   -0.022783        -0.047744   \n",
       "2  181901   002092 2010-01-04  0.030815    0.018962         0.055390   \n",
       "\n",
       "                                       jieba_content  \\\n",
       "0  [南海发展nt, 水价n, 如期t, 上调v, 增厚v, 业绩n, 约d, 事项n, 公司n...   \n",
       "1  [苏宁ns, 电器n, 内外s, 兼修v, 进入v, 新一轮nz, 增长期n, 投资vn, ...   \n",
       "2  [泰ns, 化学n, 发布v, 准东ns, 井田nr, 勘探vn, 报告n, 煤炭n, 开发...   \n",
       "\n",
       "                                             content  \\\n",
       "0  [南海发展：水价如期上调, 增厚业绩约10％,       事项：, , , ,     公...   \n",
       "1  [苏宁电器：“内外兼修”进入新一轮增长期,       投资要点, , , ,     行业...   \n",
       "2  [中泰化学：发布准东一井田勘探报告, 煤炭开发再推进一步,       事件描述：, , ,...   \n",
       "\n",
       "                                      jieba_sentence  \n",
       "0  [[南海发展, 水价, 如期, 上调], [增厚, 业绩, 约], [事项], [公司, 今...  \n",
       "1  [[苏宁, 电器, 内外, 兼修, 进入, 新一轮, 增长期], [投资, 要点], [行业...  \n",
       "2  [[中, 泰, 化学, 发布, 准东, 一, 井田, 勘探, 报告], [煤炭, 开发, 再...  "
      ]
     },
     "execution_count": 44,
     "metadata": {},
     "output_type": "execute_result"
    }
   ],
   "source": [
    "merged_data = pd.merge(data_1,data_2,how='inner',on=['ID','SecuCode','date'])\n",
    "merged_data.head(3)"
   ]
  },
  {
   "cell_type": "code",
   "execution_count": 45,
   "id": "dc40544e",
   "metadata": {},
   "outputs": [
    {
     "data": {
      "text/html": [
       "<div>\n",
       "<style scoped>\n",
       "    .dataframe tbody tr th:only-of-type {\n",
       "        vertical-align: middle;\n",
       "    }\n",
       "\n",
       "    .dataframe tbody tr th {\n",
       "        vertical-align: top;\n",
       "    }\n",
       "\n",
       "    .dataframe thead th {\n",
       "        text-align: right;\n",
       "    }\n",
       "</style>\n",
       "<table border=\"1\" class=\"dataframe\">\n",
       "  <thead>\n",
       "    <tr style=\"text-align: right;\">\n",
       "      <th></th>\n",
       "      <th>ID</th>\n",
       "      <th>SecuCode</th>\n",
       "      <th>date</th>\n",
       "      <th>specret</th>\n",
       "      <th>specret_2d</th>\n",
       "      <th>specret_tp2-tp6</th>\n",
       "      <th>jieba_content</th>\n",
       "      <th>jieba_sentence</th>\n",
       "    </tr>\n",
       "  </thead>\n",
       "  <tbody>\n",
       "    <tr>\n",
       "      <th>0</th>\n",
       "      <td>181899</td>\n",
       "      <td>600323</td>\n",
       "      <td>2010-01-04</td>\n",
       "      <td>0.006658</td>\n",
       "      <td>-0.001522</td>\n",
       "      <td>-0.030300</td>\n",
       "      <td>[南海发展nt, 水价n, 如期t, 上调v, 增厚v, 业绩n, 约d, 事项n, 公司n...</td>\n",
       "      <td>[[南海发展, 水价, 如期, 上调], [增厚, 业绩, 约], [事项], [公司, 今...</td>\n",
       "    </tr>\n",
       "    <tr>\n",
       "      <th>1</th>\n",
       "      <td>181900</td>\n",
       "      <td>002024</td>\n",
       "      <td>2010-01-04</td>\n",
       "      <td>-0.004292</td>\n",
       "      <td>-0.022783</td>\n",
       "      <td>-0.047744</td>\n",
       "      <td>[苏宁ns, 电器n, 内外s, 兼修v, 进入v, 新一轮nz, 增长期n, 投资vn, ...</td>\n",
       "      <td>[[苏宁, 电器, 内外, 兼修, 进入, 新一轮, 增长期], [投资, 要点], [行业...</td>\n",
       "    </tr>\n",
       "    <tr>\n",
       "      <th>2</th>\n",
       "      <td>181901</td>\n",
       "      <td>002092</td>\n",
       "      <td>2010-01-04</td>\n",
       "      <td>0.030815</td>\n",
       "      <td>0.018962</td>\n",
       "      <td>0.055390</td>\n",
       "      <td>[泰ns, 化学n, 发布v, 准东ns, 井田nr, 勘探vn, 报告n, 煤炭n, 开发...</td>\n",
       "      <td>[[中, 泰, 化学, 发布, 准东, 一, 井田, 勘探, 报告], [煤炭, 开发, 再...</td>\n",
       "    </tr>\n",
       "  </tbody>\n",
       "</table>\n",
       "</div>"
      ],
      "text/plain": [
       "       ID SecuCode       date   specret  specret_2d  specret_tp2-tp6  \\\n",
       "0  181899   600323 2010-01-04  0.006658   -0.001522        -0.030300   \n",
       "1  181900   002024 2010-01-04 -0.004292   -0.022783        -0.047744   \n",
       "2  181901   002092 2010-01-04  0.030815    0.018962         0.055390   \n",
       "\n",
       "                                       jieba_content  \\\n",
       "0  [南海发展nt, 水价n, 如期t, 上调v, 增厚v, 业绩n, 约d, 事项n, 公司n...   \n",
       "1  [苏宁ns, 电器n, 内外s, 兼修v, 进入v, 新一轮nz, 增长期n, 投资vn, ...   \n",
       "2  [泰ns, 化学n, 发布v, 准东ns, 井田nr, 勘探vn, 报告n, 煤炭n, 开发...   \n",
       "\n",
       "                                      jieba_sentence  \n",
       "0  [[南海发展, 水价, 如期, 上调], [增厚, 业绩, 约], [事项], [公司, 今...  \n",
       "1  [[苏宁, 电器, 内外, 兼修, 进入, 新一轮, 增长期], [投资, 要点], [行业...  \n",
       "2  [[中, 泰, 化学, 发布, 准东, 一, 井田, 勘探, 报告], [煤炭, 开发, 再...  "
      ]
     },
     "execution_count": 45,
     "metadata": {},
     "output_type": "execute_result"
    }
   ],
   "source": [
    "merged_data = merged_data[['ID','SecuCode','date','specret','specret_2d','specret_tp2-tp6','jieba_content','jieba_sentence']]\n",
    "merged_data.head(3)"
   ]
  },
  {
   "cell_type": "code",
   "execution_count": 46,
   "id": "679e0c7c",
   "metadata": {},
   "outputs": [],
   "source": [
    "merged_data.jieba_sentence = merged_data.jieba_sentence.map(list)"
   ]
  },
  {
   "cell_type": "code",
   "execution_count": 48,
   "id": "d2b2500e",
   "metadata": {},
   "outputs": [
    {
     "data": {
      "text/plain": [
       "(497665, 8)"
      ]
     },
     "execution_count": 48,
     "metadata": {},
     "output_type": "execute_result"
    }
   ],
   "source": [
    "merged_data.shape"
   ]
  },
  {
   "cell_type": "code",
   "execution_count": 47,
   "id": "482a4449",
   "metadata": {},
   "outputs": [],
   "source": [
    "merged_data.to_parquet('D:/michael/full_version_data/preprocessed_data_2.parquet.gzip')"
   ]
  },
  {
   "cell_type": "code",
   "execution_count": null,
   "id": "7ba2c2dc",
   "metadata": {},
   "outputs": [],
   "source": []
  }
 ],
 "metadata": {
  "kernelspec": {
   "display_name": "Python 3",
   "language": "python",
   "name": "python3"
  },
  "language_info": {
   "codemirror_mode": {
    "name": "ipython",
    "version": 3
   },
   "file_extension": ".py",
   "mimetype": "text/x-python",
   "name": "python",
   "nbconvert_exporter": "python",
   "pygments_lexer": "ipython3",
   "version": "3.7.9"
  }
 },
 "nbformat": 4,
 "nbformat_minor": 5
}
