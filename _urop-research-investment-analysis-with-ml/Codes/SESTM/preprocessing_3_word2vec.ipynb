{
 "cells": [
  {
   "cell_type": "markdown",
   "id": "b40bde98-2b29-4518-9a9f-49bb6b9656b0",
   "metadata": {},
   "source": [
    "# Preprocessing 3\n",
    "Investment Analysis with Machine Learning\\\n",
    "UROP 1100E (Man Yin Michael YEUNG, 2021 Fall)"
   ]
  },
  {
   "cell_type": "code",
   "execution_count": 1,
   "id": "4892b9ef-7702-49ea-9a9f-9cbd015c9c7c",
   "metadata": {},
   "outputs": [],
   "source": [
    "import pandas as pd\n",
    "import numpy as np\n",
    "import re\n",
    "import csv"
   ]
  },
  {
   "cell_type": "code",
   "execution_count": 2,
   "id": "83a5ee12-9b8d-47e0-8d20-037e93c360dd",
   "metadata": {},
   "outputs": [],
   "source": [
    "cols = ['word']\n",
    "for i in range(1,301): cols.append('X'+str(i))\n",
    "vec_data = pd.read_csv('C:/UROP/full_version_data/sgns.financial.word',\\\n",
    "                       sep=' ', quoting=csv.QUOTE_NONE, encoding=\"utf8\", skiprows=1, index_col=False, names=cols)"
   ]
  },
  {
   "cell_type": "code",
   "execution_count": 3,
   "id": "de89ec48-e0bf-4e50-b6ea-f2e6fd72c761",
   "metadata": {},
   "outputs": [],
   "source": [
    "vec_data.index = vec_data.word\n",
    "vec_data = vec_data.drop(columns=['word'])"
   ]
  },
  {
   "cell_type": "code",
   "execution_count": 4,
   "id": "8455c6b2-4c02-4adc-9fcc-eb8e02790de5",
   "metadata": {},
   "outputs": [],
   "source": [
    "vec_dict = vec_data[:100000].transpose().to_dict(orient='list')"
   ]
  },
  {
   "cell_type": "code",
   "execution_count": 5,
   "id": "aadea67c-17a9-413c-921e-12eaf5c0f683",
   "metadata": {},
   "outputs": [],
   "source": [
    "text_data = pd.read_parquet('C:/UROP/full_version_data/preprocessed_data_1.parquet.gzip')"
   ]
  },
  {
   "cell_type": "code",
   "execution_count": 6,
   "id": "c251e251-778b-4668-aa16-7a8c747bc324",
   "metadata": {},
   "outputs": [
    {
     "data": {
      "text/html": [
       "<div>\n",
       "<style scoped>\n",
       "    .dataframe tbody tr th:only-of-type {\n",
       "        vertical-align: middle;\n",
       "    }\n",
       "\n",
       "    .dataframe tbody tr th {\n",
       "        vertical-align: top;\n",
       "    }\n",
       "\n",
       "    .dataframe thead th {\n",
       "        text-align: right;\n",
       "    }\n",
       "</style>\n",
       "<table border=\"1\" class=\"dataframe\">\n",
       "  <thead>\n",
       "    <tr style=\"text-align: right;\">\n",
       "      <th></th>\n",
       "      <th>ID</th>\n",
       "      <th>SecuCode</th>\n",
       "      <th>date</th>\n",
       "      <th>specret</th>\n",
       "      <th>specret_2d</th>\n",
       "      <th>specret_tp2-tp6</th>\n",
       "      <th>jieba_content</th>\n",
       "    </tr>\n",
       "  </thead>\n",
       "  <tbody>\n",
       "    <tr>\n",
       "      <th>0</th>\n",
       "      <td>181899</td>\n",
       "      <td>600323</td>\n",
       "      <td>2010-01-04</td>\n",
       "      <td>0.006658</td>\n",
       "      <td>-0.001522</td>\n",
       "      <td>-0.030300</td>\n",
       "      <td>[南海发展nt, 水价n, 如期t, 上调v, 增厚v, 业绩n, 约d, 事项n, 公司n...</td>\n",
       "    </tr>\n",
       "    <tr>\n",
       "      <th>1</th>\n",
       "      <td>181900</td>\n",
       "      <td>002024</td>\n",
       "      <td>2010-01-04</td>\n",
       "      <td>-0.004292</td>\n",
       "      <td>-0.022783</td>\n",
       "      <td>-0.047744</td>\n",
       "      <td>[苏宁ns, 电器n, 内外s, 兼修v, 进入v, 新一轮nz, 增长期n, 投资vn, ...</td>\n",
       "    </tr>\n",
       "    <tr>\n",
       "      <th>2</th>\n",
       "      <td>181901</td>\n",
       "      <td>002092</td>\n",
       "      <td>2010-01-04</td>\n",
       "      <td>0.030815</td>\n",
       "      <td>0.018962</td>\n",
       "      <td>0.055390</td>\n",
       "      <td>[泰ns, 化学n, 发布v, 准东ns, 井田nr, 勘探vn, 报告n, 煤炭n, 开发...</td>\n",
       "    </tr>\n",
       "    <tr>\n",
       "      <th>3</th>\n",
       "      <td>181939</td>\n",
       "      <td>002092</td>\n",
       "      <td>2010-01-04</td>\n",
       "      <td>0.030815</td>\n",
       "      <td>0.018962</td>\n",
       "      <td>0.055390</td>\n",
       "      <td>[泰ns, 化学n, 打造v, 新疆ns, 资源n, 平台n, 公司n, 煤矿n, 开发v,...</td>\n",
       "    </tr>\n",
       "    <tr>\n",
       "      <th>4</th>\n",
       "      <td>181902</td>\n",
       "      <td>000568</td>\n",
       "      <td>2010-01-04</td>\n",
       "      <td>-0.033701</td>\n",
       "      <td>-0.045938</td>\n",
       "      <td>-0.036113</td>\n",
       "      <td>[泸州ns, 老窖n, 公司n, 长期d, 竞争力n, 值得v, 期待v, 白酒n, 行业n...</td>\n",
       "    </tr>\n",
       "  </tbody>\n",
       "</table>\n",
       "</div>"
      ],
      "text/plain": [
       "       ID SecuCode        date   specret  specret_2d  specret_tp2-tp6  \\\n",
       "0  181899   600323  2010-01-04  0.006658   -0.001522        -0.030300   \n",
       "1  181900   002024  2010-01-04 -0.004292   -0.022783        -0.047744   \n",
       "2  181901   002092  2010-01-04  0.030815    0.018962         0.055390   \n",
       "3  181939   002092  2010-01-04  0.030815    0.018962         0.055390   \n",
       "4  181902   000568  2010-01-04 -0.033701   -0.045938        -0.036113   \n",
       "\n",
       "                                       jieba_content  \n",
       "0  [南海发展nt, 水价n, 如期t, 上调v, 增厚v, 业绩n, 约d, 事项n, 公司n...  \n",
       "1  [苏宁ns, 电器n, 内外s, 兼修v, 进入v, 新一轮nz, 增长期n, 投资vn, ...  \n",
       "2  [泰ns, 化学n, 发布v, 准东ns, 井田nr, 勘探vn, 报告n, 煤炭n, 开发...  \n",
       "3  [泰ns, 化学n, 打造v, 新疆ns, 资源n, 平台n, 公司n, 煤矿n, 开发v,...  \n",
       "4  [泸州ns, 老窖n, 公司n, 长期d, 竞争力n, 值得v, 期待v, 白酒n, 行业n...  "
      ]
     },
     "execution_count": 6,
     "metadata": {},
     "output_type": "execute_result"
    }
   ],
   "source": [
    "text_data.head()"
   ]
  },
  {
   "cell_type": "code",
   "execution_count": 7,
   "id": "fee485d5-8790-4585-9dd4-201e7590b26c",
   "metadata": {},
   "outputs": [],
   "source": [
    "vec_cols = []\n",
    "for i in range(1,301): vec_cols.append('X'+str(i))"
   ]
  },
  {
   "cell_type": "code",
   "execution_count": 13,
   "id": "34554cb5-1868-4cc6-803b-2fbab26fada1",
   "metadata": {},
   "outputs": [],
   "source": [
    "import ray"
   ]
  },
  {
   "cell_type": "code",
   "execution_count": 21,
   "id": "69c6f80a-1130-44ed-b45e-c2d8188e7f28",
   "metadata": {},
   "outputs": [],
   "source": [
    "def get_chin(word): # remove POS\n",
    "    return str(re.findall(r'[\\u4e00-\\u9fff]+', word))[2:-2]"
   ]
  },
  {
   "cell_type": "code",
   "execution_count": 22,
   "id": "17598c64-2996-4197-9301-ace4c970c998",
   "metadata": {},
   "outputs": [],
   "source": [
    "def jbc2vec(jbc):\n",
    "    jbc_vec = np.zeros(300)\n",
    "    if len(jbc) == 0: return jbc_vec\n",
    "    jbc = list(map(get_chin, jbc))\n",
    "    for word in jbc: \n",
    "        if word in exist_words:\n",
    "            jbc_vec += np.array(vec_dict[word])\n",
    "    return list(jbc_vec / len(jbc))"
   ]
  },
  {
   "cell_type": "code",
   "execution_count": 18,
   "id": "bd4d2543-aa79-4d69-b5d4-c84ee531cd18",
   "metadata": {},
   "outputs": [],
   "source": [
    "exist_words = list(vec_dict.keys())"
   ]
  },
  {
   "cell_type": "code",
   "execution_count": 19,
   "id": "ceee1448-7af7-4a01-b154-ac053dd73412",
   "metadata": {},
   "outputs": [],
   "source": [
    "x_cols = []\n",
    "for i in range(300): x_cols.append('X'+str(i+1))"
   ]
  },
  {
   "cell_type": "code",
   "execution_count": null,
   "id": "8bd5f72b-95dd-4972-a9f8-796ddedb80cb",
   "metadata": {},
   "outputs": [],
   "source": [
    "s = text_data['jieba_content'].copy().apply(jbc2vec)\n",
    "temp_df = pd.DataFrame.from_dict(dict(zip(s.index, s.values))).T\n",
    "temp_df.columns = x_cols\n",
    "temp_df.to_parquet('all_vecs_raw.parquet.gzip')"
   ]
  },
  {
   "cell_type": "code",
   "execution_count": null,
   "id": "362cde95-6c6a-4478-b73a-5ec9168fa3dc",
   "metadata": {},
   "outputs": [],
   "source": [
    "text_data.join(temp_df)"
   ]
  },
  {
   "cell_type": "code",
   "execution_count": null,
   "id": "46ba4ba6-d390-47c5-b9a0-5ab7767f0a1c",
   "metadata": {},
   "outputs": [],
   "source": []
  },
  {
   "cell_type": "code",
   "execution_count": null,
   "id": "38123f2f-627d-4d80-8cf6-1ca78cf39fca",
   "metadata": {},
   "outputs": [],
   "source": []
  },
  {
   "cell_type": "code",
   "execution_count": null,
   "id": "ccbe44b3-8ffa-4d3d-a910-7c0a04e8479d",
   "metadata": {},
   "outputs": [],
   "source": [
    "df_col_str = 'text_data[\"X1\"]'\n",
    "for i in range(2,301): df_col_str += ',text_data[\"X{Num}\"]'.format(Num=i)"
   ]
  },
  {
   "cell_type": "code",
   "execution_count": null,
   "id": "4f9b117e-8dff-435a-9d31-e10286aefcb4",
   "metadata": {},
   "outputs": [],
   "source": [
    "text_data['X_all'] = text_data['jieba_content'].parallel_apply(jbc2vec)"
   ]
  },
  {
   "cell_type": "code",
   "execution_count": null,
   "id": "42eb0006-3ac9-4323-b86e-e4bed3f7e714",
   "metadata": {},
   "outputs": [],
   "source": [
    "exec('{Cols}=zip(*text_data[\"jieba_content\"].map(jbc2vec))'.format(Cols=df_col_str))\n",
    "text_data = text_data.drop(columns=['jieba_content'])\n",
    "text_data.to_parquet('D:/michael/full_version_data/preprocessed_data_3.parquet.gzip')"
   ]
  },
  {
   "cell_type": "code",
   "execution_count": 11,
   "id": "547ea7b5-d68a-4701-960f-bd7f40d7c21e",
   "metadata": {},
   "outputs": [],
   "source": [
    "seg_train = text_data[:100].copy()\n",
    "seg_test = text_data[10000:10100].copy()"
   ]
  },
  {
   "cell_type": "code",
   "execution_count": 12,
   "id": "867dc45f-464b-48eb-b3b6-43bf740ebe9e",
   "metadata": {},
   "outputs": [],
   "source": [
    "df_col_str_train = 'seg_train[\"X1\"]'\n",
    "for i in range(2,301): df_col_str_train += ',seg_train[\"X{Num}\"]'.format(Num=i)"
   ]
  },
  {
   "cell_type": "code",
   "execution_count": null,
   "id": "2ae7f6fc-e516-4080-8542-f4f0b0d31bd6",
   "metadata": {},
   "outputs": [],
   "source": [
    "exec('{Cols}=zip(*seg_train[\"jieba_content\"].map(jbc2vec))'.format(Cols=df_col_str_train))"
   ]
  },
  {
   "cell_type": "code",
   "execution_count": null,
   "id": "b2f25687-311d-4073-b273-9041a02a56b6",
   "metadata": {},
   "outputs": [],
   "source": [
    "exec('{Cols}=zip(*text_data[\"jieba_content\"].map(jbc2vec))'.format(Cols=df_col_str_test))"
   ]
  },
  {
   "cell_type": "code",
   "execution_count": null,
   "id": "e1ef4fdb-c77a-4ae7-ba71-4c371e93a5e7",
   "metadata": {},
   "outputs": [],
   "source": []
  }
 ],
 "metadata": {
  "kernelspec": {
   "display_name": "Python 3",
   "language": "python",
   "name": "python3"
  },
  "language_info": {
   "codemirror_mode": {
    "name": "ipython",
    "version": 3
   },
   "file_extension": ".py",
   "mimetype": "text/x-python",
   "name": "python",
   "nbconvert_exporter": "python",
   "pygments_lexer": "ipython3",
   "version": "3.7.9"
  }
 },
 "nbformat": 4,
 "nbformat_minor": 5
}
